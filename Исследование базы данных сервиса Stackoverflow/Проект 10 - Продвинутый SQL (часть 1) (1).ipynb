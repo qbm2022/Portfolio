{
 "cells": [
  {
   "cell_type": "markdown",
   "id": "c933d0b3",
   "metadata": {},
   "source": [
    "## Описание данных"
   ]
  },
  {
   "cell_type": "markdown",
   "id": "0680bef7",
   "metadata": {},
   "source": [
    "Проект состоит из двух частей: в первой вы решите несколько задач в SQL-тренажёре, а во второй — напишите SQL-запросы в Jupyter Notebook с помощью библиотеки SQLAlchemy. Задачи второй части проверят вручную.\n",
    "В самостоятельном проекте вы будете работать с базой данных StackOverflow — сервиса вопросов и ответов о программировании. StackOverflow похож на социальную сеть — пользователи сервиса задают вопросы, отвечают на посты, оставляют комментарии и ставят оценки другим ответам.\n",
    "Вы будете работать с версией базы, где хранятся данные о постах за 2008 год, но в таблицах вы найдёте информацию и о более поздних оценках, которые эти посты получили. \n"
   ]
  },
  {
   "cell_type": "markdown",
   "id": "93f2c2a7",
   "metadata": {},
   "source": [
    "### Таблица badges\n",
    "\n",
    "Хранит информацию о значках, которые присуждаются за разные достижения. Например, пользователь, правильно ответивший на большое количество вопросов про PostgreSQL, может получить значок postgresql. \n",
    "\n",
    "Поле\tОписание\n",
    "\n",
    "id\tИдентификатор значка, первичный ключ таблицы\n",
    "\n",
    "name\tНазвание значка\n",
    "\n",
    "user_id\tИдентификатор пользователя, которому присвоили значок, внешний ключ, отсылающий к таблице users\n",
    "\n",
    "creation_date\tДата присвоения значка\n"
   ]
  },
  {
   "cell_type": "markdown",
   "id": "fcca3399",
   "metadata": {},
   "source": [
    "### Таблица post_types\n",
    "\n",
    "Содержит информацию о типе постов. Их может быть два:\n",
    "\n",
    "•\tQuestion — пост с вопросом;\n",
    "\n",
    "•\tAnswer — пост с ответом.\n",
    "\n",
    "Поле\tОписание\n",
    "\n",
    "id\tИдентификатор поста, первичный ключ таблицы\n",
    "\n",
    "type\tТип поста\n"
   ]
  },
  {
   "cell_type": "markdown",
   "id": "538e5407",
   "metadata": {},
   "source": [
    "### Таблица posts\n",
    "\n",
    "Содержит информацию о постах.\n",
    "\n",
    "Поле\tОписание\n",
    "\n",
    "id\tИдентификатор поста, первичный ключ таблицы\n",
    "\n",
    "title\tЗаголовок поста\n",
    "\n",
    "creation_date\tДата создания поста\n",
    "\n",
    "favorites_count\tЧисло, которое показывает, сколько раз пост добавили в «Закладки»\n",
    "\n",
    "last_activity_date\tДата последнего действия в посте, например комментария\n",
    "\n",
    "last_edit_date\tДата последнего изменения поста\n",
    "\n",
    "user_id\tИдентификатор пользователя, который создал пост, внешний ключ к таблице users\n",
    "\n",
    "parent_id\tЕсли пост написали в ответ на другую публикацию, в это поле попадёт идентификатор поста с вопросом\n",
    "\n",
    "post_type_id\tИдентификатор типа поста, внешний ключ к таблице post_types\n",
    "\n",
    "score\tКоличество очков, которое набрал пост\n",
    "\n",
    "views_count\tКоличество просмотров\n"
   ]
  },
  {
   "cell_type": "markdown",
   "id": "f080b304",
   "metadata": {},
   "source": [
    "### Таблица users\n",
    "\n",
    "Содержит информацию о пользователях.\n",
    "\n",
    "Поле\tОписание\n",
    "\n",
    "id\tИдентификатор пользователя, первичный ключ таблицы\n",
    "\n",
    "creation_date\tДата регистрации пользователя\n",
    "\n",
    "display_name\tИмя пользователя\n",
    "\n",
    "last_access_date\tДата последнего входа\n",
    "\n",
    "location\tМестоположение\n",
    "\n",
    "reputation\tОчки репутации, которые получают за хорошие вопросы и полезные ответы\n",
    "\n",
    "views\tЧисло просмотров профиля пользователя\n"
   ]
  },
  {
   "cell_type": "markdown",
   "id": "908f0634",
   "metadata": {},
   "source": [
    "### Таблица vote_types\n",
    "\n",
    "Содержит информацию о типах голосов. Голос — это метка, которую пользователи ставят посту. Типов бывает несколько: \n",
    "\n",
    "•\tUpMod — такую отметку получают посты с вопросами или ответами, которые пользователи посчитали уместными и полезными.\n",
    "\n",
    "•\tDownMod — такую отметку получают посты, которые показались пользователям наименее полезными.\n",
    "\n",
    "•\tClose — такую метку ставят опытные пользователи сервиса, если заданный вопрос нужно доработать или он вообще не подходит для платформы.\n",
    "\n",
    "•\tOffensive — такую метку могут поставить, если пользователь ответил на вопрос в грубой и оскорбительной манере, например, указав на неопытность автора поста.\n",
    "\n",
    "•\tSpam — такую метку ставят в случае, если пост пользователя выглядит откровенной рекламой.\n",
    "\n",
    "Поле\tОписание\n",
    "\n",
    "id\tИдентификатор типа голоса, первичный ключ\n",
    "\n",
    "name\tНазвание метки\n"
   ]
  },
  {
   "cell_type": "markdown",
   "id": "34375853",
   "metadata": {},
   "source": [
    "### Таблица votes\n",
    "\n",
    "Поле                                                  Описание\n",
    "\n",
    "Id                     Идентификатор голоса, первичный ключ\n",
    "\n",
    "post_id            Идентификатор поста, внешний ключ к таблице posts\n",
    "\n",
    "user_id    Идентификатор пользователя, который поставил посту голос, внешний    ключ к таблице users\n",
    "\n",
    "bounty_amount    Сумма вознаграждения, которое назначают, чтобы привлечь внимание к посту\n",
    "\n",
    "vote_type_id     Идентификатор типа голоса, внешний ключ к таблице vote_types\n",
    "\n",
    "creation_date      Дата назначения голоса\n"
   ]
  },
  {
   "cell_type": "markdown",
   "id": "0792aece",
   "metadata": {},
   "source": [
    "1. Найдите количество вопросов, которые набрали более 300 очков или как минимум 100 раз были добавлены в \"Закладки\"."
   ]
  },
  {
   "cell_type": "code",
   "execution_count": null,
   "id": "f0a92496",
   "metadata": {},
   "outputs": [],
   "source": [
    "SELECT COUNT(pt.id) AS cnt\n",
    "FROM stackoverflow.post_types pt\n",
    "JOIN stackoverflow.posts p ON pt.id=p.post_type_id\n",
    "WHERE pt.type = 'Question'\n",
    "      AND p.score>300 OR p.favorites_count>=100;"
   ]
  },
  {
   "cell_type": "markdown",
   "id": "0b319d15",
   "metadata": {},
   "source": [
    "2. Сколько в среднем в день задавали вопросов с 1 по 18 ноября 2008 включительно? Результат округлите до целого числа."
   ]
  },
  {
   "cell_type": "code",
   "execution_count": null,
   "id": "f329d948",
   "metadata": {},
   "outputs": [],
   "source": [
    "SELECT ROUND(AVG(q.count),0)\n",
    "FROM\n",
    "(SELECT COUNT(id),\n",
    "        creation_date::date\n",
    "FROM stackoverflow.posts \n",
    "WHERE post_type_id =1\n",
    "GROUP BY creation_date::date\n",
    "HAVING creation_date::date BETWEEN '2008-11-01' AND '2008-11-18') AS q;"
   ]
  },
  {
   "cell_type": "markdown",
   "id": "ebefcb4c",
   "metadata": {},
   "source": [
    "3. Сколько пользователей получили значки сразу в день регистрации? Выведите количество уникальных пользователей."
   ]
  },
  {
   "cell_type": "code",
   "execution_count": null,
   "id": "00395de1",
   "metadata": {},
   "outputs": [],
   "source": [
    "SELECT COUNT(DISTINCT b.user_id)\n",
    "FROM stackoverflow.badges b\n",
    "JOIN stackoverflow.users u ON u.id=b.user_id\n",
    "WHERE u.creation_date::date = b.creation_date::date;"
   ]
  },
  {
   "cell_type": "markdown",
   "id": "9ea69c79",
   "metadata": {},
   "source": [
    "4. Сколько уникальных постов пользователя с именем Joel Coehoorn получили хотя бы один голос?"
   ]
  },
  {
   "cell_type": "code",
   "execution_count": null,
   "id": "053cfd04",
   "metadata": {},
   "outputs": [],
   "source": [
    "SELECT COUNT(pt.id)\n",
    "FROM\n",
    "(SELECT p.id\n",
    "FROM stackoverflow.posts p\n",
    "JOIN stackoverflow.votes v ON p.id = v.post_id\n",
    "JOIN stackoverflow.users u ON p.user_id = u.id\n",
    "WHERE u.display_name LIKE 'Joel Coehoorn' AND v.id>0\n",
    "GROUP BY p.id) AS pt;"
   ]
  },
  {
   "cell_type": "markdown",
   "id": "da4547f6",
   "metadata": {},
   "source": [
    "5. Выгрузите все поля таблицы vote_types. Добавьте к таблице поле rank, в которое войдут номера записей в обратном порядке. Таблица должна быть отсортирована по полю id."
   ]
  },
  {
   "cell_type": "code",
   "execution_count": null,
   "id": "202ef0d0",
   "metadata": {},
   "outputs": [],
   "source": [
    "SELECT *,\n",
    "       ROW_NUMBER() OVER(ORDER BY id DESC) AS rank\n",
    "FROM stackoverflow.vote_types\n",
    "ORDER BY id;"
   ]
  },
  {
   "cell_type": "markdown",
   "id": "4cc18f42",
   "metadata": {},
   "source": [
    "6. Отберите 10 пользователей, которые поставили больше всего голосов типа Close. Отобразите таблицу из двух полей: идентификатором пользователя и количеством голосов. Отсортируйте данные сначала по убыванию количества голосов, потом по убыванию значения идентификатора пользователя."
   ]
  },
  {
   "cell_type": "code",
   "execution_count": null,
   "id": "98251898",
   "metadata": {},
   "outputs": [],
   "source": [
    "SELECT *\n",
    "FROM (SELECT v.user_id,\n",
    "             COUNT(vt.id) AS vt_cnt\n",
    "     FROM stackoverflow.votes v\n",
    "     JOIN stackoverflow.vote_types vt ON vt.id=v.vote_type_id\n",
    "     WHERE vt.name='Close' \n",
    "     GROUP BY v.user_id\n",
    "     ORDER BY vt_cnt DESC\n",
    "     LIMIT 10) AS uv\n",
    "ORDER BY uv.vt_cnt DESC, uv.user_id DESC; "
   ]
  },
  {
   "cell_type": "markdown",
   "id": "69048d39",
   "metadata": {},
   "source": [
    "7. Отберите 10 пользователей по количеству значков, полученных в период с 15 ноября по 15 декабря 2008 года включительно.\n",
    "\n",
    "Отобразите несколько полей:\n",
    "\n",
    "идентификатор пользователя;\n",
    "\n",
    "число значков;\n",
    "\n",
    "место в рейтинге — чем больше значков, тем выше рейтинг.\n",
    "\n",
    "Пользователям, которые набрали одинаковое количество значков, присвойте одно и то же место в рейтинге.\n",
    "Отсортируйте записи по количеству значков по убыванию, а затем по возрастанию значения идентификатора пользователя."
   ]
  },
  {
   "cell_type": "code",
   "execution_count": null,
   "id": "5d4ad3ce",
   "metadata": {},
   "outputs": [],
   "source": [
    "SELECT *,\n",
    "       DENSE_RANK() OVER(ORDER BY b.b_cnt DESC) AS rating\n",
    "FROM (SELECT user_id,\n",
    "             COUNT(id) AS b_cnt\n",
    "     FROM stackoverflow.badges\n",
    "     WHERE creation_date::date BETWEEN '2008-11-15' AND '2008-12-15'\n",
    "     GROUP BY user_id\n",
    "     ORDER BY b_cnt DESC, user_id\n",
    "     LIMIT 10) AS b"
   ]
  },
  {
   "cell_type": "markdown",
   "id": "71475f35",
   "metadata": {},
   "source": [
    "8. Сколько в среднем очков получает пост каждого пользователя?\n",
    "\n",
    "Сформируйте таблицу из следующих полей:\n",
    "\n",
    "заголовок поста;\n",
    "\n",
    "идентификатор пользователя;\n",
    "\n",
    "число очков поста;\n",
    "\n",
    "среднее число очков пользователя за пост, округлённое до целого числа.\n",
    "\n",
    "Не учитывайте посты без заголовка, а также те, что набрали ноль очков."
   ]
  },
  {
   "cell_type": "code",
   "execution_count": null,
   "id": "123bf4de",
   "metadata": {},
   "outputs": [],
   "source": [
    "WITH cs AS\n",
    "(SELECT ROUND(AVG(score),0) AS avg_score,\n",
    "        user_id\n",
    "FROM stackoverflow.posts \n",
    "WHERE score <> 0 AND title IS NOT NULL\n",
    "GROUP BY user_id)\n",
    "SELECT p.title,\n",
    "       cs.user_id,\n",
    "       p.score,\n",
    "       cs.avg_score\n",
    "FROM cs\n",
    "JOIN stackoverflow.posts p ON cs.user_id=p.user_id              \n",
    "WHERE p.score <> 0 AND p.title IS NOT NULL;"
   ]
  },
  {
   "cell_type": "markdown",
   "id": "5d1ce5f5",
   "metadata": {},
   "source": [
    "9. Отобразите заголовки постов, которые были написаны пользователями, получившими более 1000 значков. Посты без заголовков не должны попасть в список."
   ]
  },
  {
   "cell_type": "code",
   "execution_count": null,
   "id": "9bac196e",
   "metadata": {},
   "outputs": [],
   "source": [
    "SELECT title\n",
    "FROM stackoverflow.posts\n",
    "WHERE user_id IN(SELECT user_id\n",
    "                FROM stackoverflow.badges\n",
    "                GROUP BY user_id\n",
    "                HAVING COUNT(id)>1000)\n",
    "               AND title IS NOT NULL;"
   ]
  },
  {
   "cell_type": "markdown",
   "id": "223487c4",
   "metadata": {},
   "source": [
    "10. Напишите запрос, который выгрузит данные о пользователях из Канады (англ. Canada). Разделите пользователей на три группы в зависимости от количества просмотров их профилей:\n",
    "\n",
    "пользователям с числом просмотров больше либо равным 350 присвойте группу 1;\n",
    "\n",
    "пользователям с числом просмотров меньше 350, но больше либо равно 100 — группу 2;\n",
    "\n",
    "пользователям с числом просмотров меньше 100 — группу 3.\n",
    "\n",
    "Отобразите в итоговой таблице идентификатор пользователя, количество просмотров профиля и группу. Пользователи с нулевым количеством просмотров не должны войти в итоговую таблицу."
   ]
  },
  {
   "cell_type": "code",
   "execution_count": null,
   "id": "eb4cdbe2",
   "metadata": {},
   "outputs": [],
   "source": [
    "SELECT id,\n",
    "       views,\n",
    "       CASE \n",
    "          WHEN views >= 350 THEN 1\n",
    "          WHEN views < 100 THEN 3\n",
    "          ELSE 2\n",
    "       END AS group\n",
    "FROM stackoverflow.users\n",
    "WHERE location LIKE '%Canada%' AND views >0;"
   ]
  },
  {
   "cell_type": "markdown",
   "id": "149bd480",
   "metadata": {},
   "source": [
    "11. Дополните предыдущий запрос. Отобразите лидеров каждой группы — пользователей, которые набрали максимальное число просмотров в своей группе. Выведите поля с идентификатором пользователя, группой и количеством просмотров. Отсортируйте таблицу по убыванию просмотров, а затем по возрастанию значения идентификатора."
   ]
  },
  {
   "cell_type": "code",
   "execution_count": null,
   "id": "0da3938e",
   "metadata": {},
   "outputs": [],
   "source": [
    "WITH grp AS (SELECT g.id,\n",
    "                      g.views,\n",
    "                      g.group,\n",
    "                      MAX(g.views) OVER(PARTITION BY g.group) AS max\n",
    "               FROM (SELECT id,\n",
    "                            views,\n",
    "                            CASE \n",
    "                               WHEN views >= 350 THEN 1\n",
    "                               WHEN views < 100 THEN 3\n",
    "                               ELSE 2\n",
    "                           END AS group\n",
    "                     FROM stackoverflow.users\n",
    "                     WHERE location LIKE '%Canada%' AND views >0) AS g)\n",
    "SELECT grp.id,\n",
    "       grp.group,\n",
    "       grp.max\n",
    "FROM grp\n",
    "WHERE grp.views=grp.max\n",
    "ORDER BY grp.views DESC,grp.id;"
   ]
  },
  {
   "cell_type": "markdown",
   "id": "9db8f6e6",
   "metadata": {},
   "source": [
    "12. Посчитайте ежедневный прирост новых пользователей в ноябре 2008 года. Сформируйте таблицу с полями:\n",
    "\n",
    "номер дня;\n",
    "\n",
    "число пользователей, зарегистрированных в этот день;\n",
    "\n",
    "сумму пользователей с накоплением."
   ]
  },
  {
   "cell_type": "code",
   "execution_count": null,
   "id": "50e66b57",
   "metadata": {},
   "outputs": [],
   "source": [
    "SELECT *,\n",
    "       SUM(cu.cnt_us) OVER(ORDER BY cu.days) AS cnt_users\n",
    "FROM\n",
    "(SELECT EXTRACT(DAY FROM creation_date::date) AS days,\n",
    "       COUNT(id) AS cnt_us\n",
    "FROM stackoverflow.users\n",
    "WHERE creation_date::date BETWEEN '2008-11-01' AND '2008-11-30'\n",
    "GROUP BY EXTRACT(DAY FROM creation_date::date)) AS cu;"
   ]
  },
  {
   "cell_type": "markdown",
   "id": "de6ab26c",
   "metadata": {},
   "source": [
    "13. Для каждого пользователя, который написал хотя бы один пост, найдите интервал между регистрацией и временем создания первого поста. Отобразите:\n",
    "\n",
    "идентификатор пользователя;\n",
    "\n",
    "разницу во времени между регистрацией и первым постом."
   ]
  },
  {
   "cell_type": "code",
   "execution_count": null,
   "id": "007337fe",
   "metadata": {},
   "outputs": [],
   "source": [
    "WITH dt AS (SELECT DISTINCT user_id,\n",
    "                   MIN(creation_date) OVER(PARTITION BY user_id) AS min_dt\n",
    "           FROM stackoverflow.posts)\n",
    "SELECT dt.user_id,\n",
    "       (dt.min_dt - u.creation_date) AS dif\n",
    "FROM stackoverflow.users AS u\n",
    "JOIN dt ON u.id=dt.user_id;"
   ]
  },
  {
   "cell_type": "markdown",
   "id": "5c47b047",
   "metadata": {},
   "source": [
    "В этой части проекта вам нужно написать несколько SQL-запросов в Jupyter Notebook. Эти задания проверят вручную, и вы получите комментарии к составленным запросам. \n",
    "\n",
    "Не забудьте подключиться к базе с помощью SQLAlchemy. Вспомните инструкцию из урока 11 «Когортный анализ. Представление результатов» в теме 4 «Установка и настройка базы данных и клиента базы данных». Необходимые данные находятся в таблицах схемы stackoverflow.  \n",
    "\n",
    "Некоторые задания включают дополнительные вопросы — не пропустите их. На часть вопросов можно ответить текстом, а для некоторых понадобится визуализация. Помните, что результат запроса можно выгрузить в датафрейм. \n",
    "\n",
    "Чтобы ожидаемый результат было легче представить, мы добавили к каждому заданию небольшой фрагмент итоговой таблицы. В запросах вы можете использовать любые подходящие названия полей."
   ]
  }
 ],
 "metadata": {
  "kernelspec": {
   "display_name": "Python 3 (ipykernel)",
   "language": "python",
   "name": "python3"
  },
  "language_info": {
   "codemirror_mode": {
    "name": "ipython",
    "version": 3
   },
   "file_extension": ".py",
   "mimetype": "text/x-python",
   "name": "python",
   "nbconvert_exporter": "python",
   "pygments_lexer": "ipython3",
   "version": "3.9.12"
  }
 },
 "nbformat": 4,
 "nbformat_minor": 5
}
