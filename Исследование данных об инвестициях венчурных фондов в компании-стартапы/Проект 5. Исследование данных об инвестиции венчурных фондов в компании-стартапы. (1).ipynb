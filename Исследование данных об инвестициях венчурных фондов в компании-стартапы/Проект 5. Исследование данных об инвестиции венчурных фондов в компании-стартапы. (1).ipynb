{
 "cells": [
  {
   "cell_type": "markdown",
   "id": "4c99b9aa",
   "metadata": {},
   "source": [
    "### Исследование данных об инвестиции венчурных фондов в компании-стартапы."
   ]
  },
  {
   "cell_type": "markdown",
   "id": "4534d30a",
   "metadata": {},
   "source": [
    "1. Посчитайте, сколько компаний закрылось."
   ]
  },
  {
   "cell_type": "code",
   "execution_count": null,
   "id": "d1b7add6",
   "metadata": {},
   "outputs": [],
   "source": [
    "SELECT COUNT(status)\n",
    "FROM company\n",
    "WHERE status = 'closed';\n"
   ]
  },
  {
   "cell_type": "markdown",
   "id": "a8cd5a77",
   "metadata": {},
   "source": [
    "2. Отобразите количество привлечённых средств для новостных компаний США. Используйте данные из таблицы company. Отсортируйте таблицу по убыванию значений в поле funding_total ."
   ]
  },
  {
   "cell_type": "code",
   "execution_count": null,
   "id": "04421406",
   "metadata": {},
   "outputs": [],
   "source": [
    "SELECT funding_total\n",
    "FROM company\n",
    "WHERE category_code = 'news' \n",
    "      AND country_code = 'USA'\n",
    "ORDER BY funding_total DESC;\n"
   ]
  },
  {
   "cell_type": "markdown",
   "id": "a9e709de",
   "metadata": {},
   "source": [
    "3. Найдите общую сумму сделок по покупке одних компаний другими в долларах. Отберите сделки, которые осуществлялись только за наличные с 2011 по 2013 год включительно."
   ]
  },
  {
   "cell_type": "code",
   "execution_count": null,
   "id": "7feb3d2b",
   "metadata": {},
   "outputs": [],
   "source": [
    "SELECT SUM(price_amount)\n",
    "FROM acquisition\n",
    "WHERE term_code='cash'\n",
    "      AND EXTRACT (YEAR FROM CAST (acquired_at AS date)) BETWEEN '2011' AND '2013'\n"
   ]
  },
  {
   "cell_type": "markdown",
   "id": "2110b737",
   "metadata": {},
   "source": [
    "4. Отобразите имя, фамилию и названия аккаунтов людей в твиттере, у которых названия аккаунтов начинаются на 'Silver'."
   ]
  },
  {
   "cell_type": "code",
   "execution_count": null,
   "id": "35879e49",
   "metadata": {},
   "outputs": [],
   "source": [
    "SELECT first_name,\n",
    "       last_name,\n",
    "       twitter_username\n",
    "FROM people\n",
    "WHERE twitter_username LIKE 'Silver%';\n"
   ]
  },
  {
   "cell_type": "markdown",
   "id": "d42072c2",
   "metadata": {},
   "source": [
    "5. Выведите на экран всю информацию о людях, у которых названия аккаунтов в твиттере содержат подстроку 'money', а фамилия начинается на 'K'."
   ]
  },
  {
   "cell_type": "code",
   "execution_count": null,
   "id": "c0179466",
   "metadata": {},
   "outputs": [],
   "source": [
    "SELECT *\n",
    "FROM people\n",
    "WHERE last_name LIKE 'K%'\n",
    "      AND twitter_username LIKE '%money%';\n"
   ]
  },
  {
   "cell_type": "markdown",
   "id": "d9b2dc77",
   "metadata": {},
   "source": [
    "6. Для каждой страны отобразите общую сумму привлечённых инвестиций, которые получили компании, зарегистрированные в этой стране. Страну, в которой зарегистрирована компания, можно определить по коду страны. Отсортируйте данные по убыванию суммы."
   ]
  },
  {
   "cell_type": "code",
   "execution_count": null,
   "id": "be5f35a3",
   "metadata": {},
   "outputs": [],
   "source": [
    "SELECT country_code,\n",
    "       SUM (funding_total)\n",
    "FROM company\n",
    "GROUP BY country_code\n",
    "ORDER BY SUM (funding_total) DESC;\n"
   ]
  },
  {
   "cell_type": "markdown",
   "id": "233a1904",
   "metadata": {},
   "source": [
    "7. Составьте таблицу, в которую войдёт дата проведения раунда, а также минимальное и максимальное значения суммы инвестиций, привлечённых в эту дату.\n",
    "\n",
    "Оставьте в итоговой таблице только те записи, в которых минимальное значение суммы инвестиций не равно нулю и не равно максимальному значению.\n"
   ]
  },
  {
   "cell_type": "code",
   "execution_count": null,
   "id": "e9593d16",
   "metadata": {},
   "outputs": [],
   "source": [
    "SELECT CAST(funded_at AS date),\n",
    "       MIN (raised_amount),\n",
    "       MAX (raised_amount)\n",
    "FROM funding_round\n",
    "GROUP BY CAST (funded_at AS date)\n",
    "HAVING MIN (raised_amount) <> 0\n",
    "       AND MIN (raised_amount) <> MAX (raised_amount);\n"
   ]
  },
  {
   "cell_type": "markdown",
   "id": "9d8172d3",
   "metadata": {},
   "source": [
    "8. Создайте поле с категориями:\n",
    "\n",
    "•\tДля фондов, которые инвестируют в 100 и более компаний, назначьте категорию high_activity.\n",
    "\n",
    "•\tДля фондов, которые инвестируют в 20 и более компаний до 100, назначьте категорию middle_activity.\n",
    "\n",
    "•\tЕсли количество инвестируемых компаний фонда не достигает 20, назначьте категорию low_activity.\n",
    "\n",
    "Отобразите все поля таблицы fund и новое поле с категориями.\n"
   ]
  },
  {
   "cell_type": "code",
   "execution_count": null,
   "id": "451b3b16",
   "metadata": {},
   "outputs": [],
   "source": [
    "SELECT *,\n",
    "CASE\n",
    "WHEN invested_companies >= 100 THEN 'high_activity'\n",
    "WHEN invested_companies < 20 THEN 'low_activity'\n",
    "ELSE 'middle_activity'\n",
    "END AS category\n",
    "FROM fund;\n"
   ]
  },
  {
   "cell_type": "markdown",
   "id": "334ddc5a",
   "metadata": {},
   "source": [
    "9. Для каждой из категорий, назначенных в предыдущем задании, посчитайте округлённое до ближайшего целого числа среднее количество инвестиционных раундов, в которых фонд принимал участие. Выведите на экран категории и среднее число инвестиционных раундов. Отсортируйте таблицу по возрастанию среднего."
   ]
  },
  {
   "cell_type": "code",
   "execution_count": null,
   "id": "0d71cdb6",
   "metadata": {},
   "outputs": [],
   "source": [
    "SELECT \n",
    "       CASE\n",
    "           WHEN invested_companies>=100 THEN 'high_activity'\n",
    "           WHEN invested_companies>=20 THEN 'middle_activity'\n",
    "           ELSE 'low_activity'\n",
    "       END AS activity,\n",
    "       ROUND (AVG (investment_rounds))\n",
    "FROM fund\n",
    "GROUP BY activity\n",
    "ORDER BY ROUND (AVG (investment_rounds));\n"
   ]
  },
  {
   "cell_type": "markdown",
   "id": "46cbfd0e",
   "metadata": {},
   "source": [
    "10. Проанализируйте, в каких странах находятся фонды, которые чаще всего инвестируют в стартапы.\n",
    "\n",
    "Для каждой страны посчитайте минимальное, максимальное и среднее число компаний, в которые инвестировали фонды этой страны, основанные с 2010 по 2012 год включительно. Исключите страны с фондами, у которых минимальное число компаний, получивших инвестиции, равно нулю. Выгрузите десять самых активных стран-инвесторов.\n",
    "\n",
    "Отсортируйте таблицу по среднему количеству компаний от большего к меньшему, а затем по коду страны в лексикографическом порядке.\n"
   ]
  },
  {
   "cell_type": "code",
   "execution_count": null,
   "id": "d30e92db",
   "metadata": {},
   "outputs": [],
   "source": [
    "SELECT country_code,\n",
    "       MIN (invested_companies),\n",
    "       MAX (invested_companies),\n",
    "       AVG (invested_companies)\n",
    "FROM fund\n",
    "WHERE EXTRACT (YEAR FROM CAST (founded_at AS timestamp)) BETWEEN '2010' AND '2012'      \n",
    "GROUP BY country_code\n",
    "HAVING MIN(invested_companies) > 0\n",
    "ORDER BY AVG (invested_companies) DESC, country_code\n",
    "LIMIT 10;\n"
   ]
  },
  {
   "cell_type": "markdown",
   "id": "a24b37e4",
   "metadata": {},
   "source": [
    "11. Отобразите имя и фамилию всех сотрудников стартапов. Добавьте поле с названием учебного заведения, которое окончил сотрудник, если эта информация известна."
   ]
  },
  {
   "cell_type": "code",
   "execution_count": null,
   "id": "1d506b5a",
   "metadata": {},
   "outputs": [],
   "source": [
    "SELECT p.first_name,\n",
    "       p.last_name,\n",
    "       ed.instituition\n",
    "FROM people AS p\n",
    "LEFT OUTER JOIN education AS ed ON p.id=ed.person_id;\n"
   ]
  },
  {
   "cell_type": "markdown",
   "id": "5a424f8f",
   "metadata": {},
   "source": [
    "12. Для каждой компании найдите количество учебных заведений, которые окончили её сотрудники. Выведите название компании и число уникальных названий учебных заведений. Составьте топ-5 компаний по количеству университетов."
   ]
  },
  {
   "cell_type": "code",
   "execution_count": null,
   "id": "c81e5889",
   "metadata": {},
   "outputs": [],
   "source": [
    "SELECT c.name,\n",
    "       COUNT (DISTINCT (ed.instituition))\n",
    "FROM company AS c\n",
    "JOIN people AS p ON c.id=p.company_id\n",
    "JOIN education AS ed ON p.id=ed.person_id\n",
    "GROUP BY c.name\n",
    "ORDER BY COUNT (DISTINCT (ed.instituition)) DESC\n",
    "LIMIT 5;\n"
   ]
  },
  {
   "cell_type": "markdown",
   "id": "20196ab5",
   "metadata": {},
   "source": [
    "13. Составьте список с уникальными названиями закрытых компаний, для которых первый раунд финансирования оказался последним."
   ]
  },
  {
   "cell_type": "code",
   "execution_count": null,
   "id": "e3f9929c",
   "metadata": {},
   "outputs": [],
   "source": [
    "SELECT DISTINCT (c.name)\n",
    "FROM company AS c\n",
    "JOIN funding_round AS fr ON c.id=fr.company_id\n",
    "WHERE status = 'closed'\n",
    "      AND is_first_round=1\n",
    "      AND is_last_round =1;\n"
   ]
  },
  {
   "cell_type": "markdown",
   "id": "c9ea9878",
   "metadata": {},
   "source": [
    "14. Составьте список уникальных номеров сотрудников, которые работают в компаниях, отобранных в предыдущем задании."
   ]
  },
  {
   "cell_type": "code",
   "execution_count": null,
   "id": "93cc09cd",
   "metadata": {},
   "outputs": [],
   "source": [
    "SELECT DISTINCT (p.id)\n",
    "FROM people AS p\n",
    "JOIN company AS c ON p.company_id=c.id\n",
    "JOIN funding_round AS fr ON c.id=fr.company_id\n",
    "WHERE status = 'closed'\n",
    "      AND is_first_round=1\n",
    "      AND is_last_round=1;\n"
   ]
  },
  {
   "cell_type": "markdown",
   "id": "0474f094",
   "metadata": {},
   "source": [
    "15. Составьте таблицу, куда войдут уникальные пары с номерами сотрудников из предыдущей задачи и учебным заведением, которое окончил сотрудник."
   ]
  },
  {
   "cell_type": "code",
   "execution_count": null,
   "id": "417f8ee7",
   "metadata": {},
   "outputs": [],
   "source": [
    "SELECT p.id,\n",
    "       ed.instituition\n",
    "FROM people AS p\n",
    "LEFT JOIN education AS ed ON p.id=ed.person_id\n",
    "WHERE p.company_id IN (SELECT c.id\n",
    "                      FROM company AS c\n",
    "                      JOIN funding_round AS fr ON c.id=fr.company_id\n",
    "                      WHERE status ='closed'\n",
    "                            AND is_first_round=1\n",
    "                            AND is_last_round=1\n",
    "                      GROUP BY c.id)\n",
    "GROUP BY p.id, ed.instituition\n",
    "HAVING instituition IS NOT NULL;\n"
   ]
  },
  {
   "cell_type": "markdown",
   "id": "428377ef",
   "metadata": {},
   "source": [
    "16. Посчитайте количество учебных заведений для каждого сотрудника из предыдущего задания. При подсчёте учитывайте, что некоторые сотрудники могли окончить одно и то же заведение дважды."
   ]
  },
  {
   "cell_type": "code",
   "execution_count": null,
   "id": "f4c2b6cc",
   "metadata": {},
   "outputs": [],
   "source": [
    "SELECT p.id,\n",
    "       COUNT (ed.instituition)\n",
    "FROM people AS p\n",
    "LEFT JOIN education AS ed ON p.id=ed.person_id\n",
    "WHERE p.company_id IN (SELECT c.id\n",
    "                      FROM company AS c\n",
    "                      JOIN funding_round AS fr ON c.id=fr.company_id\n",
    "                      WHERE status = 'closed'\n",
    "                      AND is_first_round=1\n",
    "                      AND is_last_round=1\n",
    "                      GROUP BY c.id)\n",
    "GROUP BY p.id\n",
    "HAVING COUNT (DISTINCT ed.instituition)>0;\n"
   ]
  },
  {
   "cell_type": "markdown",
   "id": "e76f3bcb",
   "metadata": {},
   "source": [
    "17. Дополните предыдущий запрос и выведите среднее число учебных заведений (всех, не только уникальных), которые окончили сотрудники разных компаний. Нужно вывести только одну запись, группировка здесь не понадобится."
   ]
  },
  {
   "cell_type": "code",
   "execution_count": null,
   "id": "851a7b0b",
   "metadata": {},
   "outputs": [],
   "source": [
    "WITH base AS (SELECT p.id,\n",
    "          COUNT (ed.instituition)\n",
    "FROM people AS p\n",
    "LEFT JOIN education AS ed ON p.id=ed.person_id\n",
    "WHERE p.company_id IN (SELECT c.id\n",
    "                      FROM company AS c\n",
    "                      JOIN funding_round AS fr ON c.id=fr.company_id\n",
    "                      WHERE status = 'closed'\n",
    "                      AND is_first_round=1\n",
    "                      AND is_last_round=1\n",
    "                      GROUP BY c.id)\n",
    "GROUP BY p.id\n",
    "HAVING COUNT (DISTINCT ed.instituition)>0)\n",
    "SELECT AVG (COUNT)\n",
    "FROM base;\n"
   ]
  },
  {
   "cell_type": "markdown",
   "id": "1fc38ce9",
   "metadata": {},
   "source": [
    "18. Напишите похожий запрос: выведите среднее число учебных заведений (всех, не только уникальных), которые окончили сотрудники Facebook*.\n",
    "*(сервис, запрещённый на территории РФ)\n"
   ]
  },
  {
   "cell_type": "code",
   "execution_count": null,
   "id": "b07bf2d4",
   "metadata": {},
   "outputs": [],
   "source": [
    "WITH base AS (SELECT p.id,\n",
    "          COUNT (ed.instituition)\n",
    "FROM people AS p\n",
    "RIGHT JOIN education AS ed ON p.id=ed.person_id\n",
    "WHERE p.company_id IN (SELECT id\n",
    "                      FROM company \n",
    "                      WHERE name = 'Facebook')\n",
    "                      GROUP BY p.id)\n",
    "SELECT AVG (COUNT)\n",
    "FROM base;\n"
   ]
  },
  {
   "cell_type": "markdown",
   "id": "8bbcd18e",
   "metadata": {},
   "source": [
    "19. Составьте таблицу из полей:\n",
    "\n",
    "•\tname_of_fund — название фонда;\n",
    "\n",
    "•\tname_of_company — название компании;\n",
    "\n",
    "•\tamount — сумма инвестиций, которую привлекла компания в раунде.\n",
    "\n",
    "В таблицу войдут данные о компаниях, в истории которых было больше шести важных этапов, а раунды финансирования проходили с 2012 по 2013 год включительно.\n"
   ]
  },
  {
   "cell_type": "code",
   "execution_count": null,
   "id": "0ab7c49e",
   "metadata": {},
   "outputs": [],
   "source": [
    "SELECT f.name AS name_of_fund,\n",
    "       c.name AS name_of_company,\n",
    "       fr.raised_amount AS amount\n",
    "FROM investment AS i\n",
    "LEFT JOIN company AS c ON c.id=i.company_id\n",
    "LEFT JOIN fund AS f ON i.fund_id=f.id\n",
    "INNER JOIN (SELECT *\n",
    "           FROM funding_round\n",
    "           WHERE funded_at BETWEEN '2012-01-01' AND '2013-12-31')\n",
    "           AS fr ON fr.id=i.funding_round_id\n",
    "WHERE c.milestones >6;\n"
   ]
  },
  {
   "cell_type": "markdown",
   "id": "86a1f52a",
   "metadata": {},
   "source": [
    "20. Выгрузите таблицу, в которой будут такие поля:\n",
    "\n",
    "•\tназвание компании-покупателя;\n",
    "\n",
    "•\tсумма сделки;\n",
    "\n",
    "•\tназвание компании, которую купили;\n",
    "\n",
    "•\tсумма инвестиций, вложенных в купленную компанию;\n",
    "\n",
    "•\tдоля, которая отображает, во сколько раз сумма покупки превысила сумму вложенных в компанию инвестиций, округлённая до ближайшего целого числа.\n",
    "\n",
    "Не учитывайте те сделки, в которых сумма покупки равна нулю. Если сумма инвестиций в компанию равна нулю, исключите такую компанию из таблицы.\n",
    "\n",
    "Отсортируйте таблицу по сумме сделки от большей к меньшей, а затем по названию купленной компании в лексикографическом порядке. Ограничьте таблицу первыми десятью записями.\n"
   ]
  },
  {
   "cell_type": "code",
   "execution_count": null,
   "id": "3741041f",
   "metadata": {},
   "outputs": [],
   "source": [
    "WITH acquiring AS (SELECT c.name AS buyer,\n",
    "                          a.price_amount AS price,\n",
    "                          a.id AS key\n",
    "                  FROM acquisition AS a\n",
    "                  LEFT JOIN company AS c ON a.acquiring_company_id=c.id\n",
    "                  WHERE a.price_amount >0),\n",
    "acquired AS (SELECT c.name AS acquisition,\n",
    "                         c.funding_total AS investment,\n",
    "                         a.id AS key\n",
    "                 FROM acquisition AS a\n",
    "                 LEFT JOIN company AS c ON a.acquired_company_id=c.id\n",
    "                 WHERE c.funding_total >0)\n",
    "SELECT acqn.buyer,\n",
    "       acqn.price,\n",
    "       acqd.acquisition,\n",
    "       acqd.investment,\n",
    "       ROUND (acqn.price/acqd.investment) AS uplift\n",
    "FROM acquiring AS acqn\n",
    "JOIN acquired AS acqd ON acqn.key=acqd.key\n",
    "ORDER BY price DESC, acquisition\n",
    "LIMIT 10;\n"
   ]
  },
  {
   "cell_type": "markdown",
   "id": "afe32c6e",
   "metadata": {},
   "source": [
    "21. Выгрузите таблицу, в которую войдут названия компаний из категории social, получившие финансирование с 2010 по 2013 год включительно. Проверьте, что сумма инвестиций не равна нулю. Выведите также номер месяца, в котором проходил раунд финансирования."
   ]
  },
  {
   "cell_type": "code",
   "execution_count": null,
   "id": "5824db99",
   "metadata": {},
   "outputs": [],
   "source": [
    "SELECT c.name AS local_co,\n",
    "       EXTRACT (MONTH FROM fr.funded_at) AS funding_month\n",
    "FROM company AS c\n",
    "LEFT JOIN funding_round AS fr ON c.id=fr.company_id\n",
    "WHERE c.category_code='social'\n",
    "      AND fr.funded_at BETWEEN '2010-01-01' AND '2013-12-31'\n",
    "      AND fr.raised_amount <>0;\n"
   ]
  },
  {
   "cell_type": "markdown",
   "id": "04223747",
   "metadata": {},
   "source": [
    "22. Отберите данные по месяцам с 2010 по 2013 год, когда проходили инвестиционные раунды. Сгруппируйте данные по номеру месяца и получите таблицу, в которой будут поля:\n",
    "\n",
    "•\tномер месяца, в котором проходили раунды;\n",
    "\n",
    "•\tколичество уникальных названий фондов из США, которые инвестировали в этом месяце;\n",
    "\n",
    "•\tколичество компаний, купленных за этот месяц;\n",
    "\n",
    "•\tобщая сумма сделок по покупкам в этом месяце.\n"
   ]
  },
  {
   "cell_type": "code",
   "execution_count": null,
   "id": "4b649bfa",
   "metadata": {},
   "outputs": [],
   "source": [
    "WITH fundings AS (SELECT EXTRACT (MONTH FROM CAST(fr.funded_at AS date)) AS funding_month,\n",
    "                         COUNT (DISTINCT f.id) AS us_funds\n",
    "                 FROM fund AS f\n",
    "                 LEFT JOIN investment AS i ON f.id=i.fund_id\n",
    "                 LEFT JOIN funding_round AS fr ON i.funding_round_id=fr.id\n",
    "                 WHERE f.country_code = 'USA'\n",
    "                       AND EXTRACT (YEAR FROM CAST (fr.funded_at AS date)) BETWEEN 2010 AND 2013\n",
    "                 GROUP BY funding_month),\n",
    "acquisition AS (SELECT EXTRACT (MONTH FROM CAST (acquired_at AS date)) AS funding_month,\n",
    "                       COUNT (acquired_company_id) AS bought_co,\n",
    "                       SUM (price_amount) AS sum_total\n",
    "                FROM acquisition\n",
    "                WHERE EXTRACT (YEAR FROM CAST (acquired_at As date)) BETWEEN 2010 AND 2013\n",
    "                GROUP BY funding_month)\n",
    "SELECT fnd.funding_month,\n",
    "       fnd.us_funds, \n",
    "       acq.bought_co,\n",
    "       acq.sum_total\n",
    "FROM fundings AS fnd\n",
    "LEFT JOIN acquisition AS acq ON fnd.funding_month=acq.funding_month;\n"
   ]
  },
  {
   "cell_type": "markdown",
   "id": "043f8cbf",
   "metadata": {},
   "source": [
    "23. Составьте сводную таблицу и выведите среднюю сумму инвестиций для стран, в которых есть стартапы, зарегистрированные в 2011, 2012 и 2013 годах. Данные за каждый год должны быть в отдельном поле. Отсортируйте таблицу по среднему значению инвестиций за 2011 год от большего к меньшему."
   ]
  },
  {
   "cell_type": "code",
   "execution_count": null,
   "id": "8b69be9d",
   "metadata": {},
   "outputs": [],
   "source": [
    "WITH y_2011 AS (SELECT country_code AS country,\n",
    "                          AVG(funding_total) AS year_2011\n",
    "                  FROM company\n",
    "                  WHERE EXTRACT (YEAR FROM CAST (founded_at AS date)) IN (2011, 2012, 2013)\n",
    "                  GROUP BY country, EXTRACT (YEAR FROM CAST (founded_at AS date))\n",
    "                  HAVING EXTRACT (YEAR FROM CAST(founded_at AS date))='2011'),\n",
    "y_2012 AS (SELECT country_code AS country,\n",
    "                     AVG(funding_total) AS year_2012\n",
    "              FROM company\n",
    "              WHERE EXTRACT (YEAR FROM CAST (founded_at AS date)) IN (2011, 2012, 2013)\n",
    "              GROUP BY country, EXTRACT (YEAR FROM CAST (founded_at AS date))\n",
    "              HAVING EXTRACT (YEAR FROM CAST(founded_at AS date))='2012'),\n",
    "y_2013 AS (SELECT country_code AS country,\n",
    "                     AVG(funding_total) AS year_2013\n",
    "              FROM company\n",
    "              WHERE EXTRACT (YEAR FROM CAST (founded_at AS date)) IN (2011, 2012, 2013)\n",
    "              GROUP BY country, EXTRACT (YEAR FROM CAST (founded_at AS date))\n",
    "              HAVING EXTRACT (YEAR FROM CAST(founded_at AS date))='2013')\n",
    "SELECT y_2011.country,\n",
    "       year_2011,\n",
    "       year_2012,\n",
    "       year_2013\n",
    "FROM y_2011\n",
    "JOIN y_2012 ON y_2011.country=y_2012.country\n",
    "JOIN y_2013 ON y_2012.country=y_2013.country\n",
    "ORDER BY year_2011 DESC;\n"
   ]
  }
 ],
 "metadata": {
  "kernelspec": {
   "display_name": "Python 3 (ipykernel)",
   "language": "python",
   "name": "python3"
  },
  "language_info": {
   "codemirror_mode": {
    "name": "ipython",
    "version": 3
   },
   "file_extension": ".py",
   "mimetype": "text/x-python",
   "name": "python",
   "nbconvert_exporter": "python",
   "pygments_lexer": "ipython3",
   "version": "3.9.12"
  }
 },
 "nbformat": 4,
 "nbformat_minor": 5
}
