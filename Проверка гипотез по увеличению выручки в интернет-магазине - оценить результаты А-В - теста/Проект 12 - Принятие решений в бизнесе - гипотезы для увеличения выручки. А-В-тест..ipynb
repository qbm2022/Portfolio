{
 "cells": [
  {
   "cell_type": "markdown",
   "metadata": {},
   "source": [
    "# Принятие решений в бизнесе - гипотезы для увеличения выручки. А/В-тест."
   ]
  },
  {
   "cell_type": "markdown",
   "metadata": {},
   "source": [
    "## Описание проекта"
   ]
  },
  {
   "cell_type": "markdown",
   "metadata": {},
   "source": [
    "Аналитик крупного интернет-магазина вместе с отделом маркетинга подготовили список гипотез для увеличения выручки.\n",
    "Задача проекта - приоритизировать гипотезы, запустить A/B-тест и проанализировать результаты. \n"
   ]
  },
  {
   "cell_type": "markdown",
   "metadata": {},
   "source": [
    "### [Часть 1. Приоритизация гипотез.](#part1)"
   ]
  },
  {
   "cell_type": "markdown",
   "metadata": {},
   "source": [
    "В файле hypothesis.csv 9 гипотез по увеличению выручки интернет-магазина с указанными параметрами Reach, Impact, Confidence, Effort.\n",
    "\n",
    "\n",
    "•\t[Применить фреймворк ICE для приоритизации гипотез. Отсортировать их по убыванию приоритета.](#ice)\n",
    "\n",
    "•\t[Применить фреймворк RICE для приоритизации гипотез. Отсортировать их по убыванию приоритета.](#rice)\n",
    "\n",
    "•\t[Указать, как изменилась приоритизация гипотез при применении RICE вместо ICE. Объяснить, почему так произошло.](#conclusions)\n"
   ]
  },
  {
   "cell_type": "markdown",
   "metadata": {},
   "source": [
    "### [Часть 2. Анализ А/В-теста.](#part2)"
   ]
  },
  {
   "cell_type": "markdown",
   "metadata": {},
   "source": [
    "Был проведен A/B-тест и получены результаты, которые описаны в файлах orders.csv и visitors.csv.\n",
    "\n",
    "Проанализировать A/B-тест:\n",
    "\n",
    "1.\t[Построить график кумулятивной выручки по группам. Сделать выводы и предположения.](#1)\n",
    "\n",
    "2.\t[Построить график кумулятивного среднего чека по группам. Сделать выводы и предположения.](#2)\n",
    "\n",
    "3.\t[Построить график относительного изменения кумулятивного среднего чека группы B к группе A. Сделать выводы и предположения.](#3)\n",
    "\n",
    "4.\t[Построить график кумулятивного среднего количества заказов на посетителя по группам. Сделать выводы и предположения.](#4)\n",
    "\n",
    "5.\t[Построить график относительного изменения кумулятивного среднего количества заказов на посетителя группы B к группе A. Сделать выводы и предположения.](#5)\n",
    "\n",
    "6.\t[Построить точечный график количества заказов по пользователям. Сделать выводы и предположения.](#6)\n",
    "\n",
    "7.\t[Посчитать 95-й и 99-й перцентили количества заказов на пользователя. Выбрать границу для определения аномальных пользователей.](#7)\n",
    "\n",
    "8.\t[Построить точечный график стоимостей заказов. Сделать выводы и предположения.](#8)\n",
    "\n",
    "9.\t[Посчитать 95-й и 99-й перцентили стоимости заказов. Выбрать границу для определения аномальных заказов.](#9)\n",
    "\n",
    "10.\t[Посчитать статистическую значимость различий в среднем количестве заказов на посетителя между группами между группами по «сырым» данным. Сделать выводы и предположения.](#10)\n",
    "\n",
    "11.\t[Посчитать статистическую значимость различий в среднем чеке заказа между группами по «сырым» данным. Сделать выводы и предположения.](#11)\n",
    "\n",
    "12.\t[Посчитать статистическую значимость различий в среднем количестве заказов на посетителя между группами между группами по «очищенным» данным. Сделать выводы и предположения.](#12)\n",
    "\n",
    "13.\t[Посчитать статистическую значимость различий в среднем чеке заказа между группами по «очищенным» данным. Сделать выводы и предположения.](#13)\n",
    "\n",
    "14.\t[Принять решение по результатам теста и объяснить его. Варианты решений: 1. Остановить тест, зафиксировать победу одной из групп. 2. Остановить тест, зафиксировать отсутствие различий между группами. 3. Продолжить тест.](#15)\n"
   ]
  },
  {
   "cell_type": "markdown",
   "metadata": {},
   "source": [
    "### Описание данных\n",
    "\n",
    "#### Данные для первой части\n",
    "\n",
    "Файл /datasets/hypothesis.csv. \n",
    "\n",
    "•\tHypothesis — краткое описание гипотезы;\n",
    "\n",
    "•\tReach — охват пользователей по 10-балльной шкале;\n",
    "\n",
    "•\tImpact — влияние на пользователей по 10-балльной шкале;\n",
    "\n",
    "•\tConfidence — уверенность в гипотезе по 10-балльной шкале;\n",
    "\n",
    "•\tEfforts — затраты ресурсов на проверку гипотезы по 10-балльной шкале. Чем больше значение Efforts, тем дороже проверка гипотезы.\n",
    "\n",
    "#### Данные для второй части\n",
    "\n",
    "Файл /datasets/orders.csv. \n",
    "\n",
    "•\ttransactionId — идентификатор заказа;\n",
    "\n",
    "•\tvisitorId — идентификатор пользователя, совершившего заказ;\n",
    "\n",
    "•\tdate — дата, когда был совершён заказ;\n",
    "\n",
    "•\trevenue — выручка заказа;\n",
    "\n",
    "•\tgroup — группа A/B-теста, в которую попал заказ.\n",
    "\n",
    "Файл /datasets/visitors.csv. \n",
    "\n",
    "•\tdate — дата;\n",
    "\n",
    "•\tgroup — группа A/B-теста;\n",
    "\n",
    "•\tvisitors — количество пользователей в указанную дату в указанной группе A/B-теста\n"
   ]
  },
  {
   "cell_type": "markdown",
   "metadata": {},
   "source": [
    "<a id='part1'>\n",
    "    \n",
    "### Часть 1. Приоритизация гипотез.\n",
    "</a>"
   ]
  },
  {
   "cell_type": "code",
   "execution_count": 1,
   "metadata": {},
   "outputs": [],
   "source": [
    "import pandas as pd\n",
    "import numpy as np\n",
    "import matplotlib.pyplot as plt\n",
    "from pandas.plotting import register_matplotlib_converters\n",
    "import seaborn as sns\n",
    "import datetime as dt\n",
    "import scipy.stats as stats\n",
    "import warnings\n",
    "# конвертеры, которые позволяют использовать типы pandas в matplotlib  \n",
    "register_matplotlib_converters()\n",
    "sns.set(style='whitegrid')\n",
    "sns.set_palette('Set2')\n",
    "pd.set_option('max_colwidth', 120)\n",
    "pd.set_option('display.width', 500)"
   ]
  },
  {
   "cell_type": "code",
   "execution_count": 2,
   "metadata": {},
   "outputs": [],
   "source": [
    "data = pd.read_csv('.csv', sep=',')\n",
    "data.columns = data.columns.str.lower()"
   ]
  },
  {
   "cell_type": "code",
   "execution_count": 3,
   "metadata": {
    "scrolled": true
   },
   "outputs": [
    {
     "data": {
      "text/html": [
       "<div>\n",
       "<style scoped>\n",
       "    .dataframe tbody tr th:only-of-type {\n",
       "        vertical-align: middle;\n",
       "    }\n",
       "\n",
       "    .dataframe tbody tr th {\n",
       "        vertical-align: top;\n",
       "    }\n",
       "\n",
       "    .dataframe thead th {\n",
       "        text-align: right;\n",
       "    }\n",
       "</style>\n",
       "<table border=\"1\" class=\"dataframe\">\n",
       "  <thead>\n",
       "    <tr style=\"text-align: right;\">\n",
       "      <th></th>\n",
       "      <th>hypothesis</th>\n",
       "      <th>reach</th>\n",
       "      <th>impact</th>\n",
       "      <th>confidence</th>\n",
       "      <th>efforts</th>\n",
       "    </tr>\n",
       "  </thead>\n",
       "  <tbody>\n",
       "    <tr>\n",
       "      <th>0</th>\n",
       "      <td>Добавить два новых канала привлечения трафика, что позволит привлекать на 30% больше пользователей</td>\n",
       "      <td>3</td>\n",
       "      <td>10</td>\n",
       "      <td>8</td>\n",
       "      <td>6</td>\n",
       "    </tr>\n",
       "    <tr>\n",
       "      <th>1</th>\n",
       "      <td>Запустить собственную службу доставки, что сократит срок доставки заказов</td>\n",
       "      <td>2</td>\n",
       "      <td>5</td>\n",
       "      <td>4</td>\n",
       "      <td>10</td>\n",
       "    </tr>\n",
       "    <tr>\n",
       "      <th>2</th>\n",
       "      <td>Добавить блоки рекомендаций товаров на сайт интернет магазина, чтобы повысить конверсию и средний чек заказа</td>\n",
       "      <td>8</td>\n",
       "      <td>3</td>\n",
       "      <td>7</td>\n",
       "      <td>3</td>\n",
       "    </tr>\n",
       "    <tr>\n",
       "      <th>3</th>\n",
       "      <td>Изменить структура категорий, что увеличит конверсию, т.к. пользователи быстрее найдут нужный товар</td>\n",
       "      <td>8</td>\n",
       "      <td>3</td>\n",
       "      <td>3</td>\n",
       "      <td>8</td>\n",
       "    </tr>\n",
       "    <tr>\n",
       "      <th>4</th>\n",
       "      <td>Изменить цвет фона главной страницы, чтобы увеличить вовлеченность пользователей</td>\n",
       "      <td>3</td>\n",
       "      <td>1</td>\n",
       "      <td>1</td>\n",
       "      <td>1</td>\n",
       "    </tr>\n",
       "    <tr>\n",
       "      <th>5</th>\n",
       "      <td>Добавить страницу отзывов клиентов о магазине, что позволит увеличить количество заказов</td>\n",
       "      <td>3</td>\n",
       "      <td>2</td>\n",
       "      <td>2</td>\n",
       "      <td>3</td>\n",
       "    </tr>\n",
       "    <tr>\n",
       "      <th>6</th>\n",
       "      <td>Показать на главной странице баннеры с актуальными акциями и распродажами, чтобы увеличить конверсию</td>\n",
       "      <td>5</td>\n",
       "      <td>3</td>\n",
       "      <td>8</td>\n",
       "      <td>3</td>\n",
       "    </tr>\n",
       "    <tr>\n",
       "      <th>7</th>\n",
       "      <td>Добавить форму подписки на все основные страницы, чтобы собрать базу клиентов для email-рассылок</td>\n",
       "      <td>10</td>\n",
       "      <td>7</td>\n",
       "      <td>8</td>\n",
       "      <td>5</td>\n",
       "    </tr>\n",
       "    <tr>\n",
       "      <th>8</th>\n",
       "      <td>Запустить акцию, дающую скидку на товар в день рождения</td>\n",
       "      <td>1</td>\n",
       "      <td>9</td>\n",
       "      <td>9</td>\n",
       "      <td>5</td>\n",
       "    </tr>\n",
       "  </tbody>\n",
       "</table>\n",
       "</div>"
      ],
      "text/plain": [
       "                                                                                                     hypothesis  reach  impact  confidence  efforts\n",
       "0            Добавить два новых канала привлечения трафика, что позволит привлекать на 30% больше пользователей      3      10           8        6\n",
       "1                                     Запустить собственную службу доставки, что сократит срок доставки заказов      2       5           4       10\n",
       "2  Добавить блоки рекомендаций товаров на сайт интернет магазина, чтобы повысить конверсию и средний чек заказа      8       3           7        3\n",
       "3           Изменить структура категорий, что увеличит конверсию, т.к. пользователи быстрее найдут нужный товар      8       3           3        8\n",
       "4                              Изменить цвет фона главной страницы, чтобы увеличить вовлеченность пользователей      3       1           1        1\n",
       "5                      Добавить страницу отзывов клиентов о магазине, что позволит увеличить количество заказов      3       2           2        3\n",
       "6          Показать на главной странице баннеры с актуальными акциями и распродажами, чтобы увеличить конверсию      5       3           8        3\n",
       "7              Добавить форму подписки на все основные страницы, чтобы собрать базу клиентов для email-рассылок     10       7           8        5\n",
       "8                                                       Запустить акцию, дающую скидку на товар в день рождения      1       9           9        5"
      ]
     },
     "execution_count": 3,
     "metadata": {},
     "output_type": "execute_result"
    }
   ],
   "source": [
    "data.head(10)"
   ]
  },
  {
   "cell_type": "markdown",
   "metadata": {},
   "source": [
    "<a id='ice'>\n",
    "Применить фреймворк ICE для приоритизации гипотез. Отсортировать их по убыванию приоритета.\n",
    "</a>"
   ]
  },
  {
   "cell_type": "markdown",
   "metadata": {},
   "source": [
    "Применим фреймворк ICE для приоризации гипотез.\n",
    "\n",
    "Отсортируем гипотезы по убыванию приоритета."
   ]
  },
  {
   "cell_type": "code",
   "execution_count": 4,
   "metadata": {
    "scrolled": false
   },
   "outputs": [
    {
     "data": {
      "text/html": [
       "<div>\n",
       "<style scoped>\n",
       "    .dataframe tbody tr th:only-of-type {\n",
       "        vertical-align: middle;\n",
       "    }\n",
       "\n",
       "    .dataframe tbody tr th {\n",
       "        vertical-align: top;\n",
       "    }\n",
       "\n",
       "    .dataframe thead th {\n",
       "        text-align: right;\n",
       "    }\n",
       "</style>\n",
       "<table border=\"1\" class=\"dataframe\">\n",
       "  <thead>\n",
       "    <tr style=\"text-align: right;\">\n",
       "      <th></th>\n",
       "      <th>hypothesis</th>\n",
       "      <th>reach</th>\n",
       "      <th>impact</th>\n",
       "      <th>confidence</th>\n",
       "      <th>efforts</th>\n",
       "      <th>ICE</th>\n",
       "    </tr>\n",
       "  </thead>\n",
       "  <tbody>\n",
       "    <tr>\n",
       "      <th>8</th>\n",
       "      <td>Запустить акцию, дающую скидку на товар в день рождения</td>\n",
       "      <td>1</td>\n",
       "      <td>9</td>\n",
       "      <td>9</td>\n",
       "      <td>5</td>\n",
       "      <td>16.20</td>\n",
       "    </tr>\n",
       "    <tr>\n",
       "      <th>0</th>\n",
       "      <td>Добавить два новых канала привлечения трафика, что позволит привлекать на 30% больше пользователей</td>\n",
       "      <td>3</td>\n",
       "      <td>10</td>\n",
       "      <td>8</td>\n",
       "      <td>6</td>\n",
       "      <td>13.33</td>\n",
       "    </tr>\n",
       "    <tr>\n",
       "      <th>7</th>\n",
       "      <td>Добавить форму подписки на все основные страницы, чтобы собрать базу клиентов для email-рассылок</td>\n",
       "      <td>10</td>\n",
       "      <td>7</td>\n",
       "      <td>8</td>\n",
       "      <td>5</td>\n",
       "      <td>11.20</td>\n",
       "    </tr>\n",
       "    <tr>\n",
       "      <th>6</th>\n",
       "      <td>Показать на главной странице баннеры с актуальными акциями и распродажами, чтобы увеличить конверсию</td>\n",
       "      <td>5</td>\n",
       "      <td>3</td>\n",
       "      <td>8</td>\n",
       "      <td>3</td>\n",
       "      <td>8.00</td>\n",
       "    </tr>\n",
       "    <tr>\n",
       "      <th>2</th>\n",
       "      <td>Добавить блоки рекомендаций товаров на сайт интернет магазина, чтобы повысить конверсию и средний чек заказа</td>\n",
       "      <td>8</td>\n",
       "      <td>3</td>\n",
       "      <td>7</td>\n",
       "      <td>3</td>\n",
       "      <td>7.00</td>\n",
       "    </tr>\n",
       "    <tr>\n",
       "      <th>1</th>\n",
       "      <td>Запустить собственную службу доставки, что сократит срок доставки заказов</td>\n",
       "      <td>2</td>\n",
       "      <td>5</td>\n",
       "      <td>4</td>\n",
       "      <td>10</td>\n",
       "      <td>2.00</td>\n",
       "    </tr>\n",
       "    <tr>\n",
       "      <th>5</th>\n",
       "      <td>Добавить страницу отзывов клиентов о магазине, что позволит увеличить количество заказов</td>\n",
       "      <td>3</td>\n",
       "      <td>2</td>\n",
       "      <td>2</td>\n",
       "      <td>3</td>\n",
       "      <td>1.33</td>\n",
       "    </tr>\n",
       "    <tr>\n",
       "      <th>3</th>\n",
       "      <td>Изменить структура категорий, что увеличит конверсию, т.к. пользователи быстрее найдут нужный товар</td>\n",
       "      <td>8</td>\n",
       "      <td>3</td>\n",
       "      <td>3</td>\n",
       "      <td>8</td>\n",
       "      <td>1.12</td>\n",
       "    </tr>\n",
       "    <tr>\n",
       "      <th>4</th>\n",
       "      <td>Изменить цвет фона главной страницы, чтобы увеличить вовлеченность пользователей</td>\n",
       "      <td>3</td>\n",
       "      <td>1</td>\n",
       "      <td>1</td>\n",
       "      <td>1</td>\n",
       "      <td>1.00</td>\n",
       "    </tr>\n",
       "  </tbody>\n",
       "</table>\n",
       "</div>"
      ],
      "text/plain": [
       "                                                                                                     hypothesis  reach  impact  confidence  efforts    ICE\n",
       "8                                                       Запустить акцию, дающую скидку на товар в день рождения      1       9           9        5  16.20\n",
       "0            Добавить два новых канала привлечения трафика, что позволит привлекать на 30% больше пользователей      3      10           8        6  13.33\n",
       "7              Добавить форму подписки на все основные страницы, чтобы собрать базу клиентов для email-рассылок     10       7           8        5  11.20\n",
       "6          Показать на главной странице баннеры с актуальными акциями и распродажами, чтобы увеличить конверсию      5       3           8        3   8.00\n",
       "2  Добавить блоки рекомендаций товаров на сайт интернет магазина, чтобы повысить конверсию и средний чек заказа      8       3           7        3   7.00\n",
       "1                                     Запустить собственную службу доставки, что сократит срок доставки заказов      2       5           4       10   2.00\n",
       "5                      Добавить страницу отзывов клиентов о магазине, что позволит увеличить количество заказов      3       2           2        3   1.33\n",
       "3           Изменить структура категорий, что увеличит конверсию, т.к. пользователи быстрее найдут нужный товар      8       3           3        8   1.12\n",
       "4                              Изменить цвет фона главной страницы, чтобы увеличить вовлеченность пользователей      3       1           1        1   1.00"
      ]
     },
     "execution_count": 4,
     "metadata": {},
     "output_type": "execute_result"
    }
   ],
   "source": [
    "data['ICE'] = round((data['impact'] * data['confidence'])/data['efforts'], 2)\n",
    "data.sort_values('ICE', ascending=False)"
   ]
  },
  {
   "cell_type": "markdown",
   "metadata": {},
   "source": [
    "<a id='rice'>\n",
    "Применить фреймворк RICE для приоритизации гипотез. Отсортировать их по убыванию приоритета.\n",
    "</a>"
   ]
  },
  {
   "cell_type": "markdown",
   "metadata": {},
   "source": [
    "Применим фреймворк RICE для приоритации гипотез.\n",
    "\n",
    "Отсортируем их по убыванию приоритета."
   ]
  },
  {
   "cell_type": "code",
   "execution_count": 5,
   "metadata": {},
   "outputs": [
    {
     "data": {
      "text/html": [
       "<div>\n",
       "<style scoped>\n",
       "    .dataframe tbody tr th:only-of-type {\n",
       "        vertical-align: middle;\n",
       "    }\n",
       "\n",
       "    .dataframe tbody tr th {\n",
       "        vertical-align: top;\n",
       "    }\n",
       "\n",
       "    .dataframe thead th {\n",
       "        text-align: right;\n",
       "    }\n",
       "</style>\n",
       "<table border=\"1\" class=\"dataframe\">\n",
       "  <thead>\n",
       "    <tr style=\"text-align: right;\">\n",
       "      <th></th>\n",
       "      <th>hypothesis</th>\n",
       "      <th>reach</th>\n",
       "      <th>impact</th>\n",
       "      <th>confidence</th>\n",
       "      <th>efforts</th>\n",
       "      <th>ICE</th>\n",
       "      <th>RICE</th>\n",
       "    </tr>\n",
       "  </thead>\n",
       "  <tbody>\n",
       "    <tr>\n",
       "      <th>7</th>\n",
       "      <td>Добавить форму подписки на все основные страницы, чтобы собрать базу клиентов для email-рассылок</td>\n",
       "      <td>10</td>\n",
       "      <td>7</td>\n",
       "      <td>8</td>\n",
       "      <td>5</td>\n",
       "      <td>11.20</td>\n",
       "      <td>112.0</td>\n",
       "    </tr>\n",
       "    <tr>\n",
       "      <th>2</th>\n",
       "      <td>Добавить блоки рекомендаций товаров на сайт интернет магазина, чтобы повысить конверсию и средний чек заказа</td>\n",
       "      <td>8</td>\n",
       "      <td>3</td>\n",
       "      <td>7</td>\n",
       "      <td>3</td>\n",
       "      <td>7.00</td>\n",
       "      <td>56.0</td>\n",
       "    </tr>\n",
       "    <tr>\n",
       "      <th>0</th>\n",
       "      <td>Добавить два новых канала привлечения трафика, что позволит привлекать на 30% больше пользователей</td>\n",
       "      <td>3</td>\n",
       "      <td>10</td>\n",
       "      <td>8</td>\n",
       "      <td>6</td>\n",
       "      <td>13.33</td>\n",
       "      <td>40.0</td>\n",
       "    </tr>\n",
       "    <tr>\n",
       "      <th>6</th>\n",
       "      <td>Показать на главной странице баннеры с актуальными акциями и распродажами, чтобы увеличить конверсию</td>\n",
       "      <td>5</td>\n",
       "      <td>3</td>\n",
       "      <td>8</td>\n",
       "      <td>3</td>\n",
       "      <td>8.00</td>\n",
       "      <td>40.0</td>\n",
       "    </tr>\n",
       "    <tr>\n",
       "      <th>8</th>\n",
       "      <td>Запустить акцию, дающую скидку на товар в день рождения</td>\n",
       "      <td>1</td>\n",
       "      <td>9</td>\n",
       "      <td>9</td>\n",
       "      <td>5</td>\n",
       "      <td>16.20</td>\n",
       "      <td>16.2</td>\n",
       "    </tr>\n",
       "    <tr>\n",
       "      <th>3</th>\n",
       "      <td>Изменить структура категорий, что увеличит конверсию, т.к. пользователи быстрее найдут нужный товар</td>\n",
       "      <td>8</td>\n",
       "      <td>3</td>\n",
       "      <td>3</td>\n",
       "      <td>8</td>\n",
       "      <td>1.12</td>\n",
       "      <td>9.0</td>\n",
       "    </tr>\n",
       "    <tr>\n",
       "      <th>1</th>\n",
       "      <td>Запустить собственную службу доставки, что сократит срок доставки заказов</td>\n",
       "      <td>2</td>\n",
       "      <td>5</td>\n",
       "      <td>4</td>\n",
       "      <td>10</td>\n",
       "      <td>2.00</td>\n",
       "      <td>4.0</td>\n",
       "    </tr>\n",
       "    <tr>\n",
       "      <th>5</th>\n",
       "      <td>Добавить страницу отзывов клиентов о магазине, что позволит увеличить количество заказов</td>\n",
       "      <td>3</td>\n",
       "      <td>2</td>\n",
       "      <td>2</td>\n",
       "      <td>3</td>\n",
       "      <td>1.33</td>\n",
       "      <td>4.0</td>\n",
       "    </tr>\n",
       "    <tr>\n",
       "      <th>4</th>\n",
       "      <td>Изменить цвет фона главной страницы, чтобы увеличить вовлеченность пользователей</td>\n",
       "      <td>3</td>\n",
       "      <td>1</td>\n",
       "      <td>1</td>\n",
       "      <td>1</td>\n",
       "      <td>1.00</td>\n",
       "      <td>3.0</td>\n",
       "    </tr>\n",
       "  </tbody>\n",
       "</table>\n",
       "</div>"
      ],
      "text/plain": [
       "                                                                                                     hypothesis  reach  impact  confidence  efforts    ICE   RICE\n",
       "7              Добавить форму подписки на все основные страницы, чтобы собрать базу клиентов для email-рассылок     10       7           8        5  11.20  112.0\n",
       "2  Добавить блоки рекомендаций товаров на сайт интернет магазина, чтобы повысить конверсию и средний чек заказа      8       3           7        3   7.00   56.0\n",
       "0            Добавить два новых канала привлечения трафика, что позволит привлекать на 30% больше пользователей      3      10           8        6  13.33   40.0\n",
       "6          Показать на главной странице баннеры с актуальными акциями и распродажами, чтобы увеличить конверсию      5       3           8        3   8.00   40.0\n",
       "8                                                       Запустить акцию, дающую скидку на товар в день рождения      1       9           9        5  16.20   16.2\n",
       "3           Изменить структура категорий, что увеличит конверсию, т.к. пользователи быстрее найдут нужный товар      8       3           3        8   1.12    9.0\n",
       "1                                     Запустить собственную службу доставки, что сократит срок доставки заказов      2       5           4       10   2.00    4.0\n",
       "5                      Добавить страницу отзывов клиентов о магазине, что позволит увеличить количество заказов      3       2           2        3   1.33    4.0\n",
       "4                              Изменить цвет фона главной страницы, чтобы увеличить вовлеченность пользователей      3       1           1        1   1.00    3.0"
      ]
     },
     "execution_count": 5,
     "metadata": {},
     "output_type": "execute_result"
    }
   ],
   "source": [
    "data['RICE'] = (data['reach'] * data['impact'] * data['confidence'])/data['efforts']\n",
    "data.sort_values('RICE', ascending=False)"
   ]
  },
  {
   "cell_type": "markdown",
   "metadata": {},
   "source": [
    "<a id='conclusions'>\n",
    "Указать, как изменилась приоритизация гипотез при применении RICE вместо ICE. Объяснить, почему так произошло.\n",
    "</a>"
   ]
  },
  {
   "cell_type": "markdown",
   "metadata": {},
   "source": [
    "По фреймворку ICE наиболее приоритетными гипотезами были:\n",
    "\n",
    "1. Запустить акцию, дающую скидку на товар в день рождения;\n",
    "\n",
    "2. Добавить два новых канала привлечения трафика, что позволит привлекать на 30% больше пользователей;\n",
    "\n",
    "3. Добавить форму подписки на все основные страницы, чтобы собрать базу клиентов для email-рассылок.\n",
    "\n",
    "\n",
    "По фреймворку RICE наиболее приоритетными гипотезами были:\n",
    "\n",
    "1. Добавить форму подписки на все основные страницы, чтобы собрать базу клиентов для email-рассылок;\n",
    "\n",
    "2. Добавить блоки рекомендаций товаров на сайт интернет магазина, чтобы повысить конверсию и средний чек заказа;\t\n",
    "\n",
    "3. Добавить два новых канала привлечения трафика, что позволит привлекать на 30% больше пользователей.\n",
    "\n",
    "\n",
    "Фреймворк RICE учитывает параметр reach (охват пользователь по 10-бальной шкале - сколько пользователей затронет изменение, которое мы хотим внести), поэтому изменилась приоритизация гипотез - на первые места вышли гипотезы с наибольшим охватом пользователей."
   ]
  },
  {
   "cell_type": "markdown",
   "metadata": {},
   "source": [
    "<a id='part2'>\n",
    "    \n",
    "### Часть 2. Анализ А/В-теста.\n",
    "</a>"
   ]
  },
  {
   "cell_type": "markdown",
   "metadata": {},
   "source": [
    "Загрузим данные и подготовим их к анализу."
   ]
  },
  {
   "cell_type": "code",
   "execution_count": 6,
   "metadata": {},
   "outputs": [],
   "source": [
    "orders = pd.read_csv('orders_1.csv')"
   ]
  },
  {
   "cell_type": "code",
   "execution_count": 7,
   "metadata": {
    "scrolled": true
   },
   "outputs": [
    {
     "name": "stdout",
     "output_type": "stream",
     "text": [
      "<class 'pandas.core.frame.DataFrame'>\n",
      "RangeIndex: 1197 entries, 0 to 1196\n",
      "Data columns (total 5 columns):\n",
      " #   Column         Non-Null Count  Dtype \n",
      "---  ------         --------------  ----- \n",
      " 0   transactionId  1197 non-null   int64 \n",
      " 1   visitorId      1197 non-null   int64 \n",
      " 2   date           1197 non-null   object\n",
      " 3   revenue        1197 non-null   int64 \n",
      " 4   group          1197 non-null   object\n",
      "dtypes: int64(3), object(2)\n",
      "memory usage: 46.9+ KB\n"
     ]
    }
   ],
   "source": [
    "orders.info()"
   ]
  },
  {
   "cell_type": "markdown",
   "metadata": {},
   "source": [
    "Переведем столбец с датой в тип даты."
   ]
  },
  {
   "cell_type": "code",
   "execution_count": 8,
   "metadata": {},
   "outputs": [],
   "source": [
    "orders['date'] = orders['date'].map(lambda x:dt.datetime.strptime(x,'%Y-%m-%d'))"
   ]
  },
  {
   "cell_type": "code",
   "execution_count": 9,
   "metadata": {
    "scrolled": true
   },
   "outputs": [
    {
     "data": {
      "text/html": [
       "<div>\n",
       "<style scoped>\n",
       "    .dataframe tbody tr th:only-of-type {\n",
       "        vertical-align: middle;\n",
       "    }\n",
       "\n",
       "    .dataframe tbody tr th {\n",
       "        vertical-align: top;\n",
       "    }\n",
       "\n",
       "    .dataframe thead th {\n",
       "        text-align: right;\n",
       "    }\n",
       "</style>\n",
       "<table border=\"1\" class=\"dataframe\">\n",
       "  <thead>\n",
       "    <tr style=\"text-align: right;\">\n",
       "      <th></th>\n",
       "      <th>transactionId</th>\n",
       "      <th>visitorId</th>\n",
       "      <th>date</th>\n",
       "      <th>revenue</th>\n",
       "      <th>group</th>\n",
       "    </tr>\n",
       "  </thead>\n",
       "  <tbody>\n",
       "    <tr>\n",
       "      <th>0</th>\n",
       "      <td>3667963787</td>\n",
       "      <td>3312258926</td>\n",
       "      <td>2019-08-15</td>\n",
       "      <td>1650</td>\n",
       "      <td>B</td>\n",
       "    </tr>\n",
       "    <tr>\n",
       "      <th>1</th>\n",
       "      <td>2804400009</td>\n",
       "      <td>3642806036</td>\n",
       "      <td>2019-08-15</td>\n",
       "      <td>730</td>\n",
       "      <td>B</td>\n",
       "    </tr>\n",
       "    <tr>\n",
       "      <th>2</th>\n",
       "      <td>2961555356</td>\n",
       "      <td>4069496402</td>\n",
       "      <td>2019-08-15</td>\n",
       "      <td>400</td>\n",
       "      <td>A</td>\n",
       "    </tr>\n",
       "    <tr>\n",
       "      <th>3</th>\n",
       "      <td>3797467345</td>\n",
       "      <td>1196621759</td>\n",
       "      <td>2019-08-15</td>\n",
       "      <td>9759</td>\n",
       "      <td>B</td>\n",
       "    </tr>\n",
       "    <tr>\n",
       "      <th>4</th>\n",
       "      <td>2282983706</td>\n",
       "      <td>2322279887</td>\n",
       "      <td>2019-08-15</td>\n",
       "      <td>2308</td>\n",
       "      <td>B</td>\n",
       "    </tr>\n",
       "  </tbody>\n",
       "</table>\n",
       "</div>"
      ],
      "text/plain": [
       "   transactionId   visitorId       date  revenue group\n",
       "0     3667963787  3312258926 2019-08-15     1650     B\n",
       "1     2804400009  3642806036 2019-08-15      730     B\n",
       "2     2961555356  4069496402 2019-08-15      400     A\n",
       "3     3797467345  1196621759 2019-08-15     9759     B\n",
       "4     2282983706  2322279887 2019-08-15     2308     B"
      ]
     },
     "execution_count": 9,
     "metadata": {},
     "output_type": "execute_result"
    }
   ],
   "source": [
    "orders.head()"
   ]
  },
  {
   "cell_type": "markdown",
   "metadata": {},
   "source": [
    "Определим максимальную и минимальную дату, подтвердим количество групп А/В-теста."
   ]
  },
  {
   "cell_type": "code",
   "execution_count": 10,
   "metadata": {},
   "outputs": [
    {
     "data": {
      "text/plain": [
       "Timestamp('2019-08-01 00:00:00')"
      ]
     },
     "execution_count": 10,
     "metadata": {},
     "output_type": "execute_result"
    }
   ],
   "source": [
    "orders['date'].min()"
   ]
  },
  {
   "cell_type": "code",
   "execution_count": 11,
   "metadata": {},
   "outputs": [
    {
     "data": {
      "text/plain": [
       "Timestamp('2019-08-31 00:00:00')"
      ]
     },
     "execution_count": 11,
     "metadata": {},
     "output_type": "execute_result"
    }
   ],
   "source": [
    "orders['date'].max()"
   ]
  },
  {
   "cell_type": "code",
   "execution_count": 12,
   "metadata": {},
   "outputs": [
    {
     "data": {
      "text/plain": [
       "array(['B', 'A'], dtype=object)"
      ]
     },
     "execution_count": 12,
     "metadata": {},
     "output_type": "execute_result"
    }
   ],
   "source": [
    "orders['group'].unique()"
   ]
  },
  {
   "cell_type": "markdown",
   "metadata": {},
   "source": [
    "Начало теста - 01.08.2019, окончание теста - 31.08.2019. В тесте участвуют 2 группы - А и В."
   ]
  },
  {
   "cell_type": "code",
   "execution_count": 13,
   "metadata": {},
   "outputs": [],
   "source": [
    "visitors = pd.read_csv('visitors.csv')"
   ]
  },
  {
   "cell_type": "code",
   "execution_count": 14,
   "metadata": {
    "scrolled": true
   },
   "outputs": [
    {
     "name": "stdout",
     "output_type": "stream",
     "text": [
      "<class 'pandas.core.frame.DataFrame'>\n",
      "RangeIndex: 62 entries, 0 to 61\n",
      "Data columns (total 3 columns):\n",
      " #   Column    Non-Null Count  Dtype \n",
      "---  ------    --------------  ----- \n",
      " 0   date      62 non-null     object\n",
      " 1   group     62 non-null     object\n",
      " 2   visitors  62 non-null     int64 \n",
      "dtypes: int64(1), object(2)\n",
      "memory usage: 1.6+ KB\n"
     ]
    }
   ],
   "source": [
    "visitors.info()"
   ]
  },
  {
   "cell_type": "markdown",
   "metadata": {},
   "source": [
    "Переведем столбец с датой в тип даты."
   ]
  },
  {
   "cell_type": "code",
   "execution_count": 15,
   "metadata": {},
   "outputs": [],
   "source": [
    "visitors['date'] = visitors['date'].map(lambda x:dt.datetime.strptime(x, '%Y-%m-%d'))"
   ]
  },
  {
   "cell_type": "code",
   "execution_count": 16,
   "metadata": {
    "scrolled": false
   },
   "outputs": [
    {
     "data": {
      "text/html": [
       "<div>\n",
       "<style scoped>\n",
       "    .dataframe tbody tr th:only-of-type {\n",
       "        vertical-align: middle;\n",
       "    }\n",
       "\n",
       "    .dataframe tbody tr th {\n",
       "        vertical-align: top;\n",
       "    }\n",
       "\n",
       "    .dataframe thead th {\n",
       "        text-align: right;\n",
       "    }\n",
       "</style>\n",
       "<table border=\"1\" class=\"dataframe\">\n",
       "  <thead>\n",
       "    <tr style=\"text-align: right;\">\n",
       "      <th></th>\n",
       "      <th>date</th>\n",
       "      <th>group</th>\n",
       "      <th>visitors</th>\n",
       "    </tr>\n",
       "  </thead>\n",
       "  <tbody>\n",
       "    <tr>\n",
       "      <th>0</th>\n",
       "      <td>2019-08-01</td>\n",
       "      <td>A</td>\n",
       "      <td>719</td>\n",
       "    </tr>\n",
       "    <tr>\n",
       "      <th>1</th>\n",
       "      <td>2019-08-02</td>\n",
       "      <td>A</td>\n",
       "      <td>619</td>\n",
       "    </tr>\n",
       "    <tr>\n",
       "      <th>2</th>\n",
       "      <td>2019-08-03</td>\n",
       "      <td>A</td>\n",
       "      <td>507</td>\n",
       "    </tr>\n",
       "    <tr>\n",
       "      <th>3</th>\n",
       "      <td>2019-08-04</td>\n",
       "      <td>A</td>\n",
       "      <td>717</td>\n",
       "    </tr>\n",
       "    <tr>\n",
       "      <th>4</th>\n",
       "      <td>2019-08-05</td>\n",
       "      <td>A</td>\n",
       "      <td>756</td>\n",
       "    </tr>\n",
       "  </tbody>\n",
       "</table>\n",
       "</div>"
      ],
      "text/plain": [
       "        date group  visitors\n",
       "0 2019-08-01     A       719\n",
       "1 2019-08-02     A       619\n",
       "2 2019-08-03     A       507\n",
       "3 2019-08-04     A       717\n",
       "4 2019-08-05     A       756"
      ]
     },
     "execution_count": 16,
     "metadata": {},
     "output_type": "execute_result"
    }
   ],
   "source": [
    "visitors.head()"
   ]
  },
  {
   "cell_type": "markdown",
   "metadata": {},
   "source": [
    "Определим минимальную и максимальную дату проведения теста. А также подтвердим количество групп в А/В-тесте."
   ]
  },
  {
   "cell_type": "code",
   "execution_count": 17,
   "metadata": {},
   "outputs": [
    {
     "data": {
      "text/plain": [
       "Timestamp('2019-08-01 00:00:00')"
      ]
     },
     "execution_count": 17,
     "metadata": {},
     "output_type": "execute_result"
    }
   ],
   "source": [
    "visitors['date'].min()"
   ]
  },
  {
   "cell_type": "code",
   "execution_count": 18,
   "metadata": {},
   "outputs": [
    {
     "data": {
      "text/plain": [
       "Timestamp('2019-08-31 00:00:00')"
      ]
     },
     "execution_count": 18,
     "metadata": {},
     "output_type": "execute_result"
    }
   ],
   "source": [
    "visitors['date'].max()"
   ]
  },
  {
   "cell_type": "code",
   "execution_count": 19,
   "metadata": {},
   "outputs": [
    {
     "data": {
      "text/plain": [
       "array(['A', 'B'], dtype=object)"
      ]
     },
     "execution_count": 19,
     "metadata": {},
     "output_type": "execute_result"
    }
   ],
   "source": [
    "visitors['group'].unique()"
   ]
  },
  {
   "cell_type": "markdown",
   "metadata": {},
   "source": [
    "Количество групп - 2 (А и В). Начало теста - 01-08-2019, окончание теста - 31.08.2019."
   ]
  },
  {
   "cell_type": "markdown",
   "metadata": {},
   "source": [
    "Проверим не попадаются ли у нас пользователи в обе группы."
   ]
  },
  {
   "cell_type": "code",
   "execution_count": 20,
   "metadata": {},
   "outputs": [
    {
     "data": {
      "text/html": [
       "<div>\n",
       "<style scoped>\n",
       "    .dataframe tbody tr th:only-of-type {\n",
       "        vertical-align: middle;\n",
       "    }\n",
       "\n",
       "    .dataframe tbody tr th {\n",
       "        vertical-align: top;\n",
       "    }\n",
       "\n",
       "    .dataframe thead th {\n",
       "        text-align: right;\n",
       "    }\n",
       "</style>\n",
       "<table border=\"1\" class=\"dataframe\">\n",
       "  <thead>\n",
       "    <tr style=\"text-align: right;\">\n",
       "      <th></th>\n",
       "      <th>group</th>\n",
       "    </tr>\n",
       "    <tr>\n",
       "      <th>visitorId</th>\n",
       "      <th></th>\n",
       "    </tr>\n",
       "  </thead>\n",
       "  <tbody>\n",
       "    <tr>\n",
       "      <th>5114589</th>\n",
       "      <td>1</td>\n",
       "    </tr>\n",
       "    <tr>\n",
       "      <th>6958315</th>\n",
       "      <td>1</td>\n",
       "    </tr>\n",
       "    <tr>\n",
       "      <th>8300375</th>\n",
       "      <td>2</td>\n",
       "    </tr>\n",
       "    <tr>\n",
       "      <th>11685486</th>\n",
       "      <td>1</td>\n",
       "    </tr>\n",
       "    <tr>\n",
       "      <th>39475350</th>\n",
       "      <td>1</td>\n",
       "    </tr>\n",
       "    <tr>\n",
       "      <th>...</th>\n",
       "      <td>...</td>\n",
       "    </tr>\n",
       "    <tr>\n",
       "      <th>4266935830</th>\n",
       "      <td>2</td>\n",
       "    </tr>\n",
       "    <tr>\n",
       "      <th>4278982564</th>\n",
       "      <td>1</td>\n",
       "    </tr>\n",
       "    <tr>\n",
       "      <th>4279090005</th>\n",
       "      <td>1</td>\n",
       "    </tr>\n",
       "    <tr>\n",
       "      <th>4281247801</th>\n",
       "      <td>1</td>\n",
       "    </tr>\n",
       "    <tr>\n",
       "      <th>4283872382</th>\n",
       "      <td>1</td>\n",
       "    </tr>\n",
       "  </tbody>\n",
       "</table>\n",
       "<p>1031 rows × 1 columns</p>\n",
       "</div>"
      ],
      "text/plain": [
       "            group\n",
       "visitorId        \n",
       "5114589         1\n",
       "6958315         1\n",
       "8300375         2\n",
       "11685486        1\n",
       "39475350        1\n",
       "...           ...\n",
       "4266935830      2\n",
       "4278982564      1\n",
       "4279090005      1\n",
       "4281247801      1\n",
       "4283872382      1\n",
       "\n",
       "[1031 rows x 1 columns]"
      ]
     },
     "execution_count": 20,
     "metadata": {},
     "output_type": "execute_result"
    }
   ],
   "source": [
    "orders.groupby('visitorId').agg({'group':'nunique'})"
   ]
  },
  {
   "cell_type": "markdown",
   "metadata": {},
   "source": [
    "Создаем список пользователей с уникальными 'visitorId'."
   ]
  },
  {
   "cell_type": "code",
   "execution_count": 21,
   "metadata": {},
   "outputs": [],
   "source": [
    "double_users=orders.groupby('visitorId').agg({'group':'nunique'}).reset_index().query('group>1')['visitorId'].unique()"
   ]
  },
  {
   "cell_type": "code",
   "execution_count": 22,
   "metadata": {},
   "outputs": [
    {
     "data": {
      "text/plain": [
       "58"
      ]
     },
     "execution_count": 22,
     "metadata": {},
     "output_type": "execute_result"
    }
   ],
   "source": [
    "len(double_users)"
   ]
  },
  {
   "cell_type": "markdown",
   "metadata": {},
   "source": [
    "У нас 58 пользователей, которые попали в обе группы. Удалять их не буду, так как пользователи могли делать разные заказы и и их заказы могли попасть в разные группы А/В-теста, в которые попал заказ. Проверим, не попадают ли у нас заказы в обе группы."
   ]
  },
  {
   "cell_type": "code",
   "execution_count": 23,
   "metadata": {},
   "outputs": [
    {
     "data": {
      "text/html": [
       "<div>\n",
       "<style scoped>\n",
       "    .dataframe tbody tr th:only-of-type {\n",
       "        vertical-align: middle;\n",
       "    }\n",
       "\n",
       "    .dataframe tbody tr th {\n",
       "        vertical-align: top;\n",
       "    }\n",
       "\n",
       "    .dataframe thead th {\n",
       "        text-align: right;\n",
       "    }\n",
       "</style>\n",
       "<table border=\"1\" class=\"dataframe\">\n",
       "  <thead>\n",
       "    <tr style=\"text-align: right;\">\n",
       "      <th></th>\n",
       "      <th>group</th>\n",
       "    </tr>\n",
       "    <tr>\n",
       "      <th>transactionId</th>\n",
       "      <th></th>\n",
       "    </tr>\n",
       "  </thead>\n",
       "  <tbody>\n",
       "    <tr>\n",
       "      <th>1062393</th>\n",
       "      <td>1</td>\n",
       "    </tr>\n",
       "    <tr>\n",
       "      <th>4919758</th>\n",
       "      <td>1</td>\n",
       "    </tr>\n",
       "    <tr>\n",
       "      <th>7210578</th>\n",
       "      <td>1</td>\n",
       "    </tr>\n",
       "    <tr>\n",
       "      <th>8131427</th>\n",
       "      <td>1</td>\n",
       "    </tr>\n",
       "    <tr>\n",
       "      <th>11068804</th>\n",
       "      <td>1</td>\n",
       "    </tr>\n",
       "    <tr>\n",
       "      <th>...</th>\n",
       "      <td>...</td>\n",
       "    </tr>\n",
       "    <tr>\n",
       "      <th>4276811111</th>\n",
       "      <td>1</td>\n",
       "    </tr>\n",
       "    <tr>\n",
       "      <th>4279408906</th>\n",
       "      <td>1</td>\n",
       "    </tr>\n",
       "    <tr>\n",
       "      <th>4281129020</th>\n",
       "      <td>1</td>\n",
       "    </tr>\n",
       "    <tr>\n",
       "      <th>4288552432</th>\n",
       "      <td>1</td>\n",
       "    </tr>\n",
       "    <tr>\n",
       "      <th>4293855558</th>\n",
       "      <td>1</td>\n",
       "    </tr>\n",
       "  </tbody>\n",
       "</table>\n",
       "<p>1197 rows × 1 columns</p>\n",
       "</div>"
      ],
      "text/plain": [
       "               group\n",
       "transactionId       \n",
       "1062393            1\n",
       "4919758            1\n",
       "7210578            1\n",
       "8131427            1\n",
       "11068804           1\n",
       "...              ...\n",
       "4276811111         1\n",
       "4279408906         1\n",
       "4281129020         1\n",
       "4288552432         1\n",
       "4293855558         1\n",
       "\n",
       "[1197 rows x 1 columns]"
      ]
     },
     "execution_count": 23,
     "metadata": {},
     "output_type": "execute_result"
    }
   ],
   "source": [
    "orders.groupby('transactionId').agg({'group':'nunique'})"
   ]
  },
  {
   "cell_type": "code",
   "execution_count": 24,
   "metadata": {},
   "outputs": [],
   "source": [
    "double_transaction=orders.groupby('transactionId').agg({'group':'nunique'}).reset_index().query('group>1')['transactionId'].unique()"
   ]
  },
  {
   "cell_type": "code",
   "execution_count": 25,
   "metadata": {},
   "outputs": [
    {
     "data": {
      "text/plain": [
       "1197"
      ]
     },
     "execution_count": 25,
     "metadata": {},
     "output_type": "execute_result"
    }
   ],
   "source": [
    "len(orders['transactionId'])"
   ]
  },
  {
   "cell_type": "code",
   "execution_count": 26,
   "metadata": {},
   "outputs": [
    {
     "data": {
      "text/plain": [
       "0"
      ]
     },
     "execution_count": 26,
     "metadata": {},
     "output_type": "execute_result"
    }
   ],
   "source": [
    "len(double_transaction)"
   ]
  },
  {
   "cell_type": "markdown",
   "metadata": {},
   "source": [
    "Одни и те же заказы не попадают в разные группы А/В-теста, что подтверждает предположение, что один и тот же пользователь может попасть в обе группы, но с разными заказами, а группа А/В-теста определяется по заказу."
   ]
  },
  {
   "cell_type": "markdown",
   "metadata": {},
   "source": [
    "Чтобы построить графики, нужно собрать кумулятивные значения. Объявим датафрейм cumulativeDate со столбцами:\n",
    "\n",
    "- date -дата;\n",
    "\n",
    "- group - группа А/В-теста (А или В);\n",
    "\n",
    "- orders - кумулятивное количество заказов на указанную дату в указанной группе;\n",
    "\n",
    "- buyers - кумулятивное количествопользователей, совершивших хотя бы один заказ, на указанную дату в указанной группе;\n",
    "\n",
    "- revenue - кумулятивная выручка на указанную дату в указанной группе (средний чек);\n",
    "\n",
    "- visitors - кумулятивное количество посетителей интернет-магазина на указанную дату в определенной группе.\n",
    "\n",
    "Создадим массив уникальных пар значений дат и групп теста методом drop_duplicates()."
   ]
  },
  {
   "cell_type": "code",
   "execution_count": 27,
   "metadata": {},
   "outputs": [],
   "source": [
    "datesGroups = orders[['date', 'group']].drop_duplicates()"
   ]
  },
  {
   "cell_type": "markdown",
   "metadata": {},
   "source": [
    "Получаем агрегированные кумулятивные по дням данные о заказах. Получаем агрегированные кумулятивные по дням данные о пользователях. Объединяем кумулятивные данные в одной таблице."
   ]
  },
  {
   "cell_type": "code",
   "execution_count": 28,
   "metadata": {
    "scrolled": true
   },
   "outputs": [
    {
     "data": {
      "text/html": [
       "<div>\n",
       "<style scoped>\n",
       "    .dataframe tbody tr th:only-of-type {\n",
       "        vertical-align: middle;\n",
       "    }\n",
       "\n",
       "    .dataframe tbody tr th {\n",
       "        vertical-align: top;\n",
       "    }\n",
       "\n",
       "    .dataframe thead th {\n",
       "        text-align: right;\n",
       "    }\n",
       "</style>\n",
       "<table border=\"1\" class=\"dataframe\">\n",
       "  <thead>\n",
       "    <tr style=\"text-align: right;\">\n",
       "      <th></th>\n",
       "      <th>date</th>\n",
       "      <th>group</th>\n",
       "      <th>orders</th>\n",
       "      <th>buyers</th>\n",
       "      <th>revenue</th>\n",
       "      <th>visitors</th>\n",
       "    </tr>\n",
       "  </thead>\n",
       "  <tbody>\n",
       "    <tr>\n",
       "      <th>0</th>\n",
       "      <td>2019-08-01</td>\n",
       "      <td>A</td>\n",
       "      <td>24</td>\n",
       "      <td>20</td>\n",
       "      <td>148579</td>\n",
       "      <td>719</td>\n",
       "    </tr>\n",
       "    <tr>\n",
       "      <th>1</th>\n",
       "      <td>2019-08-01</td>\n",
       "      <td>B</td>\n",
       "      <td>21</td>\n",
       "      <td>20</td>\n",
       "      <td>101217</td>\n",
       "      <td>713</td>\n",
       "    </tr>\n",
       "    <tr>\n",
       "      <th>2</th>\n",
       "      <td>2019-08-02</td>\n",
       "      <td>A</td>\n",
       "      <td>44</td>\n",
       "      <td>38</td>\n",
       "      <td>242401</td>\n",
       "      <td>1338</td>\n",
       "    </tr>\n",
       "    <tr>\n",
       "      <th>3</th>\n",
       "      <td>2019-08-02</td>\n",
       "      <td>B</td>\n",
       "      <td>45</td>\n",
       "      <td>43</td>\n",
       "      <td>266748</td>\n",
       "      <td>1294</td>\n",
       "    </tr>\n",
       "    <tr>\n",
       "      <th>4</th>\n",
       "      <td>2019-08-03</td>\n",
       "      <td>A</td>\n",
       "      <td>68</td>\n",
       "      <td>62</td>\n",
       "      <td>354874</td>\n",
       "      <td>1845</td>\n",
       "    </tr>\n",
       "  </tbody>\n",
       "</table>\n",
       "</div>"
      ],
      "text/plain": [
       "        date group  orders  buyers  revenue  visitors\n",
       "0 2019-08-01     A      24      20   148579       719\n",
       "1 2019-08-01     B      21      20   101217       713\n",
       "2 2019-08-02     A      44      38   242401      1338\n",
       "3 2019-08-02     B      45      43   266748      1294\n",
       "4 2019-08-03     A      68      62   354874      1845"
      ]
     },
     "execution_count": 28,
     "metadata": {},
     "output_type": "execute_result"
    }
   ],
   "source": [
    "ordersAggregated = datesGroups.apply(lambda x:orders[np.logical_and(orders['date']<= x['date'],orders['group']== x['group'])].agg({'date':'max', 'group': 'max', 'transactionId': 'nunique','visitorId': 'nunique', 'revenue': 'sum'}), axis=1).sort_values(by=['date',  'group'])\n",
    "\n",
    "visitorsAggregated = datesGroups.apply(lambda x:visitors[np.logical_and(visitors['date']<= x['date'],visitors['group']== x['group'])].agg({'date':'max', 'group': 'max',               'visitors':'sum'}),axis=1).sort_values(by=['date',  'group'])\n",
    "\n",
    "cumulativeData = ordersAggregated.merge(visitorsAggregated, left_on=['date', 'group'], right_on=['date', 'group'])\n",
    "\n",
    "cumulativeData.columns=['date', 'group', 'orders', 'buyers', 'revenue', 'visitors']\n",
    "\n",
    "cumulativeData.head(5)\n"
   ]
  },
  {
   "cell_type": "code",
   "execution_count": 29,
   "metadata": {},
   "outputs": [
    {
     "data": {
      "text/plain": [
       "62"
      ]
     },
     "execution_count": 29,
     "metadata": {},
     "output_type": "execute_result"
    }
   ],
   "source": [
    "len(cumulativeData)"
   ]
  },
  {
   "cell_type": "markdown",
   "metadata": {},
   "source": [
    "Применим агрегирующие функции и найдем сколько всего посетителей и заказов было в каждой группе."
   ]
  },
  {
   "cell_type": "code",
   "execution_count": 30,
   "metadata": {},
   "outputs": [
    {
     "data": {
      "text/html": [
       "<div>\n",
       "<style scoped>\n",
       "    .dataframe tbody tr th:only-of-type {\n",
       "        vertical-align: middle;\n",
       "    }\n",
       "\n",
       "    .dataframe tbody tr th {\n",
       "        vertical-align: top;\n",
       "    }\n",
       "\n",
       "    .dataframe thead th {\n",
       "        text-align: right;\n",
       "    }\n",
       "</style>\n",
       "<table border=\"1\" class=\"dataframe\">\n",
       "  <thead>\n",
       "    <tr style=\"text-align: right;\">\n",
       "      <th></th>\n",
       "      <th>group</th>\n",
       "      <th>visitors</th>\n",
       "      <th>orders</th>\n",
       "    </tr>\n",
       "  </thead>\n",
       "  <tbody>\n",
       "    <tr>\n",
       "      <th>0</th>\n",
       "      <td>A</td>\n",
       "      <td>305673</td>\n",
       "      <td>9229</td>\n",
       "    </tr>\n",
       "    <tr>\n",
       "      <th>1</th>\n",
       "      <td>B</td>\n",
       "      <td>307092</td>\n",
       "      <td>10466</td>\n",
       "    </tr>\n",
       "  </tbody>\n",
       "</table>\n",
       "</div>"
      ],
      "text/plain": [
       "  group  visitors  orders\n",
       "0     A    305673    9229\n",
       "1     B    307092   10466"
      ]
     },
     "execution_count": 30,
     "metadata": {},
     "output_type": "execute_result"
    }
   ],
   "source": [
    "new_data=cumulativeData.groupby('group', as_index=False).agg({'visitors':'sum', 'orders':'sum'})\n",
    "new_data"
   ]
  },
  {
   "cell_type": "markdown",
   "metadata": {},
   "source": [
    "Найдем отношение числа заказов к количеству пользователей в каждой группе."
   ]
  },
  {
   "cell_type": "code",
   "execution_count": 31,
   "metadata": {
    "scrolled": true
   },
   "outputs": [
    {
     "data": {
      "text/html": [
       "<div>\n",
       "<style scoped>\n",
       "    .dataframe tbody tr th:only-of-type {\n",
       "        vertical-align: middle;\n",
       "    }\n",
       "\n",
       "    .dataframe tbody tr th {\n",
       "        vertical-align: top;\n",
       "    }\n",
       "\n",
       "    .dataframe thead th {\n",
       "        text-align: right;\n",
       "    }\n",
       "</style>\n",
       "<table border=\"1\" class=\"dataframe\">\n",
       "  <thead>\n",
       "    <tr style=\"text-align: right;\">\n",
       "      <th></th>\n",
       "      <th>group</th>\n",
       "      <th>visitors</th>\n",
       "      <th>orders</th>\n",
       "      <th>ordersToVisitorsRatio</th>\n",
       "    </tr>\n",
       "  </thead>\n",
       "  <tbody>\n",
       "    <tr>\n",
       "      <th>0</th>\n",
       "      <td>A</td>\n",
       "      <td>305673</td>\n",
       "      <td>9229</td>\n",
       "      <td>0.0302</td>\n",
       "    </tr>\n",
       "    <tr>\n",
       "      <th>1</th>\n",
       "      <td>B</td>\n",
       "      <td>307092</td>\n",
       "      <td>10466</td>\n",
       "      <td>0.0341</td>\n",
       "    </tr>\n",
       "  </tbody>\n",
       "</table>\n",
       "</div>"
      ],
      "text/plain": [
       "  group  visitors  orders ordersToVisitorsRatio\n",
       "0     A    305673    9229                0.0302\n",
       "1     B    307092   10466                0.0341"
      ]
     },
     "execution_count": 31,
     "metadata": {},
     "output_type": "execute_result"
    }
   ],
   "source": [
    "new_data['ordersToVisitorsRatio']=(new_data['orders']/new_data['visitors']).map(lambda x:\"{0:.4f}\".format(x))\n",
    "new_data"
   ]
  },
  {
   "cell_type": "markdown",
   "metadata": {},
   "source": [
    "Отношение заказов к посетителям в группе В значительно выше, чем в группе А."
   ]
  },
  {
   "cell_type": "markdown",
   "metadata": {},
   "source": [
    "<a id='1'>\n",
    "Посторим графики кумулятивной выручки по дням и группам А/В-тестирования.\n",
    "</a>"
   ]
  },
  {
   "cell_type": "markdown",
   "metadata": {},
   "source": [
    "Объявим переменные cumulativeRevenueA и cumulativeRevenueB, в которых сохраним данные о датах, выручке и числе заказов в группах А и В."
   ]
  },
  {
   "cell_type": "code",
   "execution_count": 32,
   "metadata": {
    "scrolled": true
   },
   "outputs": [
    {
     "data": {
      "image/png": "[encoded data removed]",
      "text/plain": [
       "<Figure size 432x288 with 1 Axes>"
      ]
     },
     "metadata": {},
     "output_type": "display_data"
    }
   ],
   "source": [
    "cumulativeRevenueA = cumulativeData[cumulativeData['group']=='A'][['date', 'revenue', 'orders']]\n",
    "\n",
    "cumulativeRevenueB =cumulativeData[cumulativeData['group']=='B'][['date', 'revenue', 'orders']]\n",
    "\n",
    "plt.plot(cumulativeRevenueA['date'], cumulativeRevenueA['revenue'], label='A')\n",
    "\n",
    "plt.plot(cumulativeRevenueB['date'], cumulativeRevenueB['revenue'], label='B')\n",
    "plt.xlabel('Дата')\n",
    "plt.ylabel('Выручка')\n",
    "plt.title('Кумулятивная выручка по дням и группам А/В-тестирования')\n",
    "plt.legend()\n",
    "plt.xticks(rotation=90)\n",
    "plt.show()"
   ]
  },
  {
   "cell_type": "markdown",
   "metadata": {},
   "source": [
    "В середине теста сегмент В вырвался вперед. Вероятно, на результат теста влияют аномально большие заказы, что нужно учесть в результате."
   ]
  },
  {
   "cell_type": "markdown",
   "metadata": {},
   "source": [
    "<a id='2'>\n",
    "Построим графики кумулятивного среднего чека по дням по группам.\n",
    "</a>"
   ]
  },
  {
   "cell_type": "code",
   "execution_count": 33,
   "metadata": {
    "scrolled": true
   },
   "outputs": [
    {
     "data": {
      "image/png": "[encoded data removed]",
      "text/plain": [
       "<Figure size 432x288 with 1 Axes>"
      ]
     },
     "metadata": {},
     "output_type": "display_data"
    }
   ],
   "source": [
    "plt.plot(cumulativeRevenueA['date'], cumulativeRevenueA['revenue']/cumulativeRevenueA['orders'], label='A')\n",
    "\n",
    "plt.plot(cumulativeRevenueB['date'], cumulativeRevenueB['revenue']/cumulativeRevenueB['orders'], label='B')\n",
    "plt.xlabel('Дата')\n",
    "plt.ylabel('Средний чек')\n",
    "plt.title('Кумулятивный средний чек по дням и группам А/В-тестирования')\n",
    "plt.legend()\n",
    "plt.xticks(rotation=90)\n",
    "plt.show()"
   ]
  },
  {
   "cell_type": "markdown",
   "metadata": {},
   "source": [
    "Аналогично предыдущему графику у сегмента В подскочил кумулятивный средний чек, который и дальше продолжает колебаться."
   ]
  },
  {
   "cell_type": "markdown",
   "metadata": {},
   "source": [
    "<a id='3'>\n",
    "Построим график относительного изменения кумулятивного среднего чека группы В к группе А.\n",
    "</a>"
   ]
  },
  {
   "cell_type": "code",
   "execution_count": 34,
   "metadata": {},
   "outputs": [
    {
     "data": {
      "image/png": "[encoded data removed]",
      "text/plain": [
       "<Figure size 432x288 with 1 Axes>"
      ]
     },
     "metadata": {},
     "output_type": "display_data"
    }
   ],
   "source": [
    "mergedCumulativeRevenue=cumulativeRevenueA.merge(cumulativeRevenueB, left_on='date', right_on='date', how='left', suffixes=['A', 'B'])\n",
    "\n",
    "plt.plot(mergedCumulativeRevenue['date'], (mergedCumulativeRevenue['revenueB']/mergedCumulativeRevenue['ordersB'])/(mergedCumulativeRevenue['revenueA']/mergedCumulativeRevenue['ordersA'])-1)\n",
    "\n",
    "plt.axhline(y=0, color='black', linestyle='--')\n",
    "plt.xlabel('Дата')\n",
    "plt.ylabel('Различие среднего чека')\n",
    "plt.title('Относительное различие для среднего чека')\n",
    "plt.xticks(rotation=90)\n",
    "plt.show()"
   ]
  },
  {
   "cell_type": "markdown",
   "metadata": {},
   "source": [
    "В нескольких точках график относительного изменения кумулятивного среднего чека резко \"скачет\", видимо, были аномальные заказы. Большей частью график расположен выше 0."
   ]
  },
  {
   "cell_type": "markdown",
   "metadata": {},
   "source": [
    "<a id='4'>\n",
    "Построим график кумулятивной конверсии по группам.\n",
    "</a>"
   ]
  },
  {
   "cell_type": "markdown",
   "metadata": {},
   "source": [
    "Добавим в cumulativeData столбец 'conversion' с отношением числа заказов к количеству пользователей в указанной группе в указанный день. Объявим переменные cumulativeDateA и cumulativeDateB, в которых сохраним данные о заказах в группах А и В соответственно."
   ]
  },
  {
   "cell_type": "code",
   "execution_count": 35,
   "metadata": {
    "scrolled": true
   },
   "outputs": [
    {
     "data": {
      "image/png": "[encoded data removed]",
      "text/plain": [
       "<Figure size 432x288 with 1 Axes>"
      ]
     },
     "metadata": {},
     "output_type": "display_data"
    }
   ],
   "source": [
    "cumulativeData['conversion']=cumulativeData['orders']/cumulativeData['visitors']\n",
    "\n",
    "cumulativeDataA=cumulativeData[cumulativeData['group']=='A']\n",
    "\n",
    "cumulativeDataB=cumulativeData[cumulativeData['group']=='B']\n",
    "\n",
    "plt.plot(cumulativeDataA['date'], cumulativeDataA['conversion'], label='A')\n",
    "\n",
    "plt.plot(cumulativeDataB['date'], cumulativeDataB['conversion'], label='B')\n",
    "\n",
    "plt.legend()\n",
    "plt.axis([dt.datetime(2019, 8, 1), dt.datetime(2019, 9, 1), 0, 0.05])\n",
    "plt.xlabel('Дата')\n",
    "plt.ylabel('Конверсия')\n",
    "plt.title('Кумулятивная конверсия по группам')\n",
    "plt.xticks(rotation=90)\n",
    "plt.show()"
   ]
  },
  {
   "cell_type": "markdown",
   "metadata": {},
   "source": [
    "В начале теста сегмент А имел большую конверсию, затем упал и установился примерно у одного значения. Сегмент В вырос выше А и тоже установился в пределах одного значения."
   ]
  },
  {
   "cell_type": "markdown",
   "metadata": {},
   "source": [
    "<a id='5'>\n",
    "Построим график относительного изменения кумулятивной конверсии по группам.    \n",
    "</a>"
   ]
  },
  {
   "cell_type": "markdown",
   "metadata": {},
   "source": [
    "Объединим таблицы cumulativeDataA и cumulativeDataB методом merge(). Построим график относительного различия кумулятивной конверсии группы А к группе В."
   ]
  },
  {
   "cell_type": "code",
   "execution_count": 36,
   "metadata": {
    "scrolled": false
   },
   "outputs": [
    {
     "data": {
      "image/png": "[encoded data removed]",
      "text/plain": [
       "<Figure size 432x288 with 1 Axes>"
      ]
     },
     "metadata": {},
     "output_type": "display_data"
    }
   ],
   "source": [
    "mergedCumulativeConversions=cumulativeDataA[['date', 'conversion']].merge(cumulativeDataB[['date', 'conversion']], left_on='date', right_on='date', how='left', suffixes=['A', 'B'])\n",
    "\n",
    "plt.plot(mergedCumulativeConversions['date'], mergedCumulativeConversions['conversionB']/mergedCumulativeConversions['conversionA']-1, label='Относительный прирост конверсии группы В относительно группы А')\n",
    "\n",
    "plt.legend()\n",
    "\n",
    "plt.axhline(y=0, color='black', linestyle='--')\n",
    "\n",
    "plt.axhline(y=0.2, color='grey', linestyle='--')\n",
    "\n",
    "plt.axis([\"2019-8-1\", '2019-9-1', -0.5, 0.5])\n",
    "plt.xlabel('Дата')\n",
    "plt.ylabel('Конверсия')\n",
    "plt.title('Относительный прирост конверсии группы В относительно группы А')\n",
    "plt.xticks(rotation=90)\n",
    "plt.show()"
   ]
  },
  {
   "cell_type": "markdown",
   "metadata": {},
   "source": [
    "Группа В опережает группу А почти с начала тестирования. Прирост примерно 15%. Однако, нельзя утверждать, что данные фиксируются на определеннем уровне."
   ]
  },
  {
   "cell_type": "markdown",
   "metadata": {},
   "source": [
    "<a id='6'>\n",
    "Построим точечный график количества заказов по пользателям.\n",
    "</a>"
   ]
  },
  {
   "cell_type": "code",
   "execution_count": 37,
   "metadata": {},
   "outputs": [
    {
     "data": {
      "text/html": [
       "<div>\n",
       "<style scoped>\n",
       "    .dataframe tbody tr th:only-of-type {\n",
       "        vertical-align: middle;\n",
       "    }\n",
       "\n",
       "    .dataframe tbody tr th {\n",
       "        vertical-align: top;\n",
       "    }\n",
       "\n",
       "    .dataframe thead th {\n",
       "        text-align: right;\n",
       "    }\n",
       "</style>\n",
       "<table border=\"1\" class=\"dataframe\">\n",
       "  <thead>\n",
       "    <tr style=\"text-align: right;\">\n",
       "      <th></th>\n",
       "      <th>visitorId</th>\n",
       "      <th>orders</th>\n",
       "    </tr>\n",
       "  </thead>\n",
       "  <tbody>\n",
       "    <tr>\n",
       "      <th>1023</th>\n",
       "      <td>4256040402</td>\n",
       "      <td>11</td>\n",
       "    </tr>\n",
       "    <tr>\n",
       "      <th>591</th>\n",
       "      <td>2458001652</td>\n",
       "      <td>11</td>\n",
       "    </tr>\n",
       "    <tr>\n",
       "      <th>569</th>\n",
       "      <td>2378935119</td>\n",
       "      <td>9</td>\n",
       "    </tr>\n",
       "    <tr>\n",
       "      <th>487</th>\n",
       "      <td>2038680547</td>\n",
       "      <td>8</td>\n",
       "    </tr>\n",
       "    <tr>\n",
       "      <th>44</th>\n",
       "      <td>199603092</td>\n",
       "      <td>5</td>\n",
       "    </tr>\n",
       "    <tr>\n",
       "      <th>744</th>\n",
       "      <td>3062433592</td>\n",
       "      <td>5</td>\n",
       "    </tr>\n",
       "    <tr>\n",
       "      <th>55</th>\n",
       "      <td>237748145</td>\n",
       "      <td>5</td>\n",
       "    </tr>\n",
       "    <tr>\n",
       "      <th>917</th>\n",
       "      <td>3803269165</td>\n",
       "      <td>5</td>\n",
       "    </tr>\n",
       "    <tr>\n",
       "      <th>299</th>\n",
       "      <td>1230306981</td>\n",
       "      <td>5</td>\n",
       "    </tr>\n",
       "    <tr>\n",
       "      <th>897</th>\n",
       "      <td>3717692402</td>\n",
       "      <td>5</td>\n",
       "    </tr>\n",
       "  </tbody>\n",
       "</table>\n",
       "</div>"
      ],
      "text/plain": [
       "       visitorId  orders\n",
       "1023  4256040402      11\n",
       "591   2458001652      11\n",
       "569   2378935119       9\n",
       "487   2038680547       8\n",
       "44     199603092       5\n",
       "744   3062433592       5\n",
       "55     237748145       5\n",
       "917   3803269165       5\n",
       "299   1230306981       5\n",
       "897   3717692402       5"
      ]
     },
     "execution_count": 37,
     "metadata": {},
     "output_type": "execute_result"
    }
   ],
   "source": [
    "ordersByUsers = (orders.groupby('visitorId', as_index=False)\n",
    "                 .agg({'transactionId': 'nunique'})\n",
    "                )\n",
    "ordersByUsers.columns =['visitorId', 'orders'] \n",
    "ordersByUsers.sort_values(by='orders',ascending=False).head(10)"
   ]
  },
  {
   "cell_type": "code",
   "execution_count": 38,
   "metadata": {
    "scrolled": true
   },
   "outputs": [
    {
     "data": {
      "image/png": "[encoded data removed]",
      "text/plain": [
       "<Figure size 432x288 with 1 Axes>"
      ]
     },
     "metadata": {},
     "output_type": "display_data"
    }
   ],
   "source": [
    "# серия из чисел от 0 до количества наблюдений в ordersByUsers\n",
    "x_values = pd.Series(range(0, len(ordersByUsers)))\n",
    "\n",
    "plt.scatter(x_values, ordersByUsers['orders'])\n",
    "plt.xlabel('Пользователи')\n",
    "plt.ylabel('Количество заказов')\n",
    "plt.title('Количество заказов по пользователям')\n",
    "plt.show()"
   ]
  },
  {
   "cell_type": "markdown",
   "metadata": {},
   "source": [
    "Пользователи, которые сделали более двух заказов, встречаютсч редко. Для того, чтобы выяснить, имеют ли место аномалии в данном случае, считаем 95-й и 99-й перцентили количества заказов на пользователя."
   ]
  },
  {
   "cell_type": "markdown",
   "metadata": {},
   "source": [
    "<a id='7'>\n",
    "Посчитаем 95-й и 99-й перцентили количества заказов на пользователя.\n",
    "</a>"
   ]
  },
  {
   "cell_type": "code",
   "execution_count": 39,
   "metadata": {},
   "outputs": [
    {
     "data": {
      "text/plain": [
       "array([2., 4.])"
      ]
     },
     "execution_count": 39,
     "metadata": {},
     "output_type": "execute_result"
    }
   ],
   "source": [
    "ordersByUsers.sort_values(by='orders',ascending=False).head(10)\n",
    "np.percentile(ordersByUsers['orders'],[95,99])"
   ]
  },
  {
   "cell_type": "markdown",
   "metadata": {},
   "source": [
    "Не более 5% пользователей оформляли больше двух заказов и только 1% пользователей - более четырёх."
   ]
  },
  {
   "cell_type": "markdown",
   "metadata": {},
   "source": [
    "<a id='8'>\n",
    "Построим точечный график стоимости заказов.\n",
    "</a>"
   ]
  },
  {
   "cell_type": "code",
   "execution_count": 40,
   "metadata": {},
   "outputs": [
    {
     "data": {
      "image/png": "[encoded data removed]",
      "text/plain": [
       "<Figure size 432x288 with 1 Axes>"
      ]
     },
     "metadata": {},
     "output_type": "display_data"
    }
   ],
   "source": [
    "x_values = pd.Series(range(0,len(orders['revenue'])))\n",
    "plt.scatter(x_values, orders['revenue'])\n",
    "plt.xlabel('Пользователи')\n",
    "plt.ylabel('Стоимость заказов')\n",
    "plt.title('Стоимость заказов')\n",
    "plt.show()"
   ]
  },
  {
   "cell_type": "markdown",
   "metadata": {},
   "source": [
    "Есть аномальные выбросы со значением более 1250000 и 200000."
   ]
  },
  {
   "cell_type": "markdown",
   "metadata": {},
   "source": [
    "<a id='9'>\n",
    "Посчитаем 95-й и 99-й перцентили стоимости заказов.\n",
    "</a>"
   ]
  },
  {
   "cell_type": "code",
   "execution_count": 41,
   "metadata": {},
   "outputs": [
    {
     "data": {
      "text/html": [
       "<div>\n",
       "<style scoped>\n",
       "    .dataframe tbody tr th:only-of-type {\n",
       "        vertical-align: middle;\n",
       "    }\n",
       "\n",
       "    .dataframe tbody tr th {\n",
       "        vertical-align: top;\n",
       "    }\n",
       "\n",
       "    .dataframe thead th {\n",
       "        text-align: right;\n",
       "    }\n",
       "</style>\n",
       "<table border=\"1\" class=\"dataframe\">\n",
       "  <thead>\n",
       "    <tr style=\"text-align: right;\">\n",
       "      <th></th>\n",
       "      <th>transactionId</th>\n",
       "      <th>visitorId</th>\n",
       "      <th>date</th>\n",
       "      <th>revenue</th>\n",
       "      <th>group</th>\n",
       "    </tr>\n",
       "  </thead>\n",
       "  <tbody>\n",
       "    <tr>\n",
       "      <th>0</th>\n",
       "      <td>3667963787</td>\n",
       "      <td>3312258926</td>\n",
       "      <td>2019-08-15</td>\n",
       "      <td>1650</td>\n",
       "      <td>B</td>\n",
       "    </tr>\n",
       "    <tr>\n",
       "      <th>1</th>\n",
       "      <td>2804400009</td>\n",
       "      <td>3642806036</td>\n",
       "      <td>2019-08-15</td>\n",
       "      <td>730</td>\n",
       "      <td>B</td>\n",
       "    </tr>\n",
       "    <tr>\n",
       "      <th>2</th>\n",
       "      <td>2961555356</td>\n",
       "      <td>4069496402</td>\n",
       "      <td>2019-08-15</td>\n",
       "      <td>400</td>\n",
       "      <td>A</td>\n",
       "    </tr>\n",
       "    <tr>\n",
       "      <th>3</th>\n",
       "      <td>3797467345</td>\n",
       "      <td>1196621759</td>\n",
       "      <td>2019-08-15</td>\n",
       "      <td>9759</td>\n",
       "      <td>B</td>\n",
       "    </tr>\n",
       "    <tr>\n",
       "      <th>4</th>\n",
       "      <td>2282983706</td>\n",
       "      <td>2322279887</td>\n",
       "      <td>2019-08-15</td>\n",
       "      <td>2308</td>\n",
       "      <td>B</td>\n",
       "    </tr>\n",
       "    <tr>\n",
       "      <th>5</th>\n",
       "      <td>182168103</td>\n",
       "      <td>935554773</td>\n",
       "      <td>2019-08-15</td>\n",
       "      <td>2210</td>\n",
       "      <td>B</td>\n",
       "    </tr>\n",
       "    <tr>\n",
       "      <th>6</th>\n",
       "      <td>398296753</td>\n",
       "      <td>2900797465</td>\n",
       "      <td>2019-08-15</td>\n",
       "      <td>1860</td>\n",
       "      <td>B</td>\n",
       "    </tr>\n",
       "    <tr>\n",
       "      <th>7</th>\n",
       "      <td>2626614568</td>\n",
       "      <td>78758296</td>\n",
       "      <td>2019-08-15</td>\n",
       "      <td>1044</td>\n",
       "      <td>A</td>\n",
       "    </tr>\n",
       "    <tr>\n",
       "      <th>8</th>\n",
       "      <td>1576988021</td>\n",
       "      <td>295230930</td>\n",
       "      <td>2019-08-15</td>\n",
       "      <td>13710</td>\n",
       "      <td>A</td>\n",
       "    </tr>\n",
       "    <tr>\n",
       "      <th>9</th>\n",
       "      <td>1506739906</td>\n",
       "      <td>1882260405</td>\n",
       "      <td>2019-08-15</td>\n",
       "      <td>1855</td>\n",
       "      <td>B</td>\n",
       "    </tr>\n",
       "  </tbody>\n",
       "</table>\n",
       "</div>"
      ],
      "text/plain": [
       "   transactionId   visitorId       date  revenue group\n",
       "0     3667963787  3312258926 2019-08-15     1650     B\n",
       "1     2804400009  3642806036 2019-08-15      730     B\n",
       "2     2961555356  4069496402 2019-08-15      400     A\n",
       "3     3797467345  1196621759 2019-08-15     9759     B\n",
       "4     2282983706  2322279887 2019-08-15     2308     B\n",
       "5      182168103   935554773 2019-08-15     2210     B\n",
       "6      398296753  2900797465 2019-08-15     1860     B\n",
       "7     2626614568    78758296 2019-08-15     1044     A\n",
       "8     1576988021   295230930 2019-08-15    13710     A\n",
       "9     1506739906  1882260405 2019-08-15     1855     B"
      ]
     },
     "execution_count": 41,
     "metadata": {},
     "output_type": "execute_result"
    }
   ],
   "source": [
    "orders.head(10)"
   ]
  },
  {
   "cell_type": "code",
   "execution_count": 42,
   "metadata": {},
   "outputs": [
    {
     "name": "stdout",
     "output_type": "stream",
     "text": [
      "[28000.  58233.2]\n"
     ]
    }
   ],
   "source": [
    "print(np.percentile(orders['revenue'], [95,99]))"
   ]
  },
  {
   "cell_type": "markdown",
   "metadata": {},
   "source": [
    "Не более 5% пользователей оформили заказы на сумму 28000 и 1% - на сумму более 58233."
   ]
  },
  {
   "cell_type": "markdown",
   "metadata": {},
   "source": [
    "<a id='10'>\n",
    "Посчитаем статистическую значимость различий в конверсии между группами по \"сырым\" данным.\n",
    "</a>"
   ]
  },
  {
   "cell_type": "markdown",
   "metadata": {},
   "source": [
    "Создадим переменные ordersByUsersA и ordersByUsersB со столбцами visitorId и transactionId, где для пользователей, совершивших хотя бы один заказ, будет указано количество заказов.\n",
    "\n",
    "Объявим переменные sampleA и sampleB, в которых пользователям с заказами будет соответствовать число заказов пользователя, а пользователям без заказов - нули. Посчитаем статистическую значимость различия среднего количества заказов. \n",
    "\n",
    "Для расчета p-value используем непараметрический тест Манна-Уитни, так как есть выбросы , а тест работает с рангами, не учитывая значения.\n",
    "\n",
    "Сформулируем нулевую и альтернативную гипотезу:\n",
    "\n",
    "Н0: Статистическая значимость в количестве заказов и среднем чеке не значительна и сделать вывод о различии нельзя.\n",
    "\n",
    "Н1: Статистическая значимость в количестве заказов и среднем чеке значительна и между выборками имеется статистическая значимость.\n",
    "\n",
    "Порогом статистической значимости установим alpha=.05"
   ]
  },
  {
   "cell_type": "code",
   "execution_count": 43,
   "metadata": {
    "scrolled": true
   },
   "outputs": [
    {
     "name": "stdout",
     "output_type": "stream",
     "text": [
      "P-value - уровень значимости составляет: 0.016792355056752608\n",
      "Относительный прирост среднего группы В относительно группы А составляет: 0.138\n"
     ]
    }
   ],
   "source": [
    "visitorsADaily = visitors[visitors['group'] == 'A'][['date', 'visitors']]\n",
    "visitorsADaily.columns = ['date', 'visitorsPerDateA']\n",
    "\n",
    "visitorsACummulative = visitorsADaily.apply(\n",
    "    lambda x: visitorsADaily[visitorsADaily['date'] <= x['date']].agg(\n",
    "        {'date': 'max', 'visitorsPerDateA': 'sum'}\n",
    "    ),\n",
    "    axis=1,\n",
    ")\n",
    "visitorsACummulative.columns = ['date', 'visitorsCummulativeA']\n",
    "\n",
    "visitorsBDaily = visitors[visitors['group'] == 'B'][['date', 'visitors']]\n",
    "visitorsBDaily.columns = ['date', 'visitorsPerDateB']\n",
    "\n",
    "visitorsBCummulative = visitorsBDaily.apply(\n",
    "    lambda x: visitorsBDaily[visitorsBDaily['date'] <= x['date']].agg(\n",
    "        {'date': 'max', 'visitorsPerDateB': 'sum'}\n",
    "    ),\n",
    "    axis=1,\n",
    ")\n",
    "visitorsBCummulative.columns = ['date', 'visitorsCummulativeB']\n",
    "\n",
    "ordersADaily = (\n",
    "    orders[orders['group'] == 'A'][['date', 'transactionId', 'visitorId', 'revenue']]\n",
    "    .groupby('date', as_index=False)\n",
    "    .agg({'transactionId': pd.Series.nunique, 'revenue': 'sum'})\n",
    ")\n",
    "ordersADaily.columns = ['date', 'ordersPerDateA', 'revenuePerDateA']\n",
    "\n",
    "ordersACummulative = ordersADaily.apply(\n",
    "    lambda x: ordersADaily[ordersADaily['date'] <= x['date']].agg(\n",
    "        {'date': 'max', 'ordersPerDateA': 'sum', 'revenuePerDateA': 'sum'}\n",
    "    ),\n",
    "    axis=1,\n",
    ").sort_values(by=['date'])\n",
    "ordersACummulative.columns = [\n",
    "    'date',\n",
    "    'ordersCummulativeA',\n",
    "    'revenueCummulativeA',\n",
    "]\n",
    "\n",
    "ordersBDaily = (\n",
    "    orders[orders['group'] == 'B'][['date', 'transactionId', 'visitorId', 'revenue']]\n",
    "    .groupby('date', as_index=False)\n",
    "    .agg({'transactionId': pd.Series.nunique, 'revenue': 'sum'})\n",
    ")\n",
    "ordersBDaily.columns = ['date', 'ordersPerDateB', 'revenuePerDateB']\n",
    "\n",
    "ordersBCummulative = ordersBDaily.apply(\n",
    "    lambda x: ordersBDaily[ordersBDaily['date'] <= x['date']].agg(\n",
    "        {'date': 'max', 'ordersPerDateB': 'sum', 'revenuePerDateB': 'sum'}\n",
    "    ),\n",
    "    axis=1,\n",
    ").sort_values(by=['date'])\n",
    "ordersBCummulative.columns = [\n",
    "    'date',\n",
    "    'ordersCummulativeB',\n",
    "    'revenueCummulativeB',\n",
    "]\n",
    "\n",
    "data = (\n",
    "    ordersADaily.merge(\n",
    "        ordersBDaily, left_on='date', right_on='date', how='left'\n",
    "    )\n",
    "    .merge(ordersACummulative, left_on='date', right_on='date', how='left')\n",
    "    .merge(ordersBCummulative, left_on='date', right_on='date', how='left')\n",
    "    .merge(visitorsADaily, left_on='date', right_on='date', how='left')\n",
    "    .merge(visitorsBDaily, left_on='date', right_on='date', how='left')\n",
    "    .merge(visitorsACummulative, left_on='date', right_on='date', how='left')\n",
    "    .merge(visitorsBCummulative, left_on='date', right_on='date', how='left')\n",
    ")\n",
    "\n",
    "data.head(5)\n",
    "\n",
    "ordersByUsersA = (\n",
    "    orders[orders['group'] == 'A']\n",
    "    .groupby('visitorId', as_index=False)\n",
    "    .agg({'transactionId': pd.Series.nunique})\n",
    ")\n",
    "ordersByUsersA.columns = ['userId', 'orders']\n",
    "\n",
    "ordersByUsersB = (\n",
    "    orders[orders['group'] == 'B']\n",
    "    .groupby('visitorId', as_index=False)\n",
    "    .agg({'transactionId': pd.Series.nunique})\n",
    ")\n",
    "ordersByUsersB.columns = ['visitorId', 'orders'] \n",
    "\n",
    "sampleA = pd.concat(\n",
    "    [\n",
    "        ordersByUsersA['orders'],\n",
    "        pd.Series(\n",
    "            0,\n",
    "            index=np.arange(\n",
    "                data['visitorsPerDateA'].sum() - len(ordersByUsersA['orders'])\n",
    "            ),\n",
    "            name='orders',\n",
    "        ),\n",
    "    ],\n",
    "    axis=0,\n",
    ")\n",
    "\n",
    "sampleB = pd.concat(\n",
    "    [\n",
    "        ordersByUsersB['orders'],\n",
    "        pd.Series(\n",
    "            0,\n",
    "            index=np.arange(\n",
    "                data['visitorsPerDateB'].sum() - len(ordersByUsersB['orders'])\n",
    "            ),\n",
    "            name='orders',\n",
    "        ),\n",
    "    ],\n",
    "    axis=0,\n",
    ")\n",
    "\n",
    "print('P-value - уровень значимости составляет:', stats.mannwhitneyu(sampleA, sampleB)[1])\n",
    "\n",
    "print('Относительный прирост среднего группы В относительно группы А составляет:', \"{0:.3f}\".format(sampleB.mean() / sampleA.mean() - 1))\n",
    " \n"
   ]
  },
  {
   "cell_type": "code",
   "execution_count": 44,
   "metadata": {},
   "outputs": [
    {
     "data": {
      "text/html": [
       "<div>\n",
       "<style scoped>\n",
       "    .dataframe tbody tr th:only-of-type {\n",
       "        vertical-align: middle;\n",
       "    }\n",
       "\n",
       "    .dataframe tbody tr th {\n",
       "        vertical-align: top;\n",
       "    }\n",
       "\n",
       "    .dataframe thead th {\n",
       "        text-align: right;\n",
       "    }\n",
       "</style>\n",
       "<table border=\"1\" class=\"dataframe\">\n",
       "  <thead>\n",
       "    <tr style=\"text-align: right;\">\n",
       "      <th></th>\n",
       "      <th>date</th>\n",
       "      <th>ordersPerDateA</th>\n",
       "      <th>revenuePerDateA</th>\n",
       "      <th>ordersPerDateB</th>\n",
       "      <th>revenuePerDateB</th>\n",
       "      <th>ordersCummulativeA</th>\n",
       "      <th>revenueCummulativeA</th>\n",
       "      <th>ordersCummulativeB</th>\n",
       "      <th>revenueCummulativeB</th>\n",
       "      <th>visitorsPerDateA</th>\n",
       "      <th>visitorsPerDateB</th>\n",
       "      <th>visitorsCummulativeA</th>\n",
       "      <th>visitorsCummulativeB</th>\n",
       "    </tr>\n",
       "  </thead>\n",
       "  <tbody>\n",
       "    <tr>\n",
       "      <th>0</th>\n",
       "      <td>2019-08-01</td>\n",
       "      <td>24</td>\n",
       "      <td>148579</td>\n",
       "      <td>21</td>\n",
       "      <td>101217</td>\n",
       "      <td>24</td>\n",
       "      <td>148579</td>\n",
       "      <td>21</td>\n",
       "      <td>101217</td>\n",
       "      <td>719</td>\n",
       "      <td>713</td>\n",
       "      <td>719</td>\n",
       "      <td>713</td>\n",
       "    </tr>\n",
       "    <tr>\n",
       "      <th>1</th>\n",
       "      <td>2019-08-02</td>\n",
       "      <td>20</td>\n",
       "      <td>93822</td>\n",
       "      <td>24</td>\n",
       "      <td>165531</td>\n",
       "      <td>44</td>\n",
       "      <td>242401</td>\n",
       "      <td>45</td>\n",
       "      <td>266748</td>\n",
       "      <td>619</td>\n",
       "      <td>581</td>\n",
       "      <td>1338</td>\n",
       "      <td>1294</td>\n",
       "    </tr>\n",
       "    <tr>\n",
       "      <th>2</th>\n",
       "      <td>2019-08-03</td>\n",
       "      <td>24</td>\n",
       "      <td>112473</td>\n",
       "      <td>16</td>\n",
       "      <td>114248</td>\n",
       "      <td>68</td>\n",
       "      <td>354874</td>\n",
       "      <td>61</td>\n",
       "      <td>380996</td>\n",
       "      <td>507</td>\n",
       "      <td>509</td>\n",
       "      <td>1845</td>\n",
       "      <td>1803</td>\n",
       "    </tr>\n",
       "    <tr>\n",
       "      <th>3</th>\n",
       "      <td>2019-08-04</td>\n",
       "      <td>16</td>\n",
       "      <td>70825</td>\n",
       "      <td>17</td>\n",
       "      <td>108571</td>\n",
       "      <td>84</td>\n",
       "      <td>425699</td>\n",
       "      <td>78</td>\n",
       "      <td>489567</td>\n",
       "      <td>717</td>\n",
       "      <td>770</td>\n",
       "      <td>2562</td>\n",
       "      <td>2573</td>\n",
       "    </tr>\n",
       "    <tr>\n",
       "      <th>4</th>\n",
       "      <td>2019-08-05</td>\n",
       "      <td>25</td>\n",
       "      <td>124218</td>\n",
       "      <td>23</td>\n",
       "      <td>92428</td>\n",
       "      <td>109</td>\n",
       "      <td>549917</td>\n",
       "      <td>101</td>\n",
       "      <td>581995</td>\n",
       "      <td>756</td>\n",
       "      <td>707</td>\n",
       "      <td>3318</td>\n",
       "      <td>3280</td>\n",
       "    </tr>\n",
       "  </tbody>\n",
       "</table>\n",
       "</div>"
      ],
      "text/plain": [
       "        date  ordersPerDateA  revenuePerDateA  ordersPerDateB  revenuePerDateB  ordersCummulativeA  revenueCummulativeA  ordersCummulativeB  revenueCummulativeB  visitorsPerDateA  visitorsPerDateB  visitorsCummulativeA  visitorsCummulativeB\n",
       "0 2019-08-01              24           148579              21           101217                  24               148579                  21               101217               719               713                   719                   713\n",
       "1 2019-08-02              20            93822              24           165531                  44               242401                  45               266748               619               581                  1338                  1294\n",
       "2 2019-08-03              24           112473              16           114248                  68               354874                  61               380996               507               509                  1845                  1803\n",
       "3 2019-08-04              16            70825              17           108571                  84               425699                  78               489567               717               770                  2562                  2573\n",
       "4 2019-08-05              25           124218              23            92428                 109               549917                 101               581995               756               707                  3318                  3280"
      ]
     },
     "execution_count": 44,
     "metadata": {},
     "output_type": "execute_result"
    }
   ],
   "source": [
    "data.head(5)"
   ]
  },
  {
   "cell_type": "markdown",
   "metadata": {},
   "source": [
    "P-value значительно меньше 0.05, значит, нужно отвергнуть нулевую гипотезу. Анализ \"сырых данных\" показывает, что в среднем количестве заказов между группами есть статистически значимые различия.\n",
    "\n",
    "Относительный прирост среднего группы В к конверсии группы А равен 13.8%."
   ]
  },
  {
   "cell_type": "markdown",
   "metadata": {},
   "source": [
    "<a id='11'>\n",
    "Посчитаем статистическую значимость различий в среднем чеке по \"сырым данным\".\n",
    "</a>"
   ]
  },
  {
   "cell_type": "markdown",
   "metadata": {},
   "source": [
    "Сравним средние чеки по \"сырым данным\" и рассмотрим данные без выбросов."
   ]
  },
  {
   "cell_type": "code",
   "execution_count": 45,
   "metadata": {},
   "outputs": [
    {
     "name": "stdout",
     "output_type": "stream",
     "text": [
      "P-value 0.729\n",
      "Относительные различия между чеками: 0.259\n"
     ]
    }
   ],
   "source": [
    "print('P-value','{0:.3f}'.format(stats.mannwhitneyu(orders[orders['group']=='A']['revenue'], orders[orders['group']=='B']['revenue'])[1]))\n",
    "print('Относительные различия между чеками:','{0:.3f}'.format(orders[orders['group']=='B']['revenue'].mean()/orders[orders['group']=='A']['revenue'].mean()-1)) "
   ]
  },
  {
   "cell_type": "markdown",
   "metadata": {},
   "source": [
    "P-value значительно больше 0.05, статистически значимых отличий в среднем чеке между группами нет. Относительное различие между чеками около 26%."
   ]
  },
  {
   "cell_type": "markdown",
   "metadata": {},
   "source": [
    "<a id='12'>\n",
    "Посчитаем статистическую значимость различий в среднем количестве заказов на посетителя между группами по \"очищенным данным\".\n",
    "</a>"
   ]
  },
  {
   "cell_type": "markdown",
   "metadata": {},
   "source": [
    "Очистим данные от аномальных значений. 95-й и 99-й перцентили средних чеков равны 28000 и 58233 руб. 95-й и 99-й перцентили числа заказов на одного пользователя - 2 и 4 заказа на пользователя. Будем считать аномалиями пользователей, которые сделал 4 и более заказов, или сделал заказ на сумму более 30000 руб. Т.е. мы убираем 1% пользователей с 4 и более заказами и от 1% до 5% заказов с самой большой стоимостью. Сделаем срезы, объединим в таблицу."
   ]
  },
  {
   "cell_type": "code",
   "execution_count": 46,
   "metadata": {},
   "outputs": [],
   "source": [
    "max_orders =  int(np.percentile(orders['transactionId'], [95]))\n",
    "max_revenue = int(np.percentile(orders['revenue'], [95]))"
   ]
  },
  {
   "cell_type": "code",
   "execution_count": 47,
   "metadata": {},
   "outputs": [
    {
     "data": {
      "text/plain": [
       "1099    148427295\n",
       "928     204675465\n",
       "684     358944393\n",
       "648     382846391\n",
       "1189    393266494\n",
       "dtype: int64"
      ]
     },
     "execution_count": 47,
     "metadata": {},
     "output_type": "execute_result"
    }
   ],
   "source": [
    "usersWithManyOrders = pd.concat(\n",
    "    [\n",
    "        ordersByUsersA[ordersByUsersA['orders'] > max_orders]['userId'],\n",
    "        ordersByUsersB[ordersByUsersB['orders'] > max_orders]['visitorId'],\n",
    "    ],\n",
    "    axis=0,\n",
    ")\n",
    "usersWithExpensiveOrders = orders[orders['revenue'] > max_revenue]['visitorId']\n",
    "abnormalUsers = (\n",
    "    pd.concat([usersWithManyOrders, usersWithExpensiveOrders], axis=0)\n",
    "    .drop_duplicates()\n",
    "    .sort_values()\n",
    ")\n",
    "abnormalUsers.head(5)"
   ]
  },
  {
   "cell_type": "code",
   "execution_count": 48,
   "metadata": {},
   "outputs": [
    {
     "name": "stdout",
     "output_type": "stream",
     "text": [
      "0.019\n",
      "0.120\n"
     ]
    }
   ],
   "source": [
    "sampleAFiltered = pd.concat(\n",
    "    [\n",
    "        ordersByUsersA[\n",
    "            np.logical_not(ordersByUsersA['userId'].isin(abnormalUsers))\n",
    "        ]['userId'],\n",
    "        pd.Series(\n",
    "            0,\n",
    "            index=np.arange(\n",
    "                data['visitorsPerDateA'].sum() - len(ordersByUsersA['orders'])\n",
    "            ),\n",
    "            name='orders',\n",
    "        ),\n",
    "    ],\n",
    "    axis=0,\n",
    ")\n",
    "sampleBFiltered = pd.concat(\n",
    "    [\n",
    "        ordersByUsersB[\n",
    "            np.logical_not(ordersByUsersB['visitorId'].isin(abnormalUsers))\n",
    "        ]['visitorId'],\n",
    "        pd.Series(\n",
    "            0,\n",
    "            index=np.arange(\n",
    "                data['visitorsPerDateB'].sum() - len(ordersByUsersB['orders'])\n",
    "            ),\n",
    "            name='orders',\n",
    "        ),\n",
    "    ],\n",
    "    axis=0,\n",
    ") \n",
    "\n",
    "print('{0:.3f}'.format(stats.mannwhitneyu(sampleAFiltered, sampleBFiltered)[1]))\n",
    "print('{0:.3f}'.format(sampleBFiltered.mean()/sampleAFiltered.mean()-1)) "
   ]
  },
  {
   "cell_type": "markdown",
   "metadata": {},
   "source": [
    "Сегмент В лучше сегмента А, статистическая значимость достигнута, так же как и в случае с \"сырыми данными\"."
   ]
  },
  {
   "cell_type": "markdown",
   "metadata": {},
   "source": [
    "<a id='13'>\n",
    "Посчитаем статистическую значимость различия в среднем чеке заказа между группами после удаления \"аномальных значений.\"\n",
    "</a>"
   ]
  },
  {
   "cell_type": "code",
   "execution_count": 49,
   "metadata": {},
   "outputs": [
    {
     "name": "stdout",
     "output_type": "stream",
     "text": [
      "0.863\n",
      "-0.013\n"
     ]
    }
   ],
   "source": [
    "print(\n",
    "    '{0:.3f}'.format(\n",
    "        stats.mannwhitneyu(\n",
    "            orders[\n",
    "                np.logical_and(\n",
    "                    orders['group'] == 'A',\n",
    "                    np.logical_not(orders['visitorId'].isin(abnormalUsers)),\n",
    "                )\n",
    "            ]['revenue'],\n",
    "            orders[\n",
    "                np.logical_and(\n",
    "                    orders['group'] == 'B',\n",
    "                    np.logical_not(orders['visitorId'].isin(abnormalUsers)),\n",
    "                )\n",
    "            ]['revenue'],\n",
    "        )[1]\n",
    "    )\n",
    ")\n",
    "\n",
    "print(\n",
    "    \"{0:.3f}\".format(\n",
    "        orders[\n",
    "            np.logical_and(\n",
    "                orders['group'] == 'B',\n",
    "                np.logical_not(orders['visitorId'].isin(abnormalUsers)),\n",
    "            )\n",
    "        ]['revenue'].mean()\n",
    "        / orders[\n",
    "            np.logical_and(\n",
    "                orders['group'] == 'A',\n",
    "                np.logical_not(orders['visitorId'].isin(abnormalUsers)),\n",
    "            )\n",
    "        ]['revenue'].mean()\n",
    "        - 1\n",
    "    )\n",
    ") "
   ]
  },
  {
   "cell_type": "markdown",
   "metadata": {},
   "source": [
    "P-value увеличился, но разница между сегментами сократилась с 26% до -17%. В данных стало меньше шума после удаления выбросов."
   ]
  },
  {
   "cell_type": "markdown",
   "metadata": {},
   "source": [
    "<a id='14'>\n",
    "Выводы и принятие решения по тесту.    \n",
    "</a>"
   ]
  },
  {
   "cell_type": "markdown",
   "metadata": {},
   "source": [
    "### Выводы:\n",
    "\n",
    "*Есть статистически значимое различие по конверсии по \"сырым данным\" и после удаления выбросов между группами А и В.*\n",
    "\n",
    "*Нет статистически значимого различия по среднему чеку между группами А и В, как по \"сырым данным\", так и после удаления выбросов.*\n",
    "\n",
    "*График различия среднего чека дал возможность выявить аномалии. Но он колеблется и не позволяет на его основе сделать определенные выводы.*\n",
    "\n",
    "*График различия конверсии между группами А и В показывает, что результаты группы В лучше, есть тенденции к росту, либо зафиксировались около среднего значения.*\n",
    "\n",
    "*Возможно остановить тест, признав лучшими результаты группы В.*\n",
    "\n",
    "\n"
   ]
  }
 ],
 "metadata": {
  "ExecuteTimeLog": [
   {
    "duration": 481,
    "start_time": "2023-05-05T11:33:47.230Z"
   },
   {
    "duration": 91,
    "start_time": "2023-05-05T11:34:44.680Z"
   },
   {
    "duration": 22,
    "start_time": "2023-05-05T11:35:14.255Z"
   },
   {
    "duration": 12,
    "start_time": "2023-05-05T11:35:39.593Z"
   },
   {
    "duration": 11,
    "start_time": "2023-05-05T11:35:46.919Z"
   },
   {
    "duration": 922,
    "start_time": "2023-05-05T12:29:30.432Z"
   },
   {
    "duration": 30,
    "start_time": "2023-05-05T12:30:24.169Z"
   },
   {
    "duration": 8,
    "start_time": "2023-05-05T12:30:25.393Z"
   },
   {
    "duration": 13,
    "start_time": "2023-05-05T12:36:12.384Z"
   },
   {
    "duration": 19,
    "start_time": "2023-05-05T12:40:22.226Z"
   },
   {
    "duration": 6,
    "start_time": "2023-05-05T13:20:50.477Z"
   },
   {
    "duration": 34,
    "start_time": "2023-05-05T13:20:52.809Z"
   },
   {
    "duration": 9,
    "start_time": "2023-05-05T13:20:54.013Z"
   },
   {
    "duration": 11,
    "start_time": "2023-05-05T13:21:02.774Z"
   },
   {
    "duration": 22,
    "start_time": "2023-05-05T13:21:10.829Z"
   },
   {
    "duration": 162,
    "start_time": "2023-05-05T13:47:12.763Z"
   },
   {
    "duration": 12,
    "start_time": "2023-05-05T13:47:27.907Z"
   },
   {
    "duration": 14,
    "start_time": "2023-05-05T13:51:41.471Z"
   },
   {
    "duration": 7,
    "start_time": "2023-05-05T13:51:55.349Z"
   },
   {
    "duration": 76,
    "start_time": "2023-05-05T13:52:29.063Z"
   },
   {
    "duration": 13,
    "start_time": "2023-05-05T13:52:49.039Z"
   },
   {
    "duration": 31,
    "start_time": "2023-05-05T13:53:08.917Z"
   },
   {
    "duration": 15,
    "start_time": "2023-05-05T13:53:19.533Z"
   },
   {
    "duration": 506,
    "start_time": "2023-05-05T13:55:16.889Z"
   },
   {
    "duration": 712,
    "start_time": "2023-05-05T13:56:39.415Z"
   },
   {
    "duration": 5,
    "start_time": "2023-05-05T13:57:27.794Z"
   },
   {
    "duration": 8,
    "start_time": "2023-05-05T13:57:41.360Z"
   },
   {
    "duration": 5,
    "start_time": "2023-05-05T14:11:50.126Z"
   },
   {
    "duration": 4,
    "start_time": "2023-05-05T14:29:10.797Z"
   },
   {
    "duration": 102,
    "start_time": "2023-05-05T14:36:38.066Z"
   },
   {
    "duration": 5,
    "start_time": "2023-05-05T14:37:56.982Z"
   },
   {
    "duration": 113,
    "start_time": "2023-05-05T14:38:40.966Z"
   },
   {
    "duration": 107,
    "start_time": "2023-05-05T14:39:35.814Z"
   },
   {
    "duration": 26,
    "start_time": "2023-05-05T14:40:19.465Z"
   },
   {
    "duration": 23,
    "start_time": "2023-05-05T14:41:05.184Z"
   },
   {
    "duration": 29,
    "start_time": "2023-05-05T15:31:50.061Z"
   },
   {
    "duration": 46,
    "start_time": "2023-05-05T15:33:23.225Z"
   },
   {
    "duration": 46,
    "start_time": "2023-05-05T15:35:03.115Z"
   },
   {
    "duration": 46,
    "start_time": "2023-05-05T15:35:52.731Z"
   },
   {
    "duration": 5,
    "start_time": "2023-05-05T15:36:17.923Z"
   },
   {
    "duration": 27,
    "start_time": "2023-05-05T15:36:22.574Z"
   },
   {
    "duration": 5,
    "start_time": "2023-05-05T15:38:09.578Z"
   },
   {
    "duration": 39,
    "start_time": "2023-05-05T15:38:13.756Z"
   },
   {
    "duration": 37,
    "start_time": "2023-05-05T15:41:12.877Z"
   },
   {
    "duration": 30,
    "start_time": "2023-05-05T15:45:39.089Z"
   },
   {
    "duration": 1444,
    "start_time": "2023-05-05T15:47:14.502Z"
   },
   {
    "duration": 58,
    "start_time": "2023-05-05T15:47:15.948Z"
   },
   {
    "duration": 12,
    "start_time": "2023-05-05T15:47:16.008Z"
   },
   {
    "duration": 77,
    "start_time": "2023-05-05T15:47:16.023Z"
   },
   {
    "duration": 39,
    "start_time": "2023-05-05T15:47:16.105Z"
   },
   {
    "duration": 124,
    "start_time": "2023-05-05T15:47:16.145Z"
   },
   {
    "duration": 21,
    "start_time": "2023-05-05T15:47:16.274Z"
   },
   {
    "duration": 14,
    "start_time": "2023-05-05T15:47:16.297Z"
   },
   {
    "duration": 31,
    "start_time": "2023-05-05T15:47:16.313Z"
   },
   {
    "duration": 71,
    "start_time": "2023-05-05T15:47:16.349Z"
   },
   {
    "duration": 11,
    "start_time": "2023-05-05T15:47:16.421Z"
   },
   {
    "duration": 58,
    "start_time": "2023-05-05T15:47:16.442Z"
   },
   {
    "duration": 12,
    "start_time": "2023-05-05T15:47:16.501Z"
   },
   {
    "duration": 18,
    "start_time": "2023-05-05T15:47:16.514Z"
   },
   {
    "duration": 206,
    "start_time": "2023-05-05T15:50:27.915Z"
   },
   {
    "duration": 381,
    "start_time": "2023-05-05T15:51:18.508Z"
   },
   {
    "duration": 15,
    "start_time": "2023-05-05T16:02:36.375Z"
   },
   {
    "duration": 408,
    "start_time": "2023-05-05T16:03:40.411Z"
   },
   {
    "duration": 349,
    "start_time": "2023-05-05T16:06:14.379Z"
   },
   {
    "duration": 410,
    "start_time": "2023-05-05T16:44:40.665Z"
   },
   {
    "duration": 230,
    "start_time": "2023-05-05T17:01:26.060Z"
   },
   {
    "duration": 263,
    "start_time": "2023-05-05T17:02:16.721Z"
   },
   {
    "duration": 278,
    "start_time": "2023-05-05T17:06:39.121Z"
   },
   {
    "duration": 6,
    "start_time": "2023-05-05T17:08:43.961Z"
   },
   {
    "duration": 278,
    "start_time": "2023-05-05T17:08:55.686Z"
   },
   {
    "duration": 369,
    "start_time": "2023-05-05T17:09:47.917Z"
   },
   {
    "duration": 264,
    "start_time": "2023-05-05T17:13:36.889Z"
   },
   {
    "duration": 385,
    "start_time": "2023-05-05T17:15:03.129Z"
   },
   {
    "duration": 304,
    "start_time": "2023-05-05T17:15:30.453Z"
   },
   {
    "duration": 307,
    "start_time": "2023-05-05T17:15:43.371Z"
   },
   {
    "duration": 248,
    "start_time": "2023-05-05T17:15:57.542Z"
   },
   {
    "duration": 14,
    "start_time": "2023-05-05T17:18:54.367Z"
   },
   {
    "duration": 12,
    "start_time": "2023-05-05T17:19:58.280Z"
   },
   {
    "duration": 9,
    "start_time": "2023-05-05T17:21:23.783Z"
   },
   {
    "duration": 157,
    "start_time": "2023-05-05T17:46:38.821Z"
   },
   {
    "duration": 8,
    "start_time": "2023-05-05T17:51:12.355Z"
   },
   {
    "duration": 10,
    "start_time": "2023-05-05T17:52:02.852Z"
   },
   {
    "duration": 4,
    "start_time": "2023-05-05T17:53:24.612Z"
   },
   {
    "duration": 7,
    "start_time": "2023-05-05T17:53:45.774Z"
   },
   {
    "duration": 327,
    "start_time": "2023-05-05T18:08:54.465Z"
   },
   {
    "duration": 9,
    "start_time": "2023-05-05T18:48:08.851Z"
   },
   {
    "duration": 13,
    "start_time": "2023-05-05T18:48:37.280Z"
   },
   {
    "duration": 162,
    "start_time": "2023-05-05T18:52:44.391Z"
   },
   {
    "duration": 180,
    "start_time": "2023-05-05T18:55:13.781Z"
   },
   {
    "duration": 17,
    "start_time": "2023-05-05T18:59:42.163Z"
   },
   {
    "duration": 10,
    "start_time": "2023-05-05T19:00:46.278Z"
   },
   {
    "duration": 5,
    "start_time": "2023-05-05T19:01:50.579Z"
   },
   {
    "duration": 142,
    "start_time": "2023-05-05T19:08:46.363Z"
   },
   {
    "duration": 378,
    "start_time": "2023-05-05T19:11:58.217Z"
   },
   {
    "duration": 429,
    "start_time": "2023-05-05T19:12:41.992Z"
   },
   {
    "duration": 10,
    "start_time": "2023-05-05T19:13:10.086Z"
   },
   {
    "duration": 369,
    "start_time": "2023-05-05T19:13:36.718Z"
   },
   {
    "duration": 402,
    "start_time": "2023-05-05T19:14:18.678Z"
   },
   {
    "duration": 10,
    "start_time": "2023-05-05T19:22:08.996Z"
   },
   {
    "duration": 11,
    "start_time": "2023-05-05T19:24:10.401Z"
   },
   {
    "duration": 380,
    "start_time": "2023-05-05T19:24:45.499Z"
   },
   {
    "duration": 413,
    "start_time": "2023-05-05T19:25:12.795Z"
   },
   {
    "duration": 1854,
    "start_time": "2023-05-05T19:36:42.766Z"
   },
   {
    "duration": 10,
    "start_time": "2023-05-05T19:40:41.213Z"
   },
   {
    "duration": 1853,
    "start_time": "2023-05-05T19:42:44.462Z"
   },
   {
    "duration": 51,
    "start_time": "2023-05-05T19:43:28.455Z"
   },
   {
    "duration": 27,
    "start_time": "2023-05-05T19:43:54.286Z"
   },
   {
    "duration": 1745,
    "start_time": "2023-05-05T19:45:36.623Z"
   },
   {
    "duration": 34,
    "start_time": "2023-05-05T19:45:54.907Z"
   },
   {
    "duration": 2252,
    "start_time": "2023-05-05T19:49:08.133Z"
   },
   {
    "duration": 10,
    "start_time": "2023-05-05T19:56:18.209Z"
   },
   {
    "duration": 1945,
    "start_time": "2023-05-05T19:56:50.151Z"
   },
   {
    "duration": 2515,
    "start_time": "2023-05-05T19:57:04.578Z"
   },
   {
    "duration": 43,
    "start_time": "2023-05-05T19:57:39.827Z"
   },
   {
    "duration": 12,
    "start_time": "2023-05-05T19:59:24.018Z"
   },
   {
    "duration": 58,
    "start_time": "2023-05-05T19:59:30.225Z"
   },
   {
    "duration": 1693,
    "start_time": "2023-05-05T20:04:10.611Z"
   },
   {
    "duration": 1833,
    "start_time": "2023-05-05T20:05:20.868Z"
   },
   {
    "duration": 33,
    "start_time": "2023-05-05T20:06:01.157Z"
   },
   {
    "duration": 2158,
    "start_time": "2023-05-05T20:06:38.065Z"
   },
   {
    "duration": 1487,
    "start_time": "2023-05-05T20:07:04.205Z"
   },
   {
    "duration": 1748,
    "start_time": "2023-05-05T20:07:31.658Z"
   },
   {
    "duration": 25,
    "start_time": "2023-05-05T20:07:47.391Z"
   },
   {
    "duration": 38,
    "start_time": "2023-05-05T20:08:52.207Z"
   },
   {
    "duration": 1435,
    "start_time": "2023-05-06T15:39:42.702Z"
   },
   {
    "duration": 143,
    "start_time": "2023-05-06T15:39:44.139Z"
   },
   {
    "duration": 12,
    "start_time": "2023-05-06T15:39:44.287Z"
   },
   {
    "duration": 14,
    "start_time": "2023-05-06T15:39:44.301Z"
   },
   {
    "duration": 11,
    "start_time": "2023-05-06T15:39:44.317Z"
   },
   {
    "duration": 131,
    "start_time": "2023-05-06T15:39:44.329Z"
   },
   {
    "duration": 15,
    "start_time": "2023-05-06T15:39:44.462Z"
   },
   {
    "duration": 18,
    "start_time": "2023-05-06T15:39:44.479Z"
   },
   {
    "duration": 10,
    "start_time": "2023-05-06T15:39:44.498Z"
   },
   {
    "duration": 90,
    "start_time": "2023-05-06T15:39:44.510Z"
   },
   {
    "duration": 11,
    "start_time": "2023-05-06T15:39:44.603Z"
   },
   {
    "duration": 16,
    "start_time": "2023-05-06T15:39:44.617Z"
   },
   {
    "duration": 61,
    "start_time": "2023-05-06T15:39:44.644Z"
   },
   {
    "duration": 75,
    "start_time": "2023-05-06T15:39:44.706Z"
   },
   {
    "duration": 324,
    "start_time": "2023-05-06T15:39:44.788Z"
   },
   {
    "duration": 403,
    "start_time": "2023-05-06T15:39:45.113Z"
   },
   {
    "duration": 303,
    "start_time": "2023-05-06T15:39:45.518Z"
   },
   {
    "duration": 407,
    "start_time": "2023-05-06T15:39:45.823Z"
   },
   {
    "duration": 282,
    "start_time": "2023-05-06T15:39:46.235Z"
   },
   {
    "duration": 411,
    "start_time": "2023-05-06T15:39:46.519Z"
   },
   {
    "duration": 20,
    "start_time": "2023-05-06T15:39:46.932Z"
   },
   {
    "duration": 198,
    "start_time": "2023-05-06T15:39:46.954Z"
   },
   {
    "duration": 11,
    "start_time": "2023-05-06T15:39:47.165Z"
   },
   {
    "duration": 195,
    "start_time": "2023-05-06T15:39:47.177Z"
   },
   {
    "duration": 10,
    "start_time": "2023-05-06T15:39:47.380Z"
   },
   {
    "duration": 12,
    "start_time": "2023-05-06T15:39:47.392Z"
   },
   {
    "duration": 454,
    "start_time": "2023-05-06T15:39:47.405Z"
   },
   {
    "duration": 14,
    "start_time": "2023-05-06T15:39:47.864Z"
   },
   {
    "duration": 17,
    "start_time": "2023-05-06T15:39:47.882Z"
   },
   {
    "duration": 12,
    "start_time": "2023-05-06T15:39:47.901Z"
   },
   {
    "duration": 58,
    "start_time": "2023-05-06T15:39:47.914Z"
   },
   {
    "duration": 14,
    "start_time": "2023-05-06T15:39:47.981Z"
   },
   {
    "duration": 2935,
    "start_time": "2023-05-07T13:00:17.987Z"
   },
   {
    "duration": 127,
    "start_time": "2023-05-07T13:00:20.991Z"
   },
   {
    "duration": 15,
    "start_time": "2023-05-07T13:00:21.121Z"
   },
   {
    "duration": 84,
    "start_time": "2023-05-07T13:00:21.138Z"
   },
   {
    "duration": 20,
    "start_time": "2023-05-07T13:00:21.225Z"
   },
   {
    "duration": 77,
    "start_time": "2023-05-07T13:00:21.296Z"
   },
   {
    "duration": 11,
    "start_time": "2023-05-07T13:00:21.374Z"
   },
   {
    "duration": 23,
    "start_time": "2023-05-07T13:00:21.386Z"
   },
   {
    "duration": 9,
    "start_time": "2023-05-07T13:00:21.411Z"
   },
   {
    "duration": 71,
    "start_time": "2023-05-07T13:00:21.423Z"
   },
   {
    "duration": 14,
    "start_time": "2023-05-07T13:00:21.496Z"
   },
   {
    "duration": 5,
    "start_time": "2023-05-07T13:00:21.512Z"
   },
   {
    "duration": 10,
    "start_time": "2023-05-07T13:00:21.518Z"
   },
   {
    "duration": 14,
    "start_time": "2023-05-07T13:00:21.530Z"
   },
   {
    "duration": 468,
    "start_time": "2023-05-07T13:00:21.545Z"
   },
   {
    "duration": 355,
    "start_time": "2023-05-07T13:00:22.015Z"
   },
   {
    "duration": 291,
    "start_time": "2023-05-07T13:00:22.372Z"
   },
   {
    "duration": 461,
    "start_time": "2023-05-07T13:00:22.664Z"
   },
   {
    "duration": 316,
    "start_time": "2023-05-07T13:00:23.126Z"
   },
   {
    "duration": 428,
    "start_time": "2023-05-07T13:00:23.443Z"
   },
   {
    "duration": 26,
    "start_time": "2023-05-07T13:00:23.873Z"
   },
   {
    "duration": 174,
    "start_time": "2023-05-07T13:00:23.908Z"
   },
   {
    "duration": 11,
    "start_time": "2023-05-07T13:00:24.091Z"
   },
   {
    "duration": 215,
    "start_time": "2023-05-07T13:00:24.105Z"
   },
   {
    "duration": 10,
    "start_time": "2023-05-07T13:00:24.322Z"
   },
   {
    "duration": 6,
    "start_time": "2023-05-07T13:00:24.334Z"
   },
   {
    "duration": 577,
    "start_time": "2023-05-07T13:00:24.342Z"
   },
   {
    "duration": 12,
    "start_time": "2023-05-07T13:00:24.920Z"
   },
   {
    "duration": 14,
    "start_time": "2023-05-07T13:00:24.934Z"
   },
   {
    "duration": 11,
    "start_time": "2023-05-07T13:00:24.950Z"
   },
   {
    "duration": 67,
    "start_time": "2023-05-07T13:00:24.962Z"
   },
   {
    "duration": 21,
    "start_time": "2023-05-07T13:00:25.032Z"
   },
   {
    "duration": 1783,
    "start_time": "2023-05-08T10:01:15.045Z"
   },
   {
    "duration": 86,
    "start_time": "2023-05-08T10:01:18.209Z"
   },
   {
    "duration": 11,
    "start_time": "2023-05-08T10:01:19.702Z"
   },
   {
    "duration": 12,
    "start_time": "2023-05-08T10:01:29.766Z"
   },
   {
    "duration": 15,
    "start_time": "2023-05-08T10:01:36.846Z"
   },
   {
    "duration": 104,
    "start_time": "2023-05-08T10:08:55.290Z"
   },
   {
    "duration": 11,
    "start_time": "2023-05-08T10:08:56.979Z"
   },
   {
    "duration": 13,
    "start_time": "2023-05-08T10:08:59.223Z"
   },
   {
    "duration": 11,
    "start_time": "2023-05-08T10:09:00.225Z"
   },
   {
    "duration": 77,
    "start_time": "2023-05-08T10:09:08.012Z"
   },
   {
    "duration": 12,
    "start_time": "2023-05-08T10:09:09.195Z"
   },
   {
    "duration": 5,
    "start_time": "2023-05-08T10:09:11.499Z"
   },
   {
    "duration": 7,
    "start_time": "2023-05-08T10:09:12.569Z"
   },
   {
    "duration": 10,
    "start_time": "2023-05-08T10:12:04.780Z"
   },
   {
    "duration": 8,
    "start_time": "2023-05-08T10:14:18.786Z"
   },
   {
    "duration": 3,
    "start_time": "2023-05-08T10:14:38.714Z"
   },
   {
    "duration": 13,
    "start_time": "2023-05-08T10:19:21.599Z"
   },
   {
    "duration": 10,
    "start_time": "2023-05-08T10:19:46.925Z"
   },
   {
    "duration": 6,
    "start_time": "2023-05-08T10:20:25.679Z"
   },
   {
    "duration": 4,
    "start_time": "2023-05-08T10:20:51.191Z"
   },
   {
    "duration": 97,
    "start_time": "2023-05-08T10:29:40.019Z"
   },
   {
    "duration": 6,
    "start_time": "2023-05-08T10:30:00.777Z"
   },
   {
    "duration": 250,
    "start_time": "2023-05-08T10:30:03.777Z"
   },
   {
    "duration": 7,
    "start_time": "2023-05-08T10:30:06.543Z"
   },
   {
    "duration": 4,
    "start_time": "2023-05-08T10:43:50.313Z"
   },
   {
    "duration": 5,
    "start_time": "2023-05-08T10:48:12.961Z"
   },
   {
    "duration": 3,
    "start_time": "2023-05-08T10:48:48.346Z"
   },
   {
    "duration": 5,
    "start_time": "2023-05-08T10:49:20.219Z"
   },
   {
    "duration": 5,
    "start_time": "2023-05-08T10:54:30.910Z"
   },
   {
    "duration": 4,
    "start_time": "2023-05-08T10:54:45.013Z"
   },
   {
    "duration": 4,
    "start_time": "2023-05-08T10:55:07.595Z"
   },
   {
    "duration": 12,
    "start_time": "2023-05-08T11:02:17.252Z"
   },
   {
    "duration": 12,
    "start_time": "2023-05-08T11:03:02.495Z"
   },
   {
    "duration": 8,
    "start_time": "2023-05-08T11:10:13.309Z"
   },
   {
    "duration": 5,
    "start_time": "2023-05-08T11:10:27.753Z"
   },
   {
    "duration": 5,
    "start_time": "2023-05-08T11:10:37.788Z"
   },
   {
    "duration": 10,
    "start_time": "2023-05-08T11:12:48.597Z"
   },
   {
    "duration": 14,
    "start_time": "2023-05-08T11:13:42.688Z"
   },
   {
    "duration": 2378,
    "start_time": "2023-05-08T11:17:43.308Z"
   },
   {
    "duration": 8,
    "start_time": "2023-05-08T11:18:00.436Z"
   },
   {
    "duration": 330,
    "start_time": "2023-05-08T11:33:35.496Z"
   },
   {
    "duration": 244,
    "start_time": "2023-05-08T11:33:52.257Z"
   },
   {
    "duration": 259,
    "start_time": "2023-05-08T11:34:17.690Z"
   },
   {
    "duration": 276,
    "start_time": "2023-05-08T11:35:23.665Z"
   },
   {
    "duration": 283,
    "start_time": "2023-05-08T11:38:49.466Z"
   },
   {
    "duration": 365,
    "start_time": "2023-05-08T11:42:02.119Z"
   },
   {
    "duration": 232,
    "start_time": "2023-05-08T11:44:23.460Z"
   },
   {
    "duration": 422,
    "start_time": "2023-05-08T11:47:03.608Z"
   },
   {
    "duration": 10,
    "start_time": "2023-05-08T11:49:37.025Z"
   },
   {
    "duration": 18,
    "start_time": "2023-05-08T11:49:47.382Z"
   },
   {
    "duration": 169,
    "start_time": "2023-05-08T11:49:52.554Z"
   },
   {
    "duration": 7,
    "start_time": "2023-05-08T11:50:00.642Z"
   },
   {
    "duration": 229,
    "start_time": "2023-05-08T11:52:04.717Z"
   },
   {
    "duration": 8,
    "start_time": "2023-05-08T11:52:22.244Z"
   },
   {
    "duration": 5,
    "start_time": "2023-05-08T11:52:37.703Z"
   },
   {
    "duration": 399,
    "start_time": "2023-05-08T12:20:53.698Z"
   },
   {
    "duration": 39,
    "start_time": "2023-05-08T12:21:02.859Z"
   },
   {
    "duration": 442,
    "start_time": "2023-05-08T12:22:58.766Z"
   },
   {
    "duration": 435,
    "start_time": "2023-05-08T12:23:56.035Z"
   },
   {
    "duration": 579,
    "start_time": "2023-05-08T12:24:30.863Z"
   },
   {
    "duration": 408,
    "start_time": "2023-05-08T12:24:47.223Z"
   },
   {
    "duration": 323,
    "start_time": "2023-05-08T12:26:43.901Z"
   },
   {
    "duration": 10,
    "start_time": "2023-05-08T12:28:39.216Z"
   },
   {
    "duration": 11,
    "start_time": "2023-05-08T12:29:47.492Z"
   },
   {
    "duration": 1866,
    "start_time": "2023-05-08T12:30:41.932Z"
   },
   {
    "duration": 1907,
    "start_time": "2023-05-08T12:32:23.821Z"
   },
   {
    "duration": 3,
    "start_time": "2023-05-08T12:33:11.307Z"
   },
   {
    "duration": 5,
    "start_time": "2023-05-08T12:34:39.095Z"
   },
   {
    "duration": 4,
    "start_time": "2023-05-08T12:35:30.297Z"
   },
   {
    "duration": 17,
    "start_time": "2023-05-08T12:36:14.462Z"
   },
   {
    "duration": 8,
    "start_time": "2023-05-08T12:36:40.343Z"
   },
   {
    "duration": 1138,
    "start_time": "2023-05-08T12:41:36.843Z"
   },
   {
    "duration": 30,
    "start_time": "2023-05-08T12:41:37.990Z"
   },
   {
    "duration": 12,
    "start_time": "2023-05-08T12:41:38.021Z"
   },
   {
    "duration": 13,
    "start_time": "2023-05-08T12:41:38.036Z"
   },
   {
    "duration": 14,
    "start_time": "2023-05-08T12:41:38.050Z"
   },
   {
    "duration": 57,
    "start_time": "2023-05-08T12:41:38.065Z"
   },
   {
    "duration": 11,
    "start_time": "2023-05-08T12:41:38.124Z"
   },
   {
    "duration": 18,
    "start_time": "2023-05-08T12:41:38.137Z"
   },
   {
    "duration": 12,
    "start_time": "2023-05-08T12:41:38.157Z"
   },
   {
    "duration": 35,
    "start_time": "2023-05-08T12:41:38.172Z"
   },
   {
    "duration": 7,
    "start_time": "2023-05-08T12:41:38.209Z"
   },
   {
    "duration": 5,
    "start_time": "2023-05-08T12:41:38.218Z"
   },
   {
    "duration": 17,
    "start_time": "2023-05-08T12:41:38.225Z"
   },
   {
    "duration": 9,
    "start_time": "2023-05-08T12:41:38.243Z"
   },
   {
    "duration": 6,
    "start_time": "2023-05-08T12:41:38.254Z"
   },
   {
    "duration": 10,
    "start_time": "2023-05-08T12:41:38.261Z"
   },
   {
    "duration": 20,
    "start_time": "2023-05-08T12:41:38.286Z"
   },
   {
    "duration": 7,
    "start_time": "2023-05-08T12:41:38.308Z"
   },
   {
    "duration": 6,
    "start_time": "2023-05-08T12:41:38.316Z"
   },
   {
    "duration": 11,
    "start_time": "2023-05-08T12:41:38.323Z"
   },
   {
    "duration": 7,
    "start_time": "2023-05-08T12:41:38.336Z"
   },
   {
    "duration": 4,
    "start_time": "2023-05-08T12:41:38.344Z"
   },
   {
    "duration": 40,
    "start_time": "2023-05-08T12:41:38.349Z"
   },
   {
    "duration": 11,
    "start_time": "2023-05-08T12:41:38.401Z"
   },
   {
    "duration": 4,
    "start_time": "2023-05-08T12:41:38.414Z"
   },
   {
    "duration": 6,
    "start_time": "2023-05-08T12:41:38.419Z"
   },
   {
    "duration": 8,
    "start_time": "2023-05-08T12:41:38.427Z"
   },
   {
    "duration": 301,
    "start_time": "2023-05-08T12:41:38.438Z"
   },
   {
    "duration": 3,
    "start_time": "2023-05-08T12:41:38.741Z"
   },
   {
    "duration": 17,
    "start_time": "2023-05-08T12:41:38.746Z"
   },
   {
    "duration": 46,
    "start_time": "2023-05-08T12:41:38.765Z"
   },
   {
    "duration": 393,
    "start_time": "2023-05-08T12:41:38.813Z"
   },
   {
    "duration": 288,
    "start_time": "2023-05-08T12:41:39.208Z"
   },
   {
    "duration": 355,
    "start_time": "2023-05-08T12:41:39.497Z"
   },
   {
    "duration": 268,
    "start_time": "2023-05-08T12:41:39.853Z"
   },
   {
    "duration": 431,
    "start_time": "2023-05-08T12:41:40.122Z"
   },
   {
    "duration": 15,
    "start_time": "2023-05-08T12:41:40.555Z"
   },
   {
    "duration": 169,
    "start_time": "2023-05-08T12:41:40.577Z"
   },
   {
    "duration": 6,
    "start_time": "2023-05-08T12:41:40.748Z"
   },
   {
    "duration": 171,
    "start_time": "2023-05-08T12:41:40.756Z"
   },
   {
    "duration": 9,
    "start_time": "2023-05-08T12:41:40.929Z"
   },
   {
    "duration": 7,
    "start_time": "2023-05-08T12:41:40.939Z"
   },
   {
    "duration": 519,
    "start_time": "2023-05-08T12:41:40.947Z"
   },
   {
    "duration": 22,
    "start_time": "2023-05-08T12:41:41.467Z"
   },
   {
    "duration": 28,
    "start_time": "2023-05-08T12:41:41.491Z"
   },
   {
    "duration": 8,
    "start_time": "2023-05-08T12:41:41.520Z"
   },
   {
    "duration": 11,
    "start_time": "2023-05-08T12:41:41.530Z"
   },
   {
    "duration": 63,
    "start_time": "2023-05-08T12:41:41.542Z"
   },
   {
    "duration": 15,
    "start_time": "2023-05-08T12:41:41.607Z"
   },
   {
    "duration": 1278,
    "start_time": "2023-05-08T14:38:16.665Z"
   },
   {
    "duration": 29,
    "start_time": "2023-05-08T14:38:17.946Z"
   },
   {
    "duration": 17,
    "start_time": "2023-05-08T14:38:17.977Z"
   },
   {
    "duration": 19,
    "start_time": "2023-05-08T14:38:17.997Z"
   },
   {
    "duration": 21,
    "start_time": "2023-05-08T14:38:18.020Z"
   },
   {
    "duration": 41,
    "start_time": "2023-05-08T14:38:18.043Z"
   },
   {
    "duration": 12,
    "start_time": "2023-05-08T14:38:18.087Z"
   },
   {
    "duration": 24,
    "start_time": "2023-05-08T14:38:18.101Z"
   },
   {
    "duration": 25,
    "start_time": "2023-05-08T14:38:18.128Z"
   },
   {
    "duration": 8,
    "start_time": "2023-05-08T14:38:18.155Z"
   },
   {
    "duration": 8,
    "start_time": "2023-05-08T14:38:18.165Z"
   },
   {
    "duration": 15,
    "start_time": "2023-05-08T14:38:18.175Z"
   },
   {
    "duration": 23,
    "start_time": "2023-05-08T14:38:18.192Z"
   },
   {
    "duration": 11,
    "start_time": "2023-05-08T14:38:18.220Z"
   },
   {
    "duration": 16,
    "start_time": "2023-05-08T14:38:18.233Z"
   },
   {
    "duration": 24,
    "start_time": "2023-05-08T14:38:18.251Z"
   },
   {
    "duration": 8,
    "start_time": "2023-05-08T14:38:18.277Z"
   },
   {
    "duration": 9,
    "start_time": "2023-05-08T14:38:18.287Z"
   },
   {
    "duration": 25,
    "start_time": "2023-05-08T14:38:18.298Z"
   },
   {
    "duration": 16,
    "start_time": "2023-05-08T14:38:18.325Z"
   },
   {
    "duration": 12,
    "start_time": "2023-05-08T14:38:18.343Z"
   },
   {
    "duration": 12,
    "start_time": "2023-05-08T14:38:18.356Z"
   },
   {
    "duration": 22,
    "start_time": "2023-05-08T14:38:18.370Z"
   },
   {
    "duration": 30,
    "start_time": "2023-05-08T14:38:18.395Z"
   },
   {
    "duration": 18,
    "start_time": "2023-05-08T14:38:18.427Z"
   },
   {
    "duration": 16,
    "start_time": "2023-05-08T14:38:18.447Z"
   },
   {
    "duration": 27,
    "start_time": "2023-05-08T14:38:18.466Z"
   },
   {
    "duration": 349,
    "start_time": "2023-05-08T14:38:18.495Z"
   },
   {
    "duration": 6,
    "start_time": "2023-05-08T14:38:18.845Z"
   },
   {
    "duration": 16,
    "start_time": "2023-05-08T14:38:18.854Z"
   },
   {
    "duration": 31,
    "start_time": "2023-05-08T14:38:18.872Z"
   },
   {
    "duration": 416,
    "start_time": "2023-05-08T14:38:18.907Z"
   },
   {
    "duration": 323,
    "start_time": "2023-05-08T14:38:19.326Z"
   },
   {
    "duration": 384,
    "start_time": "2023-05-08T14:38:19.651Z"
   },
   {
    "duration": 321,
    "start_time": "2023-05-08T14:38:20.038Z"
   },
   {
    "duration": 468,
    "start_time": "2023-05-08T14:38:20.361Z"
   },
   {
    "duration": 17,
    "start_time": "2023-05-08T14:38:20.832Z"
   },
   {
    "duration": 218,
    "start_time": "2023-05-08T14:38:20.851Z"
   },
   {
    "duration": 7,
    "start_time": "2023-05-08T14:38:21.071Z"
   },
   {
    "duration": 262,
    "start_time": "2023-05-08T14:38:21.080Z"
   },
   {
    "duration": 9,
    "start_time": "2023-05-08T14:38:21.346Z"
   },
   {
    "duration": 12,
    "start_time": "2023-05-08T14:38:21.357Z"
   },
   {
    "duration": 516,
    "start_time": "2023-05-08T14:38:21.371Z"
   },
   {
    "duration": 16,
    "start_time": "2023-05-08T14:38:21.889Z"
   },
   {
    "duration": 30,
    "start_time": "2023-05-08T14:38:21.918Z"
   },
   {
    "duration": 18,
    "start_time": "2023-05-08T14:38:21.950Z"
   },
   {
    "duration": 19,
    "start_time": "2023-05-08T14:38:21.971Z"
   },
   {
    "duration": 45,
    "start_time": "2023-05-08T14:38:21.992Z"
   },
   {
    "duration": 19,
    "start_time": "2023-05-08T14:38:22.040Z"
   },
   {
    "duration": 431,
    "start_time": "2023-05-08T14:39:39.497Z"
   },
   {
    "duration": 515,
    "start_time": "2023-05-08T14:39:42.543Z"
   },
   {
    "duration": 495,
    "start_time": "2023-05-08T14:39:48.541Z"
   },
   {
    "duration": 370,
    "start_time": "2023-05-08T14:39:51.730Z"
   }
  ],
  "kernelspec": {
   "display_name": "Python 3 (ipykernel)",
   "language": "python",
   "name": "python3"
  },
  "language_info": {
   "codemirror_mode": {
    "name": "ipython",
    "version": 3
   },
   "file_extension": ".py",
   "mimetype": "text/x-python",
   "name": "python",
   "nbconvert_exporter": "python",
   "pygments_lexer": "ipython3",
   "version": "3.9.12"
  },
  "toc": {
   "base_numbering": 1,
   "nav_menu": {},
   "number_sections": true,
   "sideBar": true,
   "skip_h1_title": true,
   "title_cell": "Table of Contents",
   "title_sidebar": "Contents",
   "toc_cell": false,
   "toc_position": {},
   "toc_section_display": true,
   "toc_window_display": false
  }
 },
 "nbformat": 4,
 "nbformat_minor": 2
}
