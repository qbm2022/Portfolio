{
 "cells": [
  {
   "cell_type": "markdown",
   "id": "bff09aaf",
   "metadata": {},
   "source": [
    "## Дашборд для телекоммуникационной компании"
   ]
  },
  {
   "cell_type": "markdown",
   "id": "ddb0a904",
   "metadata": {},
   "source": [
    "Цель проекта- определить текущий уровень потребительской лояльности (NPS) среди клиентов из России."
   ]
  },
  {
   "cell_type": "markdown",
   "id": "5df1d9bb",
   "metadata": {},
   "source": [
    "Скачиваем файл с базой данных."
   ]
  },
  {
   "cell_type": "code",
   "execution_count": 1,
   "id": "e184f5cd",
   "metadata": {
    "tags": [
     "aa81075c-062f-4de0-b5fe-14c73dc7468e"
    ]
   },
   "outputs": [],
   "source": [
    "import pandas as pd\n",
    "import numpy as np\n",
    "\n",
    "from sqlalchemy import create_engine"
   ]
  },
  {
   "cell_type": "code",
   "execution_count": 2,
   "id": "bf058e92",
   "metadata": {},
   "outputs": [],
   "source": [
    "path_to_db = '/.../...._csi.db'\n",
    "engine = create_engine(f'sqlite:///{path_to_db}', echo = False)"
   ]
  },
  {
   "cell_type": "markdown",
   "id": "746f51e2",
   "metadata": {},
   "source": [
    "***Описание данных таблицы location - содержит справочник территорий, в которых телеком-компания оказывает услуги.***\n"
   ]
  },
  {
   "cell_type": "markdown",
   "id": "ca004fe0",
   "metadata": {},
   "source": [
    "- location_id -\tИдентификатор записи, первичный ключ\n",
    "- country -\tСтрана\n",
    "- city -\tГород\n"
   ]
  },
  {
   "cell_type": "code",
   "execution_count": 3,
   "id": "33bcedc0",
   "metadata": {},
   "outputs": [],
   "source": [
    "query = \"\"\"\n",
    "SELECT * FROM location;\n",
    "\"\"\""
   ]
  },
  {
   "cell_type": "code",
   "execution_count": 4,
   "id": "323bc188",
   "metadata": {
    "scrolled": true
   },
   "outputs": [
    {
     "data": {
      "text/html": [
       "<div>\n",
       "<style scoped>\n",
       "    .dataframe tbody tr th:only-of-type {\n",
       "        vertical-align: middle;\n",
       "    }\n",
       "\n",
       "    .dataframe tbody tr th {\n",
       "        vertical-align: top;\n",
       "    }\n",
       "\n",
       "    .dataframe thead th {\n",
       "        text-align: right;\n",
       "    }\n",
       "</style>\n",
       "<table border=\"1\" class=\"dataframe\">\n",
       "  <thead>\n",
       "    <tr style=\"text-align: right;\">\n",
       "      <th></th>\n",
       "      <th>location_id</th>\n",
       "      <th>city</th>\n",
       "      <th>country</th>\n",
       "    </tr>\n",
       "  </thead>\n",
       "  <tbody>\n",
       "    <tr>\n",
       "      <th>0</th>\n",
       "      <td>1</td>\n",
       "      <td>Архангельск</td>\n",
       "      <td>Россия</td>\n",
       "    </tr>\n",
       "    <tr>\n",
       "      <th>1</th>\n",
       "      <td>2</td>\n",
       "      <td>Астрахань</td>\n",
       "      <td>Россия</td>\n",
       "    </tr>\n",
       "    <tr>\n",
       "      <th>2</th>\n",
       "      <td>3</td>\n",
       "      <td>Балашиха</td>\n",
       "      <td>Россия</td>\n",
       "    </tr>\n",
       "  </tbody>\n",
       "</table>\n",
       "</div>"
      ],
      "text/plain": [
       "   location_id         city country\n",
       "0            1  Архангельск  Россия\n",
       "1            2    Астрахань  Россия\n",
       "2            3     Балашиха  Россия"
      ]
     },
     "execution_count": 4,
     "metadata": {},
     "output_type": "execute_result"
    }
   ],
   "source": [
    "df_1 = pd.read_sql(query, engine)\n",
    "df_1.head(3)"
   ]
  },
  {
   "cell_type": "markdown",
   "id": "1da52629",
   "metadata": {},
   "source": [
    "***Описание данных таблицы age_segment - содержит данные о возрастных сегментах клиентов.***\n"
   ]
  },
  {
   "cell_type": "markdown",
   "id": "0b9cd74a",
   "metadata": {},
   "source": [
    "- age_gr_id -\tИдентификатор сегмента, первичный ключ\n",
    "- bucket_min -\tМинимальная граница сегмента\n",
    "- bucket_max -\tМаксимальная граница сегмента\n",
    "- title -\tНазвание сегмента\n"
   ]
  },
  {
   "cell_type": "code",
   "execution_count": 5,
   "id": "494aba6d",
   "metadata": {},
   "outputs": [],
   "source": [
    "query = \"\"\"\n",
    "SELECT *\n",
    "FROM age_segment;\n",
    "\"\"\""
   ]
  },
  {
   "cell_type": "code",
   "execution_count": 6,
   "id": "9f3e8205",
   "metadata": {
    "scrolled": false
   },
   "outputs": [
    {
     "data": {
      "text/html": [
       "<div>\n",
       "<style scoped>\n",
       "    .dataframe tbody tr th:only-of-type {\n",
       "        vertical-align: middle;\n",
       "    }\n",
       "\n",
       "    .dataframe tbody tr th {\n",
       "        vertical-align: top;\n",
       "    }\n",
       "\n",
       "    .dataframe thead th {\n",
       "        text-align: right;\n",
       "    }\n",
       "</style>\n",
       "<table border=\"1\" class=\"dataframe\">\n",
       "  <thead>\n",
       "    <tr style=\"text-align: right;\">\n",
       "      <th></th>\n",
       "      <th>age_gr_id</th>\n",
       "      <th>bucket_min</th>\n",
       "      <th>bucket_max</th>\n",
       "      <th>title</th>\n",
       "    </tr>\n",
       "  </thead>\n",
       "  <tbody>\n",
       "    <tr>\n",
       "      <th>0</th>\n",
       "      <td>1</td>\n",
       "      <td>NaN</td>\n",
       "      <td>15.0</td>\n",
       "      <td>01 до 16</td>\n",
       "    </tr>\n",
       "    <tr>\n",
       "      <th>1</th>\n",
       "      <td>2</td>\n",
       "      <td>16.0</td>\n",
       "      <td>24.0</td>\n",
       "      <td>02 16-24</td>\n",
       "    </tr>\n",
       "    <tr>\n",
       "      <th>2</th>\n",
       "      <td>3</td>\n",
       "      <td>25.0</td>\n",
       "      <td>34.0</td>\n",
       "      <td>03 25-34</td>\n",
       "    </tr>\n",
       "  </tbody>\n",
       "</table>\n",
       "</div>"
      ],
      "text/plain": [
       "   age_gr_id  bucket_min  bucket_max     title\n",
       "0          1         NaN        15.0  01 до 16\n",
       "1          2        16.0        24.0  02 16-24\n",
       "2          3        25.0        34.0  03 25-34"
      ]
     },
     "execution_count": 6,
     "metadata": {},
     "output_type": "execute_result"
    }
   ],
   "source": [
    "df_2= pd.read_sql(query, engine)\n",
    "df_2.head(3)"
   ]
  },
  {
   "cell_type": "markdown",
   "id": "d21e701f",
   "metadata": {},
   "source": [
    "***Описание данных таблицы traffic_segment - содержит данные о выделяемых сегментах по объёму потребляемого трафика.***\n"
   ]
  },
  {
   "cell_type": "markdown",
   "id": "e25d2387",
   "metadata": {},
   "source": [
    "- tr_gr_id -\tИдентификатор сегмента, первичный ключ\n",
    "- bucket_min -\tМинимальная граница сегмента\n",
    "- bucket_max -\tМаксимальная граница сегмента\n",
    "- title -\tНазвание сегмента\n"
   ]
  },
  {
   "cell_type": "code",
   "execution_count": 7,
   "id": "1cfb9f30",
   "metadata": {},
   "outputs": [],
   "source": [
    "query = \"\"\"\n",
    "SELECT *\n",
    "FROM traffic_segment;\n",
    "\"\"\""
   ]
  },
  {
   "cell_type": "code",
   "execution_count": 8,
   "id": "8cd82275",
   "metadata": {
    "scrolled": true
   },
   "outputs": [
    {
     "data": {
      "text/html": [
       "<div>\n",
       "<style scoped>\n",
       "    .dataframe tbody tr th:only-of-type {\n",
       "        vertical-align: middle;\n",
       "    }\n",
       "\n",
       "    .dataframe tbody tr th {\n",
       "        vertical-align: top;\n",
       "    }\n",
       "\n",
       "    .dataframe thead th {\n",
       "        text-align: right;\n",
       "    }\n",
       "</style>\n",
       "<table border=\"1\" class=\"dataframe\">\n",
       "  <thead>\n",
       "    <tr style=\"text-align: right;\">\n",
       "      <th></th>\n",
       "      <th>tr_gr_id</th>\n",
       "      <th>bucket_min</th>\n",
       "      <th>bucket_max</th>\n",
       "      <th>title</th>\n",
       "    </tr>\n",
       "  </thead>\n",
       "  <tbody>\n",
       "    <tr>\n",
       "      <th>0</th>\n",
       "      <td>1</td>\n",
       "      <td>0.00</td>\n",
       "      <td>0.00</td>\n",
       "      <td>01 0</td>\n",
       "    </tr>\n",
       "    <tr>\n",
       "      <th>1</th>\n",
       "      <td>2</td>\n",
       "      <td>0.00</td>\n",
       "      <td>0.01</td>\n",
       "      <td>01 0-0.01</td>\n",
       "    </tr>\n",
       "    <tr>\n",
       "      <th>2</th>\n",
       "      <td>3</td>\n",
       "      <td>0.01</td>\n",
       "      <td>0.10</td>\n",
       "      <td>02 0.01-0.1</td>\n",
       "    </tr>\n",
       "  </tbody>\n",
       "</table>\n",
       "</div>"
      ],
      "text/plain": [
       "   tr_gr_id  bucket_min  bucket_max        title\n",
       "0         1        0.00        0.00         01 0\n",
       "1         2        0.00        0.01    01 0-0.01\n",
       "2         3        0.01        0.10  02 0.01-0.1"
      ]
     },
     "execution_count": 8,
     "metadata": {},
     "output_type": "execute_result"
    }
   ],
   "source": [
    "df_3= pd.read_sql(query, engine)\n",
    "df_3.head(3)"
   ]
  },
  {
   "cell_type": "markdown",
   "id": "e10d232a",
   "metadata": {},
   "source": [
    "***Описание таблицы lifetime_segment - содержит данные о выделяемых сегментах по количеству месяцев «жизни» клиента — лайфтайму.***\n"
   ]
  },
  {
   "cell_type": "markdown",
   "id": "b2e3d820",
   "metadata": {},
   "source": [
    "- lt_gr_id -\tИдентификатор сегмента, первичный ключ\n",
    "- bucket_min -\tМинимальная граница сегмента\n",
    "- bucket_max -\tМаксимальная граница сегмента\n",
    "- title -\tНазвание сегмента\n"
   ]
  },
  {
   "cell_type": "code",
   "execution_count": 9,
   "id": "f3f255cc",
   "metadata": {},
   "outputs": [],
   "source": [
    "query = \"\"\"\n",
    "SELECT *\n",
    "FROM lifetime_segment;\n",
    "\"\"\""
   ]
  },
  {
   "cell_type": "code",
   "execution_count": 10,
   "id": "9bab8359",
   "metadata": {
    "scrolled": false
   },
   "outputs": [
    {
     "data": {
      "text/html": [
       "<div>\n",
       "<style scoped>\n",
       "    .dataframe tbody tr th:only-of-type {\n",
       "        vertical-align: middle;\n",
       "    }\n",
       "\n",
       "    .dataframe tbody tr th {\n",
       "        vertical-align: top;\n",
       "    }\n",
       "\n",
       "    .dataframe thead th {\n",
       "        text-align: right;\n",
       "    }\n",
       "</style>\n",
       "<table border=\"1\" class=\"dataframe\">\n",
       "  <thead>\n",
       "    <tr style=\"text-align: right;\">\n",
       "      <th></th>\n",
       "      <th>lt_gr_id</th>\n",
       "      <th>bucket_min</th>\n",
       "      <th>bucket_max</th>\n",
       "      <th>title</th>\n",
       "    </tr>\n",
       "  </thead>\n",
       "  <tbody>\n",
       "    <tr>\n",
       "      <th>0</th>\n",
       "      <td>1</td>\n",
       "      <td>1.0</td>\n",
       "      <td>1.0</td>\n",
       "      <td>01 1</td>\n",
       "    </tr>\n",
       "    <tr>\n",
       "      <th>1</th>\n",
       "      <td>2</td>\n",
       "      <td>2.0</td>\n",
       "      <td>2.0</td>\n",
       "      <td>02 2</td>\n",
       "    </tr>\n",
       "    <tr>\n",
       "      <th>2</th>\n",
       "      <td>3</td>\n",
       "      <td>3.0</td>\n",
       "      <td>3.0</td>\n",
       "      <td>03 3</td>\n",
       "    </tr>\n",
       "  </tbody>\n",
       "</table>\n",
       "</div>"
      ],
      "text/plain": [
       "   lt_gr_id  bucket_min  bucket_max title\n",
       "0         1         1.0         1.0  01 1\n",
       "1         2         2.0         2.0  02 2\n",
       "2         3         3.0         3.0  03 3"
      ]
     },
     "execution_count": 10,
     "metadata": {},
     "output_type": "execute_result"
    }
   ],
   "source": [
    "df_4= pd.read_sql(query, engine)\n",
    "df_4.head(3)"
   ]
  },
  {
   "cell_type": "markdown",
   "id": "743836f1",
   "metadata": {},
   "source": [
    "***Описание данных таблицы user - содержит основную информацию о клиентах***"
   ]
  },
  {
   "cell_type": "markdown",
   "id": "e186e3b5",
   "metadata": {},
   "source": [
    "- user_id -\tИдентификатор клиента, первичный ключ таблицы\n",
    "- lt_day -\tКоличество дней «жизни» клиента\n",
    "- age -\tВозраст клиента в годах\n",
    "- gender_segment -\tПол клиента (1 – женщина, 0 – мужчина)\n",
    "- os_name -\tТип операционной системы\n",
    "- cpe_type_name -\tТип устройства\n",
    "- location_id -\tИдентификатор домашнего региона клиента, внешний ключ, отсылающий к таблице location\n",
    "- age_gr_id -\tИдентификатор возрастного сегмента клиента, внешний ключ, отсылающий к таблице age_segment\n",
    "- tr_gr_id -\tИдентификатор сегмента клиента по объёму потребляемого трафика в месяц, внешний ключ, отсылающий к таблице traffic_segment\n",
    "- lt_gr_id -\tИдентификатор сегмента клиента по количеству месяцев «жизни», внешний ключ, отсылающий к таблице lifetime_segment\n",
    "- nps_score -\tОценка клиента в NPS-опросе (от 1 до 10)"
   ]
  },
  {
   "cell_type": "code",
   "execution_count": 11,
   "id": "fa42b0da",
   "metadata": {},
   "outputs": [],
   "source": [
    "query = \"\"\"\n",
    "SELECT *\n",
    "FROM user;\n",
    "\"\"\""
   ]
  },
  {
   "cell_type": "code",
   "execution_count": 12,
   "id": "c04329e4",
   "metadata": {
    "scrolled": true
   },
   "outputs": [
    {
     "data": {
      "text/html": [
       "<div>\n",
       "<style scoped>\n",
       "    .dataframe tbody tr th:only-of-type {\n",
       "        vertical-align: middle;\n",
       "    }\n",
       "\n",
       "    .dataframe tbody tr th {\n",
       "        vertical-align: top;\n",
       "    }\n",
       "\n",
       "    .dataframe thead th {\n",
       "        text-align: right;\n",
       "    }\n",
       "</style>\n",
       "<table border=\"1\" class=\"dataframe\">\n",
       "  <thead>\n",
       "    <tr style=\"text-align: right;\">\n",
       "      <th></th>\n",
       "      <th>user_id</th>\n",
       "      <th>lt_day</th>\n",
       "      <th>age</th>\n",
       "      <th>gender_segment</th>\n",
       "      <th>os_name</th>\n",
       "      <th>cpe_type_name</th>\n",
       "      <th>location_id</th>\n",
       "      <th>age_gr_id</th>\n",
       "      <th>tr_gr_id</th>\n",
       "      <th>lt_gr_id</th>\n",
       "      <th>nps_score</th>\n",
       "    </tr>\n",
       "  </thead>\n",
       "  <tbody>\n",
       "    <tr>\n",
       "      <th>0</th>\n",
       "      <td>A001A2</td>\n",
       "      <td>2320</td>\n",
       "      <td>45.0</td>\n",
       "      <td>1.0</td>\n",
       "      <td>ANDROID</td>\n",
       "      <td>SMARTPHONE</td>\n",
       "      <td>55</td>\n",
       "      <td>5</td>\n",
       "      <td>5</td>\n",
       "      <td>8</td>\n",
       "      <td>10</td>\n",
       "    </tr>\n",
       "    <tr>\n",
       "      <th>1</th>\n",
       "      <td>A001WF</td>\n",
       "      <td>2344</td>\n",
       "      <td>53.0</td>\n",
       "      <td>0.0</td>\n",
       "      <td>ANDROID</td>\n",
       "      <td>SMARTPHONE</td>\n",
       "      <td>21</td>\n",
       "      <td>5</td>\n",
       "      <td>5</td>\n",
       "      <td>8</td>\n",
       "      <td>10</td>\n",
       "    </tr>\n",
       "    <tr>\n",
       "      <th>2</th>\n",
       "      <td>A003Q7</td>\n",
       "      <td>467</td>\n",
       "      <td>57.0</td>\n",
       "      <td>0.0</td>\n",
       "      <td>ANDROID</td>\n",
       "      <td>SMARTPHONE</td>\n",
       "      <td>28</td>\n",
       "      <td>6</td>\n",
       "      <td>9</td>\n",
       "      <td>6</td>\n",
       "      <td>10</td>\n",
       "    </tr>\n",
       "  </tbody>\n",
       "</table>\n",
       "</div>"
      ],
      "text/plain": [
       "  user_id  lt_day   age  gender_segment  os_name cpe_type_name  location_id  \\\n",
       "0  A001A2    2320  45.0             1.0  ANDROID    SMARTPHONE           55   \n",
       "1  A001WF    2344  53.0             0.0  ANDROID    SMARTPHONE           21   \n",
       "2  A003Q7     467  57.0             0.0  ANDROID    SMARTPHONE           28   \n",
       "\n",
       "   age_gr_id  tr_gr_id  lt_gr_id  nps_score  \n",
       "0          5         5         8         10  \n",
       "1          5         5         8         10  \n",
       "2          6         9         6         10  "
      ]
     },
     "execution_count": 12,
     "metadata": {},
     "output_type": "execute_result"
    }
   ],
   "source": [
    "df_5= pd.read_sql(query, engine)\n",
    "df_5.head(3)"
   ]
  },
  {
   "cell_type": "markdown",
   "id": "538c7a36",
   "metadata": {},
   "source": [
    "Преобразовываем данные с помощью SQL-запроса, чтобы собрать в одну витрину данные из разных таблиц.\n"
   ]
  },
  {
   "cell_type": "markdown",
   "id": "bf0d828d",
   "metadata": {},
   "source": [
    "***Описание базы данных для дашборда:***"
   ]
  },
  {
   "cell_type": "markdown",
   "id": "f4e72eef",
   "metadata": {},
   "source": [
    "- user_id -\tИдентификатор клиента\n",
    "- lt_day -\tКоличество дней «жизни» клиента\n",
    "- is_new -\tПоле хранит информацию о том, является ли клиент новым\n",
    "- age -\tВозраст\n",
    "- gender_segment -\tПол (для удобства работы с полем преобразуйте значения в текстовый вид)\n",
    "- os_name -\tТип операционной системы\n",
    "- cpe_type_name -\tТип устройства\n",
    "- country -\tСтрана проживания\n",
    "- city -\tГород проживания\n",
    "- age_segment -\tВозрастной сегмент\n",
    "- traffic_segment -\tСегмент по объёму потребляемого трафика\n",
    "- lifetime_segment -\tСегмент по количеству дней «жизни»\n",
    "- nps_score -\tОценка клиента в NPS-опросе\n",
    "- nps_group -\tПоле хранит информацию о том, к какой группе относится оценка клиента в опросе\n"
   ]
  },
  {
   "cell_type": "code",
   "execution_count": 13,
   "id": "c3c9c326",
   "metadata": {},
   "outputs": [],
   "source": [
    "query = \"\"\"\n",
    "SELECT \n",
    "    u.user_id,\n",
    "    u.lt_day,\n",
    "    CASE\n",
    "        WHEN lt_day <= 365 THEN 'new'\n",
    "        ELSE 'old' END\n",
    "        AS is_new,\n",
    "    u.age,\n",
    "    CASE \n",
    "        WHEN u.gender_segment = 1 THEN 'female'\n",
    "        WHEN u.gender_segment = 0 THEN 'male'\n",
    "        ELSE 'unknown' END\n",
    "        AS gender_segment,\n",
    "    u.os_name,\n",
    "    u.cpe_type_name,\n",
    "    l.country,\n",
    "    l.city,\n",
    "    a.title AS age_segment,\n",
    "    ts.title AS traffic_segment,\n",
    "    ls.title AS lifetime_segment,\n",
    "    u.nps_score,\n",
    "    CASE\n",
    "        WHEN nps_score >= 9 THEN 'promoters'\n",
    "        WHEN nps_score <= 6 THEN 'detractors'\n",
    "        ELSE 'passives' END\n",
    "        AS nps_group\n",
    "FROM\n",
    "    \"user\" u \n",
    "LEFT JOIN\n",
    "    location l \n",
    "    ON u.location_id = l.location_id\n",
    "LEFT JOIN\n",
    "    age_segment a\n",
    "    ON u.age_gr_id = a.age_gr_id\n",
    "LEFT JOIN\n",
    "    traffic_segment ts \n",
    "    ON u.tr_gr_id = ts.tr_gr_id \n",
    "LEFT JOIN\n",
    "    lifetime_segment ls \n",
    "    ON u.lt_gr_id = ls.lt_gr_id\n",
    "WHERE CAST(lt_day AS INTEGER) > 0;\n",
    "\"\"\""
   ]
  },
  {
   "cell_type": "code",
   "execution_count": 14,
   "id": "9ad23e09",
   "metadata": {
    "scrolled": false
   },
   "outputs": [
    {
     "data": {
      "text/html": [
       "<div>\n",
       "<style scoped>\n",
       "    .dataframe tbody tr th:only-of-type {\n",
       "        vertical-align: middle;\n",
       "    }\n",
       "\n",
       "    .dataframe tbody tr th {\n",
       "        vertical-align: top;\n",
       "    }\n",
       "\n",
       "    .dataframe thead th {\n",
       "        text-align: right;\n",
       "    }\n",
       "</style>\n",
       "<table border=\"1\" class=\"dataframe\">\n",
       "  <thead>\n",
       "    <tr style=\"text-align: right;\">\n",
       "      <th></th>\n",
       "      <th>user_id</th>\n",
       "      <th>lt_day</th>\n",
       "      <th>is_new</th>\n",
       "      <th>age</th>\n",
       "      <th>gender_segment</th>\n",
       "      <th>os_name</th>\n",
       "      <th>cpe_type_name</th>\n",
       "      <th>country</th>\n",
       "      <th>city</th>\n",
       "      <th>age_segment</th>\n",
       "      <th>traffic_segment</th>\n",
       "      <th>lifetime_segment</th>\n",
       "      <th>nps_score</th>\n",
       "      <th>nps_group</th>\n",
       "    </tr>\n",
       "  </thead>\n",
       "  <tbody>\n",
       "    <tr>\n",
       "      <th>0</th>\n",
       "      <td>A001A2</td>\n",
       "      <td>2320</td>\n",
       "      <td>old</td>\n",
       "      <td>45.0</td>\n",
       "      <td>female</td>\n",
       "      <td>ANDROID</td>\n",
       "      <td>SMARTPHONE</td>\n",
       "      <td>Россия</td>\n",
       "      <td>Уфа</td>\n",
       "      <td>05 45-54</td>\n",
       "      <td>04 1-5</td>\n",
       "      <td>08 36+</td>\n",
       "      <td>10</td>\n",
       "      <td>promoters</td>\n",
       "    </tr>\n",
       "    <tr>\n",
       "      <th>1</th>\n",
       "      <td>A001WF</td>\n",
       "      <td>2344</td>\n",
       "      <td>old</td>\n",
       "      <td>53.0</td>\n",
       "      <td>male</td>\n",
       "      <td>ANDROID</td>\n",
       "      <td>SMARTPHONE</td>\n",
       "      <td>Россия</td>\n",
       "      <td>Киров</td>\n",
       "      <td>05 45-54</td>\n",
       "      <td>04 1-5</td>\n",
       "      <td>08 36+</td>\n",
       "      <td>10</td>\n",
       "      <td>promoters</td>\n",
       "    </tr>\n",
       "    <tr>\n",
       "      <th>2</th>\n",
       "      <td>A003Q7</td>\n",
       "      <td>467</td>\n",
       "      <td>old</td>\n",
       "      <td>57.0</td>\n",
       "      <td>male</td>\n",
       "      <td>ANDROID</td>\n",
       "      <td>SMARTPHONE</td>\n",
       "      <td>Россия</td>\n",
       "      <td>Москва</td>\n",
       "      <td>06 55-64</td>\n",
       "      <td>08 20-25</td>\n",
       "      <td>06 13-24</td>\n",
       "      <td>10</td>\n",
       "      <td>promoters</td>\n",
       "    </tr>\n",
       "  </tbody>\n",
       "</table>\n",
       "</div>"
      ],
      "text/plain": [
       "  user_id  lt_day is_new   age gender_segment  os_name cpe_type_name country  \\\n",
       "0  A001A2    2320    old  45.0         female  ANDROID    SMARTPHONE  Россия   \n",
       "1  A001WF    2344    old  53.0           male  ANDROID    SMARTPHONE  Россия   \n",
       "2  A003Q7     467    old  57.0           male  ANDROID    SMARTPHONE  Россия   \n",
       "\n",
       "     city age_segment traffic_segment lifetime_segment  nps_score  nps_group  \n",
       "0     Уфа    05 45-54          04 1-5           08 36+         10  promoters  \n",
       "1   Киров    05 45-54          04 1-5           08 36+         10  promoters  \n",
       "2  Москва    06 55-64        08 20-25         06 13-24         10  promoters  "
      ]
     },
     "execution_count": 14,
     "metadata": {},
     "output_type": "execute_result"
    }
   ],
   "source": [
    "df = pd.read_sql(query, engine)\n",
    "df.head(3)"
   ]
  },
  {
   "cell_type": "markdown",
   "id": "2808fdc9",
   "metadata": {},
   "source": [
    "Получившуюся таблицу сохраняем как .csv файл."
   ]
  },
  {
   "cell_type": "code",
   "execution_count": 15,
   "id": "07df9a99",
   "metadata": {},
   "outputs": [],
   "source": [
    "df.to_csv('telecomm_csi_tableau.csv', index=False)"
   ]
  },
  {
   "cell_type": "markdown",
   "id": "9ce9c0d6",
   "metadata": {},
   "source": [
    "### Укажите ссылку на дашборд на сайте Tableau Public:"
   ]
  },
  {
   "cell_type": "markdown",
   "id": "6bc4fa9a",
   "metadata": {},
   "source": [
    "https://public.tableau.com/app/profile/marina7800/viz/Dashboard_NPS/Dashboard1#1"
   ]
  },
  {
   "cell_type": "markdown",
   "id": "f0c16127",
   "metadata": {},
   "source": [
    "### Укажите ссылку на pdf-файл с презентацией:"
   ]
  },
  {
   "cell_type": "markdown",
   "id": "442ca8a1",
   "metadata": {},
   "source": [
    "https://disk.yandex.ru/i/WbTwbuCNcS32Yg"
   ]
  }
 ],
 "metadata": {
  "ExecuteTimeLog": [
   {
    "duration": 752,
    "start_time": "2021-10-03T17:40:52.731Z"
   },
   {
    "duration": 20,
    "start_time": "2021-10-03T17:40:53.486Z"
   },
   {
    "duration": 4,
    "start_time": "2021-10-03T17:41:04.638Z"
   },
   {
    "duration": 461,
    "start_time": "2021-10-03T17:41:04.912Z"
   },
   {
    "duration": 284,
    "start_time": "2021-10-03T17:41:05.376Z"
   },
   {
    "duration": 574,
    "start_time": "2021-10-06T07:55:05.029Z"
   },
   {
    "duration": 6,
    "start_time": "2021-10-06T07:55:05.605Z"
   },
   {
    "duration": 3,
    "start_time": "2021-10-06T07:55:14.685Z"
   },
   {
    "duration": 406,
    "start_time": "2021-10-06T07:55:15.522Z"
   },
   {
    "duration": 67,
    "start_time": "2021-10-06T07:55:15.929Z"
   },
   {
    "duration": 840,
    "start_time": "2021-10-07T07:54:04.647Z"
   },
   {
    "duration": 10,
    "start_time": "2021-10-07T07:54:05.490Z"
   },
   {
    "duration": 4,
    "start_time": "2021-10-07T07:54:05.544Z"
   },
   {
    "duration": 391,
    "start_time": "2021-10-07T07:54:06.237Z"
   },
   {
    "duration": 293,
    "start_time": "2021-10-07T07:54:06.654Z"
   },
   {
    "duration": 554,
    "start_time": "2023-01-09T08:26:24.525Z"
   },
   {
    "duration": 11,
    "start_time": "2023-01-09T08:26:25.081Z"
   },
   {
    "duration": 11,
    "start_time": "2023-01-09T08:26:25.093Z"
   },
   {
    "duration": 267,
    "start_time": "2023-01-09T08:26:25.105Z"
   },
   {
    "duration": 97,
    "start_time": "2023-01-09T08:26:25.374Z"
   },
   {
    "duration": 536,
    "start_time": "2023-01-10T09:43:28.243Z"
   },
   {
    "duration": 9,
    "start_time": "2023-01-10T09:43:28.781Z"
   },
   {
    "duration": 5,
    "start_time": "2023-01-10T09:43:28.792Z"
   },
   {
    "duration": 506,
    "start_time": "2023-01-10T09:43:28.800Z"
   },
   {
    "duration": 47,
    "start_time": "2023-01-10T09:43:29.308Z"
   },
   {
    "duration": 47,
    "start_time": "2023-01-10T09:51:13.157Z"
   },
   {
    "duration": 2,
    "start_time": "2023-01-10T09:53:14.416Z"
   },
   {
    "duration": 2827,
    "start_time": "2023-01-10T09:54:17.491Z"
   },
   {
    "duration": 2,
    "start_time": "2023-01-10T09:55:48.385Z"
   },
   {
    "duration": 531,
    "start_time": "2023-01-10T09:55:50.340Z"
   },
   {
    "duration": 2,
    "start_time": "2023-01-10T10:00:58.045Z"
   },
   {
    "duration": 1721,
    "start_time": "2023-01-10T10:00:59.660Z"
   },
   {
    "duration": 3,
    "start_time": "2023-01-10T10:25:19.409Z"
   },
   {
    "duration": 4243,
    "start_time": "2023-01-10T10:25:41.098Z"
   },
   {
    "duration": 2,
    "start_time": "2023-01-10T11:34:53.921Z"
   },
   {
    "duration": 437,
    "start_time": "2023-01-10T11:36:07.857Z"
   },
   {
    "duration": 419,
    "start_time": "2023-01-10T11:36:57.650Z"
   },
   {
    "duration": 3,
    "start_time": "2023-01-10T11:39:10.931Z"
   },
   {
    "duration": 421,
    "start_time": "2023-01-10T11:39:12.463Z"
   },
   {
    "duration": 2,
    "start_time": "2023-01-10T11:40:46.366Z"
   },
   {
    "duration": 405,
    "start_time": "2023-01-10T11:40:47.501Z"
   },
   {
    "duration": 3,
    "start_time": "2023-01-10T12:00:00.941Z"
   },
   {
    "duration": 306,
    "start_time": "2023-01-10T12:00:07.104Z"
   },
   {
    "duration": 11,
    "start_time": "2023-01-10T12:06:24.317Z"
   },
   {
    "duration": 76,
    "start_time": "2023-01-10T12:06:28.445Z"
   },
   {
    "duration": 569,
    "start_time": "2023-01-10T12:07:00.852Z"
   },
   {
    "duration": 41,
    "start_time": "2023-01-10T12:07:01.425Z"
   },
   {
    "duration": 3,
    "start_time": "2023-01-10T12:07:01.468Z"
   },
   {
    "duration": 560,
    "start_time": "2023-01-10T12:07:01.473Z"
   },
   {
    "duration": 58,
    "start_time": "2023-01-10T12:07:02.035Z"
   },
   {
    "duration": 3,
    "start_time": "2023-01-10T12:07:02.096Z"
   },
   {
    "duration": 5096,
    "start_time": "2023-01-10T12:07:02.102Z"
   },
   {
    "duration": 13,
    "start_time": "2023-01-10T12:07:07.200Z"
   },
   {
    "duration": 491,
    "start_time": "2023-01-10T12:07:07.219Z"
   },
   {
    "duration": 4,
    "start_time": "2023-01-10T12:07:07.718Z"
   },
   {
    "duration": 427,
    "start_time": "2023-01-10T12:07:07.724Z"
   },
   {
    "duration": 5,
    "start_time": "2023-01-10T12:07:08.153Z"
   },
   {
    "duration": 535,
    "start_time": "2023-01-10T12:07:08.160Z"
   },
   {
    "duration": 4,
    "start_time": "2023-01-10T12:09:45.517Z"
   },
   {
    "duration": 5173,
    "start_time": "2023-01-10T12:09:46.924Z"
   },
   {
    "duration": 2,
    "start_time": "2023-01-10T12:11:50.080Z"
   },
   {
    "duration": 3701,
    "start_time": "2023-01-10T12:12:14.425Z"
   },
   {
    "duration": 3,
    "start_time": "2023-01-10T12:16:11.458Z"
   },
   {
    "duration": 5523,
    "start_time": "2023-01-10T12:16:17.539Z"
   },
   {
    "duration": 523,
    "start_time": "2023-01-13T12:25:42.504Z"
   },
   {
    "duration": 21,
    "start_time": "2023-01-13T12:25:46.533Z"
   },
   {
    "duration": 3,
    "start_time": "2023-01-13T12:25:49.291Z"
   },
   {
    "duration": 578,
    "start_time": "2023-01-13T12:26:05.294Z"
   },
   {
    "duration": 3,
    "start_time": "2023-01-13T12:28:26.176Z"
   },
   {
    "duration": 539,
    "start_time": "2023-01-13T12:28:27.180Z"
   },
   {
    "duration": 507,
    "start_time": "2023-01-13T12:28:49.071Z"
   },
   {
    "duration": 2,
    "start_time": "2023-01-13T12:28:56.138Z"
   },
   {
    "duration": 534,
    "start_time": "2023-01-13T12:28:57.066Z"
   },
   {
    "duration": 2,
    "start_time": "2023-01-13T12:29:08.136Z"
   },
   {
    "duration": 527,
    "start_time": "2023-01-13T12:29:16.846Z"
   },
   {
    "duration": 2,
    "start_time": "2023-01-13T12:30:07.338Z"
   },
   {
    "duration": 4191,
    "start_time": "2023-01-13T12:30:17.117Z"
   },
   {
    "duration": 2,
    "start_time": "2023-01-13T12:38:32.812Z"
   },
   {
    "duration": 632,
    "start_time": "2023-01-13T12:38:35.176Z"
   },
   {
    "duration": 2,
    "start_time": "2023-01-13T12:39:17.031Z"
   },
   {
    "duration": 565,
    "start_time": "2023-01-13T12:39:18.403Z"
   },
   {
    "duration": 2,
    "start_time": "2023-01-13T12:54:32.976Z"
   },
   {
    "duration": 1363,
    "start_time": "2023-01-13T12:54:34.211Z"
   },
   {
    "duration": 1388,
    "start_time": "2023-01-13T12:55:13.821Z"
   },
   {
    "duration": 3,
    "start_time": "2023-01-13T13:03:48.646Z"
   },
   {
    "duration": 324,
    "start_time": "2023-01-13T13:04:09.421Z"
   },
   {
    "duration": 3,
    "start_time": "2023-01-13T13:05:27.867Z"
   },
   {
    "duration": 327,
    "start_time": "2023-01-13T13:05:29.304Z"
   },
   {
    "duration": 3,
    "start_time": "2023-01-13T13:06:12.679Z"
   },
   {
    "duration": 329,
    "start_time": "2023-01-13T13:06:14.563Z"
   },
   {
    "duration": 3,
    "start_time": "2023-01-13T13:07:38.258Z"
   },
   {
    "duration": 326,
    "start_time": "2023-01-13T13:07:39.418Z"
   },
   {
    "duration": 2,
    "start_time": "2023-01-13T13:07:56.506Z"
   },
   {
    "duration": 1569,
    "start_time": "2023-01-13T13:07:57.595Z"
   },
   {
    "duration": 99,
    "start_time": "2023-01-13T13:20:06.957Z"
   },
   {
    "duration": 3,
    "start_time": "2023-01-13T13:20:37.657Z"
   },
   {
    "duration": 46,
    "start_time": "2023-01-13T13:21:16.405Z"
   },
   {
    "duration": 469,
    "start_time": "2023-01-13T13:21:32.950Z"
   },
   {
    "duration": 9,
    "start_time": "2023-01-13T13:21:35.647Z"
   },
   {
    "duration": 2,
    "start_time": "2023-01-13T13:21:37.445Z"
   },
   {
    "duration": 599,
    "start_time": "2023-01-13T13:21:39.538Z"
   },
   {
    "duration": 2,
    "start_time": "2023-01-13T13:21:47.047Z"
   },
   {
    "duration": 541,
    "start_time": "2023-01-13T13:21:48.398Z"
   },
   {
    "duration": 2,
    "start_time": "2023-01-13T13:21:49.910Z"
   },
   {
    "duration": 562,
    "start_time": "2023-01-13T13:21:59.299Z"
   },
   {
    "duration": 2,
    "start_time": "2023-01-13T13:22:04.816Z"
   },
   {
    "duration": 564,
    "start_time": "2023-01-13T13:22:06.498Z"
   },
   {
    "duration": 2,
    "start_time": "2023-01-13T13:22:08.649Z"
   },
   {
    "duration": 3220,
    "start_time": "2023-01-13T13:22:09.956Z"
   },
   {
    "duration": 2,
    "start_time": "2023-01-13T13:22:20.558Z"
   },
   {
    "duration": 1364,
    "start_time": "2023-01-13T13:22:22.362Z"
   },
   {
    "duration": 2,
    "start_time": "2023-01-13T13:22:28.970Z"
   },
   {
    "duration": 1512,
    "start_time": "2023-01-13T13:22:30.974Z"
   },
   {
    "duration": 3,
    "start_time": "2023-01-13T13:22:38.825Z"
   },
   {
    "duration": 655,
    "start_time": "2023-01-13T13:22:40.580Z"
   },
   {
    "duration": 3,
    "start_time": "2023-01-13T13:24:07.375Z"
   },
   {
    "duration": 1584,
    "start_time": "2023-01-13T13:24:09.116Z"
   },
   {
    "duration": 1484,
    "start_time": "2023-01-13T13:24:21.613Z"
   },
   {
    "duration": 3,
    "start_time": "2023-01-13T13:32:08.713Z"
   },
   {
    "duration": 640,
    "start_time": "2023-01-13T13:32:15.285Z"
   },
   {
    "duration": 3,
    "start_time": "2023-01-13T13:35:48.834Z"
   },
   {
    "duration": 5573,
    "start_time": "2023-01-13T13:35:50.807Z"
   },
   {
    "duration": 4143,
    "start_time": "2023-01-13T13:36:13.040Z"
   },
   {
    "duration": 582,
    "start_time": "2023-01-16T16:18:04.809Z"
   },
   {
    "duration": 9,
    "start_time": "2023-01-16T16:18:05.393Z"
   },
   {
    "duration": 30,
    "start_time": "2023-01-16T16:18:05.404Z"
   },
   {
    "duration": 440,
    "start_time": "2023-01-16T16:18:05.436Z"
   },
   {
    "duration": 3,
    "start_time": "2023-01-16T16:18:05.878Z"
   },
   {
    "duration": 401,
    "start_time": "2023-01-16T16:18:05.882Z"
   },
   {
    "duration": 3,
    "start_time": "2023-01-16T16:18:06.285Z"
   },
   {
    "duration": 401,
    "start_time": "2023-01-16T16:18:06.290Z"
   },
   {
    "duration": 3,
    "start_time": "2023-01-16T16:18:06.692Z"
   },
   {
    "duration": 379,
    "start_time": "2023-01-16T16:18:06.697Z"
   },
   {
    "duration": 3,
    "start_time": "2023-01-16T16:18:07.077Z"
   },
   {
    "duration": 3720,
    "start_time": "2023-01-16T16:18:07.081Z"
   },
   {
    "duration": 3,
    "start_time": "2023-01-16T16:18:10.802Z"
   },
   {
    "duration": 1320,
    "start_time": "2023-01-16T16:18:10.807Z"
   },
   {
    "duration": 3,
    "start_time": "2023-01-16T16:18:12.129Z"
   },
   {
    "duration": 1491,
    "start_time": "2023-01-16T16:18:12.136Z"
   },
   {
    "duration": 10,
    "start_time": "2023-01-16T16:18:13.628Z"
   },
   {
    "duration": 1471,
    "start_time": "2023-01-16T16:18:13.640Z"
   },
   {
    "duration": 3,
    "start_time": "2023-01-16T16:18:15.113Z"
   },
   {
    "duration": 6147,
    "start_time": "2023-01-16T16:18:15.117Z"
   },
   {
    "duration": 5068,
    "start_time": "2023-01-16T16:18:21.266Z"
   },
   {
    "duration": 3,
    "start_time": "2023-01-16T16:27:28.808Z"
   },
   {
    "duration": 352,
    "start_time": "2023-01-16T16:27:36.514Z"
   },
   {
    "duration": 3,
    "start_time": "2023-01-16T16:29:30.101Z"
   },
   {
    "duration": 5755,
    "start_time": "2023-01-16T16:29:35.842Z"
   },
   {
    "duration": 8,
    "start_time": "2023-01-16T16:30:55.434Z"
   },
   {
    "duration": 3,
    "start_time": "2023-01-16T16:33:54.295Z"
   },
   {
    "duration": 5509,
    "start_time": "2023-01-16T16:33:59.656Z"
   },
   {
    "duration": 8,
    "start_time": "2023-01-16T16:34:13.805Z"
   },
   {
    "duration": 4654,
    "start_time": "2023-01-16T16:34:39.483Z"
   },
   {
    "duration": 14,
    "start_time": "2023-01-16T16:37:04.907Z"
   },
   {
    "duration": 127,
    "start_time": "2023-01-16T16:39:01.738Z"
   },
   {
    "duration": 606,
    "start_time": "2023-01-18T10:51:44.214Z"
   },
   {
    "duration": 12,
    "start_time": "2023-01-18T10:51:46.512Z"
   },
   {
    "duration": 4,
    "start_time": "2023-01-18T10:51:48.827Z"
   },
   {
    "duration": 389,
    "start_time": "2023-01-18T10:51:50.182Z"
   },
   {
    "duration": 2,
    "start_time": "2023-01-18T10:51:53.613Z"
   },
   {
    "duration": 347,
    "start_time": "2023-01-18T10:51:55.077Z"
   },
   {
    "duration": 3,
    "start_time": "2023-01-18T10:52:04.567Z"
   },
   {
    "duration": 371,
    "start_time": "2023-01-18T10:52:06.141Z"
   },
   {
    "duration": 2,
    "start_time": "2023-01-18T10:52:07.768Z"
   },
   {
    "duration": 359,
    "start_time": "2023-01-18T10:52:17.717Z"
   },
   {
    "duration": 2,
    "start_time": "2023-01-18T10:52:21.245Z"
   },
   {
    "duration": 3395,
    "start_time": "2023-01-18T10:52:22.900Z"
   },
   {
    "duration": 3,
    "start_time": "2023-01-18T10:53:08.836Z"
   },
   {
    "duration": 1315,
    "start_time": "2023-01-18T10:53:11.974Z"
   },
   {
    "duration": 3,
    "start_time": "2023-01-18T10:55:15.843Z"
   },
   {
    "duration": 1628,
    "start_time": "2023-01-18T10:55:17.650Z"
   },
   {
    "duration": 3,
    "start_time": "2023-01-18T10:59:52.865Z"
   },
   {
    "duration": 1488,
    "start_time": "2023-01-18T11:00:14.621Z"
   },
   {
    "duration": 4,
    "start_time": "2023-01-18T11:07:34.106Z"
   },
   {
    "duration": 5177,
    "start_time": "2023-01-18T11:07:44.706Z"
   },
   {
    "duration": 108,
    "start_time": "2023-01-18T11:08:21.083Z"
   },
   {
    "duration": 4829,
    "start_time": "2023-01-18T11:09:02.414Z"
   },
   {
    "duration": 55,
    "start_time": "2023-01-18T13:26:01.151Z"
   },
   {
    "duration": 551,
    "start_time": "2023-01-18T13:26:15.560Z"
   },
   {
    "duration": 12,
    "start_time": "2023-01-18T13:26:16.114Z"
   },
   {
    "duration": 15,
    "start_time": "2023-01-18T13:26:16.128Z"
   },
   {
    "duration": 411,
    "start_time": "2023-01-18T13:26:16.146Z"
   },
   {
    "duration": 2,
    "start_time": "2023-01-18T13:26:16.558Z"
   },
   {
    "duration": 347,
    "start_time": "2023-01-18T13:26:16.561Z"
   },
   {
    "duration": 2,
    "start_time": "2023-01-18T13:26:16.910Z"
   },
   {
    "duration": 379,
    "start_time": "2023-01-18T13:26:16.914Z"
   },
   {
    "duration": 4,
    "start_time": "2023-01-18T13:26:17.295Z"
   },
   {
    "duration": 346,
    "start_time": "2023-01-18T13:26:17.301Z"
   },
   {
    "duration": 3,
    "start_time": "2023-01-18T13:26:17.648Z"
   },
   {
    "duration": 3301,
    "start_time": "2023-01-18T13:26:17.652Z"
   },
   {
    "duration": 2,
    "start_time": "2023-01-18T13:26:20.955Z"
   },
   {
    "duration": 1224,
    "start_time": "2023-01-18T13:26:20.959Z"
   },
   {
    "duration": 8,
    "start_time": "2023-01-18T13:26:22.191Z"
   },
   {
    "duration": 1421,
    "start_time": "2023-01-18T13:26:22.201Z"
   },
   {
    "duration": 2,
    "start_time": "2023-01-18T13:26:23.624Z"
   },
   {
    "duration": 1370,
    "start_time": "2023-01-18T13:26:23.628Z"
   },
   {
    "duration": 3,
    "start_time": "2023-01-18T13:26:25.002Z"
   },
   {
    "duration": 5467,
    "start_time": "2023-01-18T13:26:25.006Z"
   },
   {
    "duration": 4753,
    "start_time": "2023-01-18T13:26:30.474Z"
   },
   {
    "duration": 4,
    "start_time": "2023-01-18T13:26:35.229Z"
   },
   {
    "duration": 6131,
    "start_time": "2023-01-18T13:26:35.235Z"
   },
   {
    "duration": 4596,
    "start_time": "2023-01-18T13:27:30.001Z"
   },
   {
    "duration": 502,
    "start_time": "2023-01-18T13:29:42.617Z"
   },
   {
    "duration": 9,
    "start_time": "2023-01-18T13:29:43.121Z"
   },
   {
    "duration": 4,
    "start_time": "2023-01-18T13:29:43.131Z"
   },
   {
    "duration": 370,
    "start_time": "2023-01-18T13:29:43.137Z"
   },
   {
    "duration": 2,
    "start_time": "2023-01-18T13:29:43.510Z"
   },
   {
    "duration": 366,
    "start_time": "2023-01-18T13:29:43.514Z"
   },
   {
    "duration": 2,
    "start_time": "2023-01-18T13:29:43.881Z"
   },
   {
    "duration": 389,
    "start_time": "2023-01-18T13:29:43.885Z"
   },
   {
    "duration": 2,
    "start_time": "2023-01-18T13:29:44.276Z"
   },
   {
    "duration": 347,
    "start_time": "2023-01-18T13:29:44.279Z"
   },
   {
    "duration": 2,
    "start_time": "2023-01-18T13:29:44.628Z"
   },
   {
    "duration": 3285,
    "start_time": "2023-01-18T13:29:44.631Z"
   },
   {
    "duration": 2,
    "start_time": "2023-01-18T13:29:47.918Z"
   },
   {
    "duration": 4791,
    "start_time": "2023-01-18T13:29:47.922Z"
   },
   {
    "duration": 4387,
    "start_time": "2023-01-18T13:29:52.715Z"
   },
   {
    "duration": 464,
    "start_time": "2023-01-21T17:22:34.594Z"
   },
   {
    "duration": 19,
    "start_time": "2023-01-21T17:22:35.060Z"
   },
   {
    "duration": 2,
    "start_time": "2023-01-21T17:22:35.080Z"
   },
   {
    "duration": 611,
    "start_time": "2023-01-21T17:22:35.084Z"
   },
   {
    "duration": 3,
    "start_time": "2023-01-21T17:22:35.697Z"
   },
   {
    "duration": 559,
    "start_time": "2023-01-21T17:22:35.702Z"
   },
   {
    "duration": 3,
    "start_time": "2023-01-21T17:22:36.263Z"
   },
   {
    "duration": 512,
    "start_time": "2023-01-21T17:22:36.267Z"
   },
   {
    "duration": 4,
    "start_time": "2023-01-21T17:22:36.781Z"
   },
   {
    "duration": 543,
    "start_time": "2023-01-21T17:22:36.788Z"
   },
   {
    "duration": 2,
    "start_time": "2023-01-21T17:22:37.333Z"
   },
   {
    "duration": 4257,
    "start_time": "2023-01-21T17:22:37.336Z"
   },
   {
    "duration": 3,
    "start_time": "2023-01-21T17:22:41.595Z"
   },
   {
    "duration": 4568,
    "start_time": "2023-01-21T17:22:41.600Z"
   },
   {
    "duration": 3757,
    "start_time": "2023-01-21T17:22:46.170Z"
   },
   {
    "duration": 504,
    "start_time": "2023-01-23T08:17:29.368Z"
   },
   {
    "duration": 19,
    "start_time": "2023-01-23T08:17:29.873Z"
   },
   {
    "duration": 2,
    "start_time": "2023-01-23T08:17:29.894Z"
   },
   {
    "duration": 524,
    "start_time": "2023-01-23T08:17:29.898Z"
   },
   {
    "duration": 3,
    "start_time": "2023-01-23T08:17:30.424Z"
   },
   {
    "duration": 630,
    "start_time": "2023-01-23T08:17:30.428Z"
   },
   {
    "duration": 3,
    "start_time": "2023-01-23T08:17:31.060Z"
   },
   {
    "duration": 570,
    "start_time": "2023-01-23T08:17:31.065Z"
   },
   {
    "duration": 6,
    "start_time": "2023-01-23T08:17:31.636Z"
   },
   {
    "duration": 656,
    "start_time": "2023-01-23T08:17:31.645Z"
   },
   {
    "duration": 3,
    "start_time": "2023-01-23T08:17:32.304Z"
   },
   {
    "duration": 3694,
    "start_time": "2023-01-23T08:17:32.308Z"
   },
   {
    "duration": 3,
    "start_time": "2023-01-23T08:17:36.004Z"
   },
   {
    "duration": 523,
    "start_time": "2023-01-23T08:18:08.427Z"
   },
   {
    "duration": 29,
    "start_time": "2023-01-23T08:18:08.953Z"
   },
   {
    "duration": 3,
    "start_time": "2023-01-23T08:18:08.986Z"
   },
   {
    "duration": 633,
    "start_time": "2023-01-23T08:18:08.990Z"
   },
   {
    "duration": 3,
    "start_time": "2023-01-23T08:18:09.624Z"
   },
   {
    "duration": 563,
    "start_time": "2023-01-23T08:18:09.629Z"
   },
   {
    "duration": 2,
    "start_time": "2023-01-23T08:18:10.195Z"
   },
   {
    "duration": 579,
    "start_time": "2023-01-23T08:18:10.199Z"
   },
   {
    "duration": 3,
    "start_time": "2023-01-23T08:18:10.780Z"
   },
   {
    "duration": 585,
    "start_time": "2023-01-23T08:18:10.784Z"
   },
   {
    "duration": 2,
    "start_time": "2023-01-23T08:18:11.371Z"
   },
   {
    "duration": 4723,
    "start_time": "2023-01-23T08:18:11.375Z"
   },
   {
    "duration": 4,
    "start_time": "2023-01-23T08:18:16.100Z"
   },
   {
    "duration": 45,
    "start_time": "2023-01-23T08:35:16.797Z"
   },
   {
    "duration": 516,
    "start_time": "2023-01-23T08:35:32.276Z"
   },
   {
    "duration": 34,
    "start_time": "2023-01-23T08:35:32.794Z"
   },
   {
    "duration": 4,
    "start_time": "2023-01-23T08:35:34.927Z"
   },
   {
    "duration": 662,
    "start_time": "2023-01-23T08:35:35.466Z"
   },
   {
    "duration": 3,
    "start_time": "2023-01-23T08:35:39.339Z"
   },
   {
    "duration": 495,
    "start_time": "2023-01-23T08:35:40.221Z"
   },
   {
    "duration": 4,
    "start_time": "2023-01-23T08:35:41.978Z"
   },
   {
    "duration": 524,
    "start_time": "2023-01-23T08:35:42.525Z"
   },
   {
    "duration": 3,
    "start_time": "2023-01-23T08:35:44.765Z"
   },
   {
    "duration": 771,
    "start_time": "2023-01-23T08:35:46.174Z"
   },
   {
    "duration": 2,
    "start_time": "2023-01-23T08:35:48.602Z"
   },
   {
    "duration": 5994,
    "start_time": "2023-01-23T08:35:49.213Z"
   },
   {
    "duration": 3,
    "start_time": "2023-01-23T08:35:59.304Z"
   },
   {
    "duration": 528,
    "start_time": "2023-01-23T08:37:33.958Z"
   },
   {
    "duration": 24,
    "start_time": "2023-01-23T08:37:34.488Z"
   },
   {
    "duration": 3,
    "start_time": "2023-01-23T08:37:34.514Z"
   },
   {
    "duration": 577,
    "start_time": "2023-01-23T08:37:34.519Z"
   },
   {
    "duration": 6,
    "start_time": "2023-01-23T08:37:35.100Z"
   },
   {
    "duration": 567,
    "start_time": "2023-01-23T08:37:35.107Z"
   },
   {
    "duration": 2,
    "start_time": "2023-01-23T08:37:35.676Z"
   },
   {
    "duration": 508,
    "start_time": "2023-01-23T08:37:35.679Z"
   },
   {
    "duration": 3,
    "start_time": "2023-01-23T08:37:36.189Z"
   },
   {
    "duration": 518,
    "start_time": "2023-01-23T08:37:36.194Z"
   },
   {
    "duration": 2,
    "start_time": "2023-01-23T08:37:36.713Z"
   },
   {
    "duration": 4169,
    "start_time": "2023-01-23T08:37:36.717Z"
   },
   {
    "duration": 3,
    "start_time": "2023-01-23T08:37:49.765Z"
   },
   {
    "duration": 498,
    "start_time": "2023-01-23T08:37:51.435Z"
   },
   {
    "duration": 4,
    "start_time": "2023-01-23T08:37:59.763Z"
   },
   {
    "duration": 584,
    "start_time": "2023-01-23T08:38:01.511Z"
   },
   {
    "duration": 508,
    "start_time": "2023-01-24T16:30:29.164Z"
   },
   {
    "duration": 11,
    "start_time": "2023-01-24T16:30:29.674Z"
   },
   {
    "duration": 5,
    "start_time": "2023-01-24T16:30:29.687Z"
   },
   {
    "duration": 376,
    "start_time": "2023-01-24T16:30:29.693Z"
   },
   {
    "duration": 2,
    "start_time": "2023-01-24T16:30:30.071Z"
   },
   {
    "duration": 337,
    "start_time": "2023-01-24T16:30:30.075Z"
   },
   {
    "duration": 3,
    "start_time": "2023-01-24T16:30:30.413Z"
   },
   {
    "duration": 392,
    "start_time": "2023-01-24T16:30:30.417Z"
   },
   {
    "duration": 3,
    "start_time": "2023-01-24T16:30:30.810Z"
   },
   {
    "duration": 374,
    "start_time": "2023-01-24T16:30:30.815Z"
   },
   {
    "duration": 2,
    "start_time": "2023-01-24T16:30:31.192Z"
   },
   {
    "duration": 3052,
    "start_time": "2023-01-24T16:30:31.196Z"
   },
   {
    "duration": 3,
    "start_time": "2023-01-24T16:30:34.249Z"
   },
   {
    "duration": 4920,
    "start_time": "2023-01-24T16:30:34.253Z"
   },
   {
    "duration": 3507,
    "start_time": "2023-01-24T16:30:39.175Z"
   }
  ],
  "kernelspec": {
   "display_name": "Python 3 (ipykernel)",
   "language": "python",
   "name": "python3"
  },
  "language_info": {
   "codemirror_mode": {
    "name": "ipython",
    "version": 3
   },
   "file_extension": ".py",
   "mimetype": "text/x-python",
   "name": "python",
   "nbconvert_exporter": "python",
   "pygments_lexer": "ipython3",
   "version": "3.9.12"
  },
  "toc": {
   "base_numbering": 1,
   "nav_menu": {},
   "number_sections": true,
   "sideBar": true,
   "skip_h1_title": true,
   "title_cell": "Table of Contents",
   "title_sidebar": "Contents",
   "toc_cell": false,
   "toc_position": {},
   "toc_section_display": true,
   "toc_window_display": false
  }
 },
 "nbformat": 4,
 "nbformat_minor": 5
}
