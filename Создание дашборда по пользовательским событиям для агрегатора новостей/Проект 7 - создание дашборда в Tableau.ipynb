{
 "cells": [
  {
   "cell_type": "markdown",
   "id": "0cbb56f7",
   "metadata": {},
   "source": [
    "Создание дашборда в Tableau"
   ]
  },
  {
   "cell_type": "code",
   "execution_count": 1,
   "id": "038c3866",
   "metadata": {
    "scrolled": true
   },
   "outputs": [
    {
     "name": "stdout",
     "output_type": "stream",
     "text": [
      "Requirement already satisfied: psycopg2-binary in c:\\users\\bobro\\anaconda3\\lib\\site-packages (2.9.5)\n",
      "   record_id item_topic source_topic age_segment                  dt  visits\n",
      "0    1040597     Деньги         Авто       18-25 2019-09-24 18:32:00       3\n",
      "1    1040598     Деньги         Авто       18-25 2019-09-24 18:35:00       1\n",
      "2    1040599     Деньги         Авто       18-25 2019-09-24 18:54:00       4\n",
      "3    1040600     Деньги         Авто       18-25 2019-09-24 18:55:00      17\n",
      "4    1040601     Деньги         Авто       18-25 2019-09-24 18:56:00      27\n"
     ]
    }
   ],
   "source": [
    "#!/usr/bin/python\n",
    "# -*- coding: utf-8 -*-\n",
    "!pip install psycopg2-binary \n",
    "    # импортируем библиотеки\n",
    "import pandas as pd\n",
    "from sqlalchemy import create_engine\n",
    " \n",
    "db_config = {'user': 'praktikum_student', # имя пользователя\n",
    "            'pwd': 'Sdf4$2;d-d30pp', # пароль\n",
    "            'host': 'rc1b-wcoijxj3yxfsf3fs.mdb.yandexcloud.net',\n",
    "            'port': 6432, # порт подключения\n",
    "            'db': 'data-analyst-zen-project-db'} # название базы данных\n",
    " \n",
    "connection_string = 'postgresql://{}:{}@{}:{}/{}'.format(db_config['user'],\n",
    "                                                db_config['pwd'],\n",
    "                                                db_config['host'],\n",
    "                                                db_config['port'],\n",
    "                                                db_config['db'])\n",
    " \n",
    "engine = create_engine(connection_string)\n",
    " \n",
    "query = '''\n",
    "           SELECT *\n",
    "           FROM dash_visits\n",
    "        '''\n",
    " \n",
    "dash_visits = pd.io.sql.read_sql(query, con = engine)\n",
    " \n",
    "print(dash_visits.head(5))\n",
    " \n",
    "dash_visits.to_csv('dash_visits.csv', index=False)"
   ]
  },
  {
   "cell_type": "markdown",
   "id": "0f256e7a",
   "metadata": {},
   "source": [
    "Ссылка на презентацию"
   ]
  },
  {
   "cell_type": "markdown",
   "id": "dd1da407",
   "metadata": {},
   "source": [
    "https://disk.yandex.ru/i/WbTwbuCNcS32Yg"
   ]
  },
  {
   "cell_type": "markdown",
   "id": "19f30d35",
   "metadata": {},
   "source": [
    "Ссылка на дашборд"
   ]
  },
  {
   "cell_type": "markdown",
   "id": "3b8eebce",
   "metadata": {},
   "source": [
    "https://public.tableau.com/app/profile/marina7800/viz/Dashboard_NPS/Dashboard1#1"
   ]
  }
 ],
 "metadata": {
  "kernelspec": {
   "display_name": "Python 3 (ipykernel)",
   "language": "python",
   "name": "python3"
  },
  "language_info": {
   "codemirror_mode": {
    "name": "ipython",
    "version": 3
   },
   "file_extension": ".py",
   "mimetype": "text/x-python",
   "name": "python",
   "nbconvert_exporter": "python",
   "pygments_lexer": "ipython3",
   "version": "3.9.12"
  }
 },
 "nbformat": 4,
 "nbformat_minor": 5
}
